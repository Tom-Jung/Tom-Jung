{
  "nbformat": 4,
  "nbformat_minor": 0,
  "metadata": {
    "colab": {
      "provenance": [],
      "collapsed_sections": [],
      "toc_visible": true,
      "include_colab_link": true
    },
    "kernelspec": {
      "name": "python3",
      "display_name": "Python 3"
    }
  },
  "cells": [
    {
      "cell_type": "markdown",
      "metadata": {
        "id": "view-in-github",
        "colab_type": "text"
      },
      "source": [
        "<a href=\"https://colab.research.google.com/github/Tom-Jung/Tom-Jung/blob/main/_NumPy_%ED%95%9C%EB%B2%88%EC%97%90_%EC%A0%9C%EB%8C%80%EB%A1%9C_%EB%B0%B0%EC%9A%B0%EA%B8%B0.ipynb\" target=\"_parent\"><img src=\"https://colab.research.google.com/assets/colab-badge.svg\" alt=\"Open In Colab\"/></a>"
      ]
    },
    {
      "cell_type": "markdown",
      "metadata": {
        "id": "J_FfQuu2Tb30"
      },
      "source": [
        "# NumPy 한번에 제대로 배우기"
      ]
    },
    {
      "cell_type": "markdown",
      "metadata": {
        "id": "Zgrrh9T2vs8u"
      },
      "source": [
        "\n",
        "\n",
        "---\n",
        "\n"
      ]
    },
    {
      "cell_type": "markdown",
      "metadata": {
        "id": "oR5hNBH-Retd"
      },
      "source": [
        "## NumPy 특징\n",
        "\n",
        "* Numerical Python의 약자\n",
        "* 고성능 과학 계산용 패키지로 강력한 N차원 배열 객체\n",
        "* 범용적 데이터 처리에 사용 가능한 다차원 컨테이너\n",
        "* 정교한 브로드캐스팅(broadcasting) 기능\n",
        "* 파이썬의 자료형 list와 비슷하지만, 더 빠르고 메모리를 효율적으로 관리\n",
        "* 반복문 없이 데이터 배열에 대한 처리를 지원하여 빠르고 편리\n",
        "* 데이터 과학 도구에 대한 생태계의 핵심을 이루고 있음"
      ]
    },
    {
      "cell_type": "code",
      "metadata": {
        "id": "R9klTdhLQ564"
      },
      "source": [
        "import numpy as np"
      ],
      "execution_count": null,
      "outputs": []
    },
    {
      "cell_type": "code",
      "source": [
        "np.__version__"
      ],
      "metadata": {
        "id": "RzgOcPWaPJKx",
        "outputId": "14690d39-a198-49bb-878b-9ee8012250eb",
        "colab": {
          "base_uri": "https://localhost:8080/",
          "height": 35
        }
      },
      "execution_count": null,
      "outputs": [
        {
          "output_type": "execute_result",
          "data": {
            "text/plain": [
              "'1.21.6'"
            ],
            "application/vnd.google.colaboratory.intrinsic+json": {
              "type": "string"
            }
          },
          "metadata": {},
          "execution_count": 2
        }
      ]
    },
    {
      "cell_type": "markdown",
      "metadata": {
        "id": "2hSWC5ptGyWP"
      },
      "source": [
        "\n",
        "\n",
        "---\n",
        "\n"
      ]
    },
    {
      "cell_type": "markdown",
      "metadata": {
        "id": "1kgkJZFlVUqk"
      },
      "source": [
        "## 배열 생성"
      ]
    },
    {
      "cell_type": "markdown",
      "metadata": {
        "id": "5eQ4sAkMbzm0"
      },
      "source": [
        "### 리스트로 배열 만들기\n"
      ]
    },
    {
      "cell_type": "code",
      "metadata": {
        "id": "Mtod2jcPWVvV",
        "outputId": "f2005f65-8e12-4cd1-9043-5f2277f37c95",
        "colab": {
          "base_uri": "https://localhost:8080/"
        }
      },
      "source": [
        "a1 = np.array([1,2,3,4,5])\n",
        "print(a1)\n",
        "print(type(a1))\n",
        "print(a1.shape)\n",
        "print(a1[0],a1[1],a1[2],a1[3],a1[4])\n",
        "a1[0] = 4\n",
        "a1[1] = 5\n",
        "a1[2] = 6\n",
        "print(a1)"
      ],
      "execution_count": null,
      "outputs": [
        {
          "output_type": "stream",
          "name": "stdout",
          "text": [
            "[1 2 3 4 5]\n",
            "<class 'numpy.ndarray'>\n",
            "(5,)\n",
            "1 2 3 4 5\n",
            "[4 5 6 4 5]\n"
          ]
        }
      ]
    },
    {
      "cell_type": "code",
      "metadata": {
        "id": "vp9tkHH8esXT",
        "outputId": "35f30e2c-5b51-43ed-85e4-00193642f82b",
        "colab": {
          "base_uri": "https://localhost:8080/"
        }
      },
      "source": [
        "a2 = np.array([[1,2,3],[4,5,6],[7,8,9]])\n",
        "print(a2)\n",
        "print(a2.shape)\n",
        "print(a2[0,0],a2[1,1],a2[2,1])"
      ],
      "execution_count": null,
      "outputs": [
        {
          "output_type": "stream",
          "name": "stdout",
          "text": [
            "[[1 2 3]\n",
            " [4 5 6]\n",
            " [7 8 9]]\n",
            "(3, 3)\n",
            "1 5 8\n"
          ]
        }
      ]
    },
    {
      "cell_type": "code",
      "metadata": {
        "id": "Baj4gZ2meuJu",
        "outputId": "a2349c52-8e8b-4a27-93de-1dfeaea0f2e8",
        "colab": {
          "base_uri": "https://localhost:8080/"
        }
      },
      "source": [
        "a3=np.array(([[[1,2,3],[4,5,6],[7,8,9]],\n",
        "              [[1,2,3],[4,5,6],[7,8,9]],\n",
        "              [[1,2,3],[4,5,6],[7,8,9]]]))\n",
        "print(a3)\n",
        "print(a3.shape)"
      ],
      "execution_count": null,
      "outputs": [
        {
          "output_type": "stream",
          "name": "stdout",
          "text": [
            "[[[1 2 3]\n",
            "  [4 5 6]\n",
            "  [7 8 9]]\n",
            "\n",
            " [[1 2 3]\n",
            "  [4 5 6]\n",
            "  [7 8 9]]\n",
            "\n",
            " [[1 2 3]\n",
            "  [4 5 6]\n",
            "  [7 8 9]]]\n",
            "(3, 3, 3)\n"
          ]
        }
      ]
    },
    {
      "cell_type": "markdown",
      "metadata": {
        "id": "PNkKtw4CoSDB"
      },
      "source": [
        "### 배열 생성 및 초기화"
      ]
    },
    {
      "cell_type": "markdown",
      "metadata": {
        "id": "mJVii5p_VfgM"
      },
      "source": [
        "* `zeros()`: 모든 요소를 0으로 초기화"
      ]
    },
    {
      "cell_type": "code",
      "metadata": {
        "id": "W_SF1tVoVTf1",
        "outputId": "a7dc8bb5-942b-4f4e-c3c8-11d23f37905e",
        "colab": {
          "base_uri": "https://localhost:8080/"
        }
      },
      "source": [
        "np.zeros(10)"
      ],
      "execution_count": null,
      "outputs": [
        {
          "output_type": "execute_result",
          "data": {
            "text/plain": [
              "array([0., 0., 0., 0., 0., 0., 0., 0., 0., 0.])"
            ]
          },
          "metadata": {},
          "execution_count": 18
        }
      ]
    },
    {
      "cell_type": "markdown",
      "metadata": {
        "id": "LjYFQrODVqhX"
      },
      "source": [
        "* `ones()`: 모든 요소를 1로 초기화"
      ]
    },
    {
      "cell_type": "code",
      "metadata": {
        "id": "MURoqsMsVeUw",
        "outputId": "09c0615c-613e-46f4-e0e2-d83687eb2aea",
        "colab": {
          "base_uri": "https://localhost:8080/"
        }
      },
      "source": [
        "np.ones(10)\n",
        "np.ones((3,3,3))"
      ],
      "execution_count": null,
      "outputs": [
        {
          "output_type": "execute_result",
          "data": {
            "text/plain": [
              "array([[[1., 1., 1.],\n",
              "        [1., 1., 1.],\n",
              "        [1., 1., 1.]],\n",
              "\n",
              "       [[1., 1., 1.],\n",
              "        [1., 1., 1.],\n",
              "        [1., 1., 1.]],\n",
              "\n",
              "       [[1., 1., 1.],\n",
              "        [1., 1., 1.],\n",
              "        [1., 1., 1.]]])"
            ]
          },
          "metadata": {},
          "execution_count": 26
        }
      ]
    },
    {
      "cell_type": "markdown",
      "metadata": {
        "id": "jnmm3Cj-cGtx"
      },
      "source": [
        "* `full()`: 모든 요소를 지정한 값으로 초기화"
      ]
    },
    {
      "cell_type": "code",
      "metadata": {
        "id": "oscabrdcV7Ny",
        "outputId": "696ebd9f-251a-49f8-81fe-20f9572db8e6",
        "colab": {
          "base_uri": "https://localhost:8080/"
        }
      },
      "source": [
        "np.full((3,3),1.23) "
      ],
      "execution_count": null,
      "outputs": [
        {
          "output_type": "execute_result",
          "data": {
            "text/plain": [
              "array([[1.23, 1.23, 1.23],\n",
              "       [1.23, 1.23, 1.23],\n",
              "       [1.23, 1.23, 1.23]])"
            ]
          },
          "metadata": {},
          "execution_count": 27
        }
      ]
    },
    {
      "cell_type": "markdown",
      "metadata": {
        "id": "0SRI4jbmlIKc"
      },
      "source": [
        "* `eye()`: 단위행렬(identity matrix) 생성\n",
        "  + 주대각선의 원소가 모두 1이고 나머지 원소는 모두 0인 정사각 행렬"
      ]
    },
    {
      "cell_type": "code",
      "metadata": {
        "id": "VceBVLLjk9o5",
        "outputId": "db40b2a2-f7ee-4ac0-8cf0-a1564eac58e2",
        "colab": {
          "base_uri": "https://localhost:8080/"
        }
      },
      "source": [
        "np.eye(3)"
      ],
      "execution_count": null,
      "outputs": [
        {
          "output_type": "execute_result",
          "data": {
            "text/plain": [
              "array([[1., 0., 0.],\n",
              "       [0., 1., 0.],\n",
              "       [0., 0., 1.]])"
            ]
          },
          "metadata": {},
          "execution_count": 28
        }
      ]
    },
    {
      "cell_type": "markdown",
      "metadata": {
        "id": "7CCH1ZMT5R02"
      },
      "source": [
        "* `tri()`: 삼각행렬 생성"
      ]
    },
    {
      "cell_type": "code",
      "metadata": {
        "id": "mLe2Bhj05VYu",
        "outputId": "b53fed97-6c92-43fc-cf74-19e51fca848e",
        "colab": {
          "base_uri": "https://localhost:8080/"
        }
      },
      "source": [
        "np.tri(3)"
      ],
      "execution_count": null,
      "outputs": [
        {
          "output_type": "execute_result",
          "data": {
            "text/plain": [
              "array([[1., 0., 0.],\n",
              "       [1., 1., 0.],\n",
              "       [1., 1., 1.]])"
            ]
          },
          "metadata": {},
          "execution_count": 29
        }
      ]
    },
    {
      "cell_type": "markdown",
      "metadata": {
        "id": "ObZRA4HclZlO"
      },
      "source": [
        "* `empty()`: 초기화되지 않은 배열 생성\n",
        "  + 초기화가 없어서 배열 생성비용 저렴하고 빠름\n",
        "  + 초기화되지 않아서 기존 메모리 위치에 존재하는 값이 있음"
      ]
    },
    {
      "cell_type": "code",
      "metadata": {
        "id": "I3SoFgiglAkz",
        "outputId": "1859083d-4d5d-4b62-b1fa-a0fbcd944db2",
        "colab": {
          "base_uri": "https://localhost:8080/"
        }
      },
      "source": [
        "np.empty(10)"
      ],
      "execution_count": null,
      "outputs": [
        {
          "output_type": "execute_result",
          "data": {
            "text/plain": [
              "array([1., 1., 1., 1., 1., 1., 1., 1., 1., 1.])"
            ]
          },
          "metadata": {},
          "execution_count": 30
        }
      ]
    },
    {
      "cell_type": "markdown",
      "metadata": {
        "id": "p3uSl1Ccmi5_"
      },
      "source": [
        "* `_like()`: 지정된 배열과 shape가 같은 행렬 생성\n",
        "  + `np.zeros_like()`\n",
        "  + `np.ones_like()`\n",
        "  + `np.full_like()`\n",
        "  + `np.empty_like()`"
      ]
    },
    {
      "cell_type": "code",
      "metadata": {
        "id": "Ad5RskRRlZLs",
        "outputId": "750535f2-7df3-45c6-fbc9-cd43f6b7410d",
        "colab": {
          "base_uri": "https://localhost:8080/"
        }
      },
      "source": [
        "np.zeros_like(a1)"
      ],
      "execution_count": null,
      "outputs": [
        {
          "output_type": "execute_result",
          "data": {
            "text/plain": [
              "array([0, 0, 0, 0, 0])"
            ]
          },
          "metadata": {},
          "execution_count": 31
        }
      ]
    },
    {
      "cell_type": "code",
      "metadata": {
        "id": "KChUHsG003Nf",
        "outputId": "47ae3531-13df-4f11-aa44-89f6febbee70",
        "colab": {
          "base_uri": "https://localhost:8080/"
        }
      },
      "source": [
        "np.ones_like(a2)"
      ],
      "execution_count": null,
      "outputs": [
        {
          "output_type": "execute_result",
          "data": {
            "text/plain": [
              "array([[1, 1, 1],\n",
              "       [1, 1, 1],\n",
              "       [1, 1, 1]])"
            ]
          },
          "metadata": {},
          "execution_count": 32
        }
      ]
    },
    {
      "cell_type": "code",
      "metadata": {
        "id": "PUnDz6b305Gg",
        "outputId": "4a4cfa51-fd7c-4531-9f7d-2c60141f90cb",
        "colab": {
          "base_uri": "https://localhost:8080/"
        }
      },
      "source": [
        "print(a3)\n",
        "np.full_like(a3,10)"
      ],
      "execution_count": null,
      "outputs": [
        {
          "output_type": "stream",
          "name": "stdout",
          "text": [
            "[[[1 2 3]\n",
            "  [4 5 6]\n",
            "  [7 8 9]]\n",
            "\n",
            " [[1 2 3]\n",
            "  [4 5 6]\n",
            "  [7 8 9]]\n",
            "\n",
            " [[1 2 3]\n",
            "  [4 5 6]\n",
            "  [7 8 9]]]\n"
          ]
        },
        {
          "output_type": "execute_result",
          "data": {
            "text/plain": [
              "array([[[10, 10, 10],\n",
              "        [10, 10, 10],\n",
              "        [10, 10, 10]],\n",
              "\n",
              "       [[10, 10, 10],\n",
              "        [10, 10, 10],\n",
              "        [10, 10, 10]],\n",
              "\n",
              "       [[10, 10, 10],\n",
              "        [10, 10, 10],\n",
              "        [10, 10, 10]]])"
            ]
          },
          "metadata": {},
          "execution_count": 34
        }
      ]
    },
    {
      "cell_type": "markdown",
      "metadata": {
        "id": "apoksGJNrn1z"
      },
      "source": [
        "### 생성한 값으로 배열 생성"
      ]
    },
    {
      "cell_type": "markdown",
      "metadata": {
        "id": "H3nmLct8cnV8"
      },
      "source": [
        "* `arange()`: 정수 범위로 배열 생성"
      ]
    },
    {
      "cell_type": "code",
      "metadata": {
        "id": "mANy4WY4cDKa"
      },
      "source": [],
      "execution_count": null,
      "outputs": []
    },
    {
      "cell_type": "markdown",
      "metadata": {
        "id": "s5kET1e6itlo"
      },
      "source": [
        "* `linspace()`: 범위 내에서 균등 간격의 배열 생성"
      ]
    },
    {
      "cell_type": "code",
      "metadata": {
        "id": "u4q9gI7Zcltz"
      },
      "source": [],
      "execution_count": null,
      "outputs": []
    },
    {
      "cell_type": "markdown",
      "metadata": {
        "id": "Eq26d7T3nnAH"
      },
      "source": [
        "* `logspace()`: 범위 내에서 균등간격으로 로그 스케일로 배열 생성"
      ]
    },
    {
      "cell_type": "code",
      "metadata": {
        "id": "-O29WBVEnyXX"
      },
      "source": [],
      "execution_count": null,
      "outputs": []
    },
    {
      "cell_type": "markdown",
      "metadata": {
        "id": "6_88s4_Jr7fO"
      },
      "source": [
        "### 랜덤값으로 배열 생성\n"
      ]
    },
    {
      "cell_type": "markdown",
      "metadata": {
        "id": "CoK1cVUkjNMg"
      },
      "source": [
        "* `random.random()`: 랜덤한 수의 배열 생성"
      ]
    },
    {
      "cell_type": "code",
      "metadata": {
        "id": "qJwccKEnjMze"
      },
      "source": [],
      "execution_count": null,
      "outputs": []
    },
    {
      "cell_type": "markdown",
      "metadata": {
        "id": "BYsAVwA1kvDI"
      },
      "source": [
        "* `random.randint()`: 일정 구간의 랜덤 정수의 배열 생성"
      ]
    },
    {
      "cell_type": "code",
      "metadata": {
        "id": "oR-UszZ_jqfQ"
      },
      "source": [],
      "execution_count": null,
      "outputs": []
    },
    {
      "cell_type": "markdown",
      "metadata": {
        "id": "2r557WHsjrL3"
      },
      "source": [
        "* `random.normal()`: 정규분포(normal distribution)를 고려한 랜덤한 수의 배열 생성\n",
        "* 평균=0, 표준편차=1, 3 x 3 배열"
      ]
    },
    {
      "cell_type": "code",
      "metadata": {
        "id": "Oan3bSpHi2Wq"
      },
      "source": [],
      "execution_count": null,
      "outputs": []
    },
    {
      "cell_type": "markdown",
      "metadata": {
        "id": "fPO-D1rHsrFw"
      },
      "source": [
        "* `random.rand()`: 균등분포(uniform distribution)를 고려한 랜덤한 수의 배열 생성"
      ]
    },
    {
      "cell_type": "code",
      "metadata": {
        "id": "DxiyEjnXnDUT"
      },
      "source": [],
      "execution_count": null,
      "outputs": []
    },
    {
      "cell_type": "markdown",
      "metadata": {
        "id": "IegH2dsPLQgd"
      },
      "source": [
        "* `random.randn()`: 표준 정규 분포(standard normal distribution)를 고려한 랜덤한 수의 배열 생성"
      ]
    },
    {
      "cell_type": "code",
      "metadata": {
        "id": "V61VHa-JLIma"
      },
      "source": [],
      "execution_count": null,
      "outputs": []
    },
    {
      "cell_type": "markdown",
      "metadata": {
        "id": "5ts0cYLQL_pT"
      },
      "source": [
        "### 표준 데이터 타입"
      ]
    },
    {
      "cell_type": "code",
      "metadata": {
        "id": "rxqTqAFKL73y"
      },
      "source": [],
      "execution_count": null,
      "outputs": []
    },
    {
      "cell_type": "code",
      "metadata": {
        "id": "o9TuSl6HIsXr"
      },
      "source": [],
      "execution_count": null,
      "outputs": []
    },
    {
      "cell_type": "code",
      "metadata": {
        "id": "w-TciNfzEhY0"
      },
      "source": [],
      "execution_count": null,
      "outputs": []
    },
    {
      "cell_type": "markdown",
      "metadata": {
        "id": "1qFumu-p-0mQ"
      },
      "source": [
        "### 날짜/시간 배열 생성\n"
      ]
    },
    {
      "cell_type": "code",
      "metadata": {
        "id": "D8ozvTUf-6Rr"
      },
      "source": [],
      "execution_count": null,
      "outputs": []
    },
    {
      "cell_type": "code",
      "metadata": {
        "id": "XIjLUkn6_K3J"
      },
      "source": [],
      "execution_count": null,
      "outputs": []
    },
    {
      "cell_type": "code",
      "metadata": {
        "id": "EO7yE5VR_Wlh"
      },
      "source": [],
      "execution_count": null,
      "outputs": []
    },
    {
      "cell_type": "code",
      "metadata": {
        "id": "3dnOlf9i_kzX"
      },
      "source": [],
      "execution_count": null,
      "outputs": []
    },
    {
      "cell_type": "markdown",
      "metadata": {
        "id": "5AREIamhGxAr"
      },
      "source": [
        "\n",
        "\n",
        "---\n",
        "\n"
      ]
    },
    {
      "cell_type": "markdown",
      "metadata": {
        "id": "d88tkTqbBE5V"
      },
      "source": [
        "## 배열 조회"
      ]
    },
    {
      "cell_type": "markdown",
      "metadata": {
        "id": "vRqwfbjtFnPn"
      },
      "source": [
        "### 배열 속성 정보"
      ]
    },
    {
      "cell_type": "code",
      "metadata": {
        "id": "R5Rlcll7GXrM"
      },
      "source": [],
      "execution_count": null,
      "outputs": []
    },
    {
      "cell_type": "code",
      "metadata": {
        "id": "Na59LwA7KXZV"
      },
      "source": [],
      "execution_count": null,
      "outputs": []
    },
    {
      "cell_type": "code",
      "metadata": {
        "id": "Urzr_LsdLah0"
      },
      "source": [],
      "execution_count": null,
      "outputs": []
    },
    {
      "cell_type": "code",
      "metadata": {
        "id": "jktqh1lsLf4V"
      },
      "source": [],
      "execution_count": null,
      "outputs": []
    },
    {
      "cell_type": "markdown",
      "metadata": {
        "id": "LV1WfdBWFqDu"
      },
      "source": [
        "### 인덱싱(Indexing)"
      ]
    },
    {
      "cell_type": "code",
      "metadata": {
        "id": "Nyb7eDmGFr5m"
      },
      "source": [],
      "execution_count": null,
      "outputs": []
    },
    {
      "cell_type": "code",
      "metadata": {
        "id": "uHMNcQW3Kn-h"
      },
      "source": [],
      "execution_count": null,
      "outputs": []
    },
    {
      "cell_type": "code",
      "metadata": {
        "id": "IX5yDMGiMxYZ"
      },
      "source": [],
      "execution_count": null,
      "outputs": []
    },
    {
      "cell_type": "markdown",
      "metadata": {
        "id": "uSeXu2y_O4cu"
      },
      "source": [
        "### 슬라이싱(Slicing)"
      ]
    },
    {
      "cell_type": "markdown",
      "metadata": {
        "id": "1hikO_6ZPp5m"
      },
      "source": [
        "* 슬라이싱 구문: `a[start:stop:step]`\n",
        "* 기본값: start=0, stop=ndim, step=1"
      ]
    },
    {
      "cell_type": "code",
      "metadata": {
        "id": "PYZOOCoVO7BF"
      },
      "source": [],
      "execution_count": null,
      "outputs": []
    },
    {
      "cell_type": "code",
      "metadata": {
        "id": "oULOFrBQWs1G"
      },
      "source": [],
      "execution_count": null,
      "outputs": []
    },
    {
      "cell_type": "markdown",
      "metadata": {
        "id": "LD52bXAsBgbH"
      },
      "source": [
        "### 불리언 인덱싱(Boolean Indexing)\n",
        "\n",
        "* 배열 각 요소의 선택 여부를 불리언(True or False)로 지정\n",
        "* True 값인 인덱스의 값만 조회"
      ]
    },
    {
      "cell_type": "code",
      "metadata": {
        "id": "pOvNsH2oBgz-"
      },
      "source": [],
      "execution_count": null,
      "outputs": []
    },
    {
      "cell_type": "code",
      "metadata": {
        "id": "EFfquM2kWHAU"
      },
      "source": [],
      "execution_count": null,
      "outputs": []
    },
    {
      "cell_type": "markdown",
      "metadata": {
        "id": "R5hes-hdBujH"
      },
      "source": [
        "### 팬시 인덱싱(Fancy Indedxing)"
      ]
    },
    {
      "cell_type": "code",
      "metadata": {
        "id": "z-Luw5fzBx30"
      },
      "source": [],
      "execution_count": null,
      "outputs": []
    },
    {
      "cell_type": "code",
      "metadata": {
        "id": "p_Dd0oiJahgj"
      },
      "source": [],
      "execution_count": null,
      "outputs": []
    },
    {
      "cell_type": "markdown",
      "metadata": {
        "id": "F71_PQF1GvTs"
      },
      "source": [
        "\n",
        "\n",
        "---\n",
        "\n"
      ]
    },
    {
      "cell_type": "markdown",
      "metadata": {
        "id": "zDI5yQ58O-IX"
      },
      "source": [
        "## 배열 값 삽입/수정/삭제/복사"
      ]
    },
    {
      "cell_type": "markdown",
      "metadata": {
        "id": "zajd1qpVOQYy"
      },
      "source": [
        "### 배열 값 삽입\n",
        "\n",
        "* `insert()`: 배열의 특정 위치에 값 삽입\n",
        "* axis를 지정하지 않으면 1차원 배열로 변환\n",
        "* 추가할 방향을 axis로 지정\n",
        "* 원본 배열 변경없이 새로운 배열 반환"
      ]
    },
    {
      "cell_type": "code",
      "metadata": {
        "id": "sedRT54rP395"
      },
      "source": [],
      "execution_count": null,
      "outputs": []
    },
    {
      "cell_type": "code",
      "metadata": {
        "id": "zNmu1E4iQ6h-"
      },
      "source": [],
      "execution_count": null,
      "outputs": []
    },
    {
      "cell_type": "markdown",
      "metadata": {
        "id": "OlEzG4ffNjyL"
      },
      "source": [
        "### 배열 값 수정\n",
        "\n",
        "* 배열의 인덱싱으로 접근하여 값 수정"
      ]
    },
    {
      "cell_type": "code",
      "metadata": {
        "id": "ec43i1KWNjeN"
      },
      "source": [],
      "execution_count": null,
      "outputs": []
    },
    {
      "cell_type": "code",
      "metadata": {
        "id": "IApNNx3NOMQh"
      },
      "source": [],
      "execution_count": null,
      "outputs": []
    },
    {
      "cell_type": "markdown",
      "metadata": {
        "id": "emV7DgrITPcn"
      },
      "source": [
        "### 배열 값 삭제\n",
        "\n",
        "* `delete()`: 배열의 특정 위치에 값 삭제\n",
        "* axis를 지정하지 않으면 1차원 배열로 변환\n",
        "* 삭제할 방향을 axis로 지정\n",
        "* 원본 배열 변경없이 새로운 배열 반환"
      ]
    },
    {
      "cell_type": "code",
      "metadata": {
        "id": "I3k_Yx8lTRJ2"
      },
      "source": [],
      "execution_count": null,
      "outputs": []
    },
    {
      "cell_type": "code",
      "metadata": {
        "id": "tRTwMIfJTq_y"
      },
      "source": [],
      "execution_count": null,
      "outputs": []
    },
    {
      "cell_type": "markdown",
      "metadata": {
        "id": "UydkYxV8Z6Fx"
      },
      "source": [
        "### 배열 복사\n",
        "\n",
        "* 리스트 자료형과 달리 배열의 슬라이스는 복사본이 아님"
      ]
    },
    {
      "cell_type": "code",
      "metadata": {
        "id": "n2_0L8KWZ7wH"
      },
      "source": [],
      "execution_count": null,
      "outputs": []
    },
    {
      "cell_type": "markdown",
      "metadata": {
        "id": "UrQqOC1Eat5l"
      },
      "source": [
        "\n",
        "* `copy()`: 배열이나 하위 배열 내의 값을 명시적으로 복사"
      ]
    },
    {
      "cell_type": "code",
      "metadata": {
        "id": "hLBZ7Qn6bAKO"
      },
      "source": [],
      "execution_count": null,
      "outputs": []
    },
    {
      "cell_type": "markdown",
      "metadata": {
        "id": "4HTc9FXOGtA7"
      },
      "source": [
        "\n",
        "\n",
        "---\n",
        "\n"
      ]
    },
    {
      "cell_type": "markdown",
      "metadata": {
        "id": "XVZY082__yV6"
      },
      "source": [
        "## 배열 변환"
      ]
    },
    {
      "cell_type": "markdown",
      "metadata": {
        "id": "Ec09aPeBO58M"
      },
      "source": [
        "### 배열 전치 및 축 변경"
      ]
    },
    {
      "cell_type": "code",
      "metadata": {
        "id": "anYByBpoWZmj"
      },
      "source": [],
      "execution_count": null,
      "outputs": []
    },
    {
      "cell_type": "code",
      "metadata": {
        "id": "wg4XC6kiRnZo"
      },
      "source": [],
      "execution_count": null,
      "outputs": []
    },
    {
      "cell_type": "code",
      "metadata": {
        "id": "6lPwXL8rRTfI"
      },
      "source": [],
      "execution_count": null,
      "outputs": []
    },
    {
      "cell_type": "code",
      "metadata": {
        "id": "oLbEHtijRewH"
      },
      "source": [],
      "execution_count": null,
      "outputs": []
    },
    {
      "cell_type": "markdown",
      "metadata": {
        "id": "M7xN8WdOdb_S"
      },
      "source": [
        "### 배열 재구조화\n"
      ]
    },
    {
      "cell_type": "markdown",
      "metadata": {
        "id": "JwZJMpXGfY0V"
      },
      "source": [
        "* `reshape()`: 배열의 형상을 변경"
      ]
    },
    {
      "cell_type": "code",
      "metadata": {
        "id": "SlGQ17VQdd8i"
      },
      "source": [],
      "execution_count": null,
      "outputs": []
    },
    {
      "cell_type": "markdown",
      "metadata": {
        "id": "y_U1W-fQfuQY"
      },
      "source": [
        "* `newaxis()`: 새로운 축 추가"
      ]
    },
    {
      "cell_type": "code",
      "metadata": {
        "id": "COif_weCfkGo"
      },
      "source": [],
      "execution_count": null,
      "outputs": []
    },
    {
      "cell_type": "markdown",
      "metadata": {
        "id": "FR82RSDggbcJ"
      },
      "source": [
        "### 배열 크기 변경"
      ]
    },
    {
      "cell_type": "markdown",
      "metadata": {
        "id": "D1LuDMVFl4tc"
      },
      "source": [
        "* 배열 모양만 변경"
      ]
    },
    {
      "cell_type": "code",
      "metadata": {
        "id": "7B6pHlfxgdSJ"
      },
      "source": [],
      "execution_count": null,
      "outputs": []
    },
    {
      "cell_type": "markdown",
      "metadata": {
        "id": "s0adm-h9l6sv"
      },
      "source": [
        "* 배열 크기 증가\n",
        "* 남은 공간은 0으로 채워짐"
      ]
    },
    {
      "cell_type": "code",
      "metadata": {
        "id": "IrX0UcjrlWRV"
      },
      "source": [],
      "execution_count": null,
      "outputs": []
    },
    {
      "cell_type": "markdown",
      "metadata": {
        "id": "78hPDEzfl9JB"
      },
      "source": [
        "* 배열 크기 감소\n",
        "* 포함되지 않은 값은 삭제됨"
      ]
    },
    {
      "cell_type": "code",
      "metadata": {
        "id": "fJWrwhc6lmjW"
      },
      "source": [],
      "execution_count": null,
      "outputs": []
    },
    {
      "cell_type": "markdown",
      "metadata": {
        "id": "r9z2gD_pHyx9"
      },
      "source": [
        "### 배열 추가\n",
        "\n",
        "* `append()`: 배열의 끝에 값 추가"
      ]
    },
    {
      "cell_type": "code",
      "metadata": {
        "id": "fH4lpQKNH5s1"
      },
      "source": [],
      "execution_count": null,
      "outputs": []
    },
    {
      "cell_type": "markdown",
      "metadata": {
        "id": "n8SMl5VVIquk"
      },
      "source": [
        "* axis 지정이 없으면 1차원 배열 형태로 변형되어 결합"
      ]
    },
    {
      "cell_type": "code",
      "metadata": {
        "id": "LRltk3yFIVsV"
      },
      "source": [],
      "execution_count": null,
      "outputs": []
    },
    {
      "cell_type": "markdown",
      "metadata": {
        "id": "sVW2UFVZJfpR"
      },
      "source": [
        "* axis를 0으로 지정\n",
        "* shape[0]을 제외한 나머지 shape은 같아야 함"
      ]
    },
    {
      "cell_type": "code",
      "metadata": {
        "id": "nwJ4xLOeIbMg"
      },
      "source": [],
      "execution_count": null,
      "outputs": []
    },
    {
      "cell_type": "markdown",
      "metadata": {
        "id": "4YXxzygaJmj-"
      },
      "source": [
        "* axis를 1로 지정\n",
        "* shape[1]을 제외한 나머지 shape은 같아야 함"
      ]
    },
    {
      "cell_type": "code",
      "metadata": {
        "id": "JYE4_5gAJmYe"
      },
      "source": [],
      "execution_count": null,
      "outputs": []
    },
    {
      "cell_type": "markdown",
      "metadata": {
        "id": "9sTza3b2hoe4"
      },
      "source": [
        "### 배열 연결"
      ]
    },
    {
      "cell_type": "markdown",
      "metadata": {
        "id": "TRun2NPYj8Ct"
      },
      "source": [
        "* `concatenate()`: 튜플이나 배열의 리스트를 인수로 사용해 배열 연결"
      ]
    },
    {
      "cell_type": "code",
      "metadata": {
        "id": "lmEqdPifhrB_"
      },
      "source": [],
      "execution_count": null,
      "outputs": []
    },
    {
      "cell_type": "code",
      "metadata": {
        "id": "IkoTNIt2k0tp"
      },
      "source": [],
      "execution_count": null,
      "outputs": []
    },
    {
      "cell_type": "code",
      "metadata": {
        "id": "vX0SCYX3lEs2"
      },
      "source": [],
      "execution_count": null,
      "outputs": []
    },
    {
      "cell_type": "code",
      "metadata": {
        "id": "Rv6xGva7lxHP"
      },
      "source": [],
      "execution_count": null,
      "outputs": []
    },
    {
      "cell_type": "markdown",
      "metadata": {
        "id": "MbiBbx4nl2KD"
      },
      "source": [
        "* `vstack()`: 수직 스택(vertical stack), 1차원으로 연결"
      ]
    },
    {
      "cell_type": "code",
      "metadata": {
        "id": "HkHJwdBMl_qi"
      },
      "source": [],
      "execution_count": null,
      "outputs": []
    },
    {
      "cell_type": "markdown",
      "metadata": {
        "id": "-hTlAnWxmHA_"
      },
      "source": [
        "* `hstack()`: 수평 스택(horizontal stack), 2차원으로 연결"
      ]
    },
    {
      "cell_type": "code",
      "metadata": {
        "id": "-HsGlAytmNEz"
      },
      "source": [],
      "execution_count": null,
      "outputs": []
    },
    {
      "cell_type": "markdown",
      "metadata": {
        "id": "CshM6LURmUhV"
      },
      "source": [
        "* `dstack()`: 깊이 스택(depth stack), 3차원으로 연결"
      ]
    },
    {
      "cell_type": "code",
      "metadata": {
        "id": "TFBdRddpmU4m"
      },
      "source": [],
      "execution_count": null,
      "outputs": []
    },
    {
      "cell_type": "markdown",
      "metadata": {
        "id": "JUBtc4UnpaSz"
      },
      "source": [
        "* `stack()`: 새로운 차원으로 연결"
      ]
    },
    {
      "cell_type": "code",
      "metadata": {
        "id": "JzoujQ9_pHS5"
      },
      "source": [],
      "execution_count": null,
      "outputs": []
    },
    {
      "cell_type": "markdown",
      "metadata": {
        "id": "eYz74NYKo8iH"
      },
      "source": [
        "### 배열 분할"
      ]
    },
    {
      "cell_type": "markdown",
      "metadata": {
        "id": "wjt2zku5pBmF"
      },
      "source": [
        "* `split()`: 배열 분할"
      ]
    },
    {
      "cell_type": "code",
      "metadata": {
        "id": "H_2e71heo-Eq"
      },
      "source": [],
      "execution_count": null,
      "outputs": []
    },
    {
      "cell_type": "markdown",
      "metadata": {
        "id": "IvvdCQcKsCLn"
      },
      "source": [
        "* `vsplit()`: 수직 분할, 1차원으로 분할"
      ]
    },
    {
      "cell_type": "code",
      "metadata": {
        "id": "GdMYlsiLsCoe"
      },
      "source": [],
      "execution_count": null,
      "outputs": []
    },
    {
      "cell_type": "markdown",
      "metadata": {
        "id": "1aC0a034rSXi"
      },
      "source": [
        "* `hsplit()`: 수평 분할, 2차원으로 분할"
      ]
    },
    {
      "cell_type": "code",
      "metadata": {
        "id": "ShMnE_bnrSBJ"
      },
      "source": [],
      "execution_count": null,
      "outputs": []
    },
    {
      "cell_type": "markdown",
      "metadata": {
        "id": "Pz3BDD8qsQER"
      },
      "source": [
        "* `dsplit()`: 깊이 분할, 3차원으로 분할"
      ]
    },
    {
      "cell_type": "code",
      "metadata": {
        "id": "DqHFGd43sQYj"
      },
      "source": [],
      "execution_count": null,
      "outputs": []
    },
    {
      "cell_type": "markdown",
      "metadata": {
        "id": "rK-zrDZuGoVd"
      },
      "source": [
        "\n",
        "\n",
        "---\n",
        "\n"
      ]
    },
    {
      "cell_type": "markdown",
      "metadata": {
        "id": "Vc-iSWewJ3C1"
      },
      "source": [
        "## 배열 연산\n",
        "\n",
        "* NumPy의 배열 연산은 벡터화(vectorized) 연산을 사용\n",
        "* 일반적으로 NumPy의 범용 함수(universal functions)를 통해 구현\n",
        "* 배열 요소에 대한 반복적인 계산을 효율적으로 수행"
      ]
    },
    {
      "cell_type": "markdown",
      "metadata": {
        "id": "Pg2er1A2w3cz"
      },
      "source": [
        "### 브로드캐스팅(Broadcasting)"
      ]
    },
    {
      "cell_type": "code",
      "metadata": {
        "id": "IGU-HRgr20nj"
      },
      "source": [],
      "execution_count": null,
      "outputs": []
    },
    {
      "cell_type": "code",
      "metadata": {
        "id": "IAzsmIAn1HNt"
      },
      "source": [],
      "execution_count": null,
      "outputs": []
    },
    {
      "cell_type": "markdown",
      "metadata": {
        "id": "NZzLHHLmwl_b"
      },
      "source": [
        "### 산술 연산(Arithmetic Operators)"
      ]
    },
    {
      "cell_type": "code",
      "metadata": {
        "id": "jHrIjHGEi05k"
      },
      "source": [],
      "execution_count": null,
      "outputs": []
    },
    {
      "cell_type": "code",
      "metadata": {
        "id": "sMUYzXk3psgC"
      },
      "source": [],
      "execution_count": null,
      "outputs": []
    },
    {
      "cell_type": "code",
      "metadata": {
        "id": "ZkyjPmk5onPK"
      },
      "source": [],
      "execution_count": null,
      "outputs": []
    },
    {
      "cell_type": "markdown",
      "metadata": {
        "id": "hxG_aECas3a9"
      },
      "source": [
        "#### 절대값 함수(Absolute Function)\n",
        "\n",
        "* `absolute()`, `abs()`: 내장된 절대값 함수"
      ]
    },
    {
      "cell_type": "code",
      "metadata": {
        "id": "YmX-0LvWs7qM"
      },
      "source": [],
      "execution_count": null,
      "outputs": []
    },
    {
      "cell_type": "markdown",
      "metadata": {
        "id": "U5uE3sVtzRvA"
      },
      "source": [
        "#### 제곱/제곱근 함수\n",
        "\n",
        "* `square`, `sqrt`: 제곱, 제곱근 함수"
      ]
    },
    {
      "cell_type": "code",
      "metadata": {
        "id": "ggnIxDGzzTfX"
      },
      "source": [],
      "execution_count": null,
      "outputs": []
    },
    {
      "cell_type": "markdown",
      "metadata": {
        "id": "tWh1aQ50vRhB"
      },
      "source": [
        "#### 지수와 로그 함수 (Exponential and Log Function)"
      ]
    },
    {
      "cell_type": "code",
      "metadata": {
        "id": "Dygt3AyHvTZz"
      },
      "source": [],
      "execution_count": null,
      "outputs": []
    },
    {
      "cell_type": "code",
      "metadata": {
        "id": "YB0BzwxDvnkT"
      },
      "source": [],
      "execution_count": null,
      "outputs": []
    },
    {
      "cell_type": "markdown",
      "metadata": {
        "id": "wE_p9AxjtdJ9"
      },
      "source": [
        "#### 삼각 함수(Trigonometrical Function)\n"
      ]
    },
    {
      "cell_type": "code",
      "metadata": {
        "id": "6bOSPS81tuo5"
      },
      "source": [],
      "execution_count": null,
      "outputs": []
    },
    {
      "cell_type": "code",
      "metadata": {
        "id": "v7m-AQW9uJ9u"
      },
      "source": [],
      "execution_count": null,
      "outputs": []
    },
    {
      "cell_type": "markdown",
      "metadata": {
        "id": "hKJtYUVWwxQy"
      },
      "source": [
        "### 집계 함수(Aggregate Functions)"
      ]
    },
    {
      "cell_type": "markdown",
      "metadata": {
        "id": "GdxMrX5l9m6W"
      },
      "source": [
        "#### sum(): 합 계산"
      ]
    },
    {
      "cell_type": "code",
      "metadata": {
        "id": "AJQ3GjLI0cZU"
      },
      "source": [],
      "execution_count": null,
      "outputs": []
    },
    {
      "cell_type": "markdown",
      "metadata": {
        "id": "U4W4iIb9J4Zd"
      },
      "source": [
        "#### cumsum(): 누적합 계산"
      ]
    },
    {
      "cell_type": "code",
      "metadata": {
        "id": "SRZWZD3UJ4wo"
      },
      "source": [],
      "execution_count": null,
      "outputs": []
    },
    {
      "cell_type": "markdown",
      "metadata": {
        "id": "pVaJRWQ-LV0f"
      },
      "source": [
        "#### diff(): 차분 계산"
      ]
    },
    {
      "cell_type": "code",
      "metadata": {
        "id": "yKjnWtGVLWJj"
      },
      "source": [],
      "execution_count": null,
      "outputs": []
    },
    {
      "cell_type": "markdown",
      "metadata": {
        "id": "b6I38HfA9vGL"
      },
      "source": [
        "#### prod(): 곱 계산"
      ]
    },
    {
      "cell_type": "code",
      "metadata": {
        "id": "rGPMXGe89y0O"
      },
      "source": [],
      "execution_count": null,
      "outputs": []
    },
    {
      "cell_type": "markdown",
      "metadata": {
        "id": "RwaoVUGcKkkE"
      },
      "source": [
        "#### cumprod(): 누적곱 계산"
      ]
    },
    {
      "cell_type": "code",
      "metadata": {
        "id": "jwYoX9inKk4D"
      },
      "source": [],
      "execution_count": null,
      "outputs": []
    },
    {
      "cell_type": "markdown",
      "metadata": {
        "id": "_LMAbL9hMV7T"
      },
      "source": [
        "#### dot()/matmul(): 점곱/행렬곱 계산"
      ]
    },
    {
      "cell_type": "code",
      "metadata": {
        "id": "xC6FBzF0MWW1"
      },
      "source": [],
      "execution_count": null,
      "outputs": []
    },
    {
      "cell_type": "markdown",
      "metadata": {
        "id": "juVk3vnjPu31"
      },
      "source": [
        "#### tensordot(): 텐서곱 계산"
      ]
    },
    {
      "cell_type": "code",
      "metadata": {
        "id": "3LrcLOcjPvNI"
      },
      "source": [],
      "execution_count": null,
      "outputs": []
    },
    {
      "cell_type": "markdown",
      "metadata": {
        "id": "UzmZhB5TNRMX"
      },
      "source": [
        "#### cross(): 벡터곱"
      ]
    },
    {
      "cell_type": "code",
      "metadata": {
        "id": "xvT2hy1FNRkU"
      },
      "source": [],
      "execution_count": null,
      "outputs": []
    },
    {
      "cell_type": "markdown",
      "metadata": {
        "id": "SJVYmtrSO5YL"
      },
      "source": [
        "#### inner()/outer(): 내적/외적"
      ]
    },
    {
      "cell_type": "code",
      "metadata": {
        "id": "HJpomax7O5s6"
      },
      "source": [],
      "execution_count": null,
      "outputs": []
    },
    {
      "cell_type": "markdown",
      "metadata": {
        "id": "9CIotQgI_RQ-"
      },
      "source": [
        "#### mean(): 평균 계산"
      ]
    },
    {
      "cell_type": "code",
      "metadata": {
        "id": "g96wAEOT_bUk",
        "colab": {
          "base_uri": "https://localhost:8080/"
        },
        "outputId": "e9c29a64-c0a7-47b6-bb57-c4eafe79e4ee"
      },
      "source": [
        "a2 = np.array([[2,3, 6],\n",
        "               [3,1,7],\n",
        "               [9, 6,7]])\n",
        "print(a2)\n",
        "print(np.mean(a2))\n",
        "print(np.mean(a2, axis=0))\n",
        "print(np.mean(a2, axis=1))"
      ],
      "execution_count": 13,
      "outputs": [
        {
          "output_type": "stream",
          "name": "stdout",
          "text": [
            "[[2 3 6]\n",
            " [3 1 7]\n",
            " [9 6 7]]\n",
            "4.888888888888889\n",
            "[4.66666667 3.33333333 6.66666667]\n",
            "[3.66666667 3.66666667 7.33333333]\n"
          ]
        }
      ]
    },
    {
      "cell_type": "markdown",
      "metadata": {
        "id": "wAG_zijP_Z5o"
      },
      "source": [
        "#### std(): 표준 편차 계산"
      ]
    },
    {
      "cell_type": "code",
      "metadata": {
        "id": "hlpnuyug_TXA",
        "colab": {
          "base_uri": "https://localhost:8080/"
        },
        "outputId": "6d5724b6-102e-4e46-e560-b3a971481081"
      },
      "source": [
        "print(a2)\n",
        "print(np.std(a2))\n",
        "print(np.std(a2, axis=0))\n",
        "print(np.std(a2, axis=1))"
      ],
      "execution_count": 14,
      "outputs": [
        {
          "output_type": "stream",
          "name": "stdout",
          "text": [
            "[[2 3 6]\n",
            " [3 1 7]\n",
            " [9 6 7]]\n",
            "2.5579698740491863\n",
            "[3.09120617 2.05480467 0.47140452]\n",
            "[1.69967317 2.49443826 1.24721913]\n"
          ]
        }
      ]
    },
    {
      "cell_type": "markdown",
      "metadata": {
        "id": "5FFTCCDaAEhx"
      },
      "source": [
        "#### var(): 분산 계산"
      ]
    },
    {
      "cell_type": "code",
      "metadata": {
        "id": "CRMNkSdzAGZG",
        "colab": {
          "base_uri": "https://localhost:8080/"
        },
        "outputId": "945fde5c-bc8c-410f-b2a1-4c485102bda5"
      },
      "source": [
        "print(a2)\n",
        "print(np.var(a2))\n",
        "print(np.var(a2, axis=0))\n",
        "print(np.var(a2, axis=1))"
      ],
      "execution_count": 22,
      "outputs": [
        {
          "output_type": "stream",
          "name": "stdout",
          "text": [
            "[[ 2  3  6]\n",
            " [ 3 10  7]\n",
            " [ 9  6  7]]\n",
            "6.765432098765432\n",
            "[9.55555556 8.22222222 0.22222222]\n",
            "[2.88888889 8.22222222 1.55555556]\n"
          ]
        }
      ]
    },
    {
      "cell_type": "markdown",
      "metadata": {
        "id": "QFeh-4tmCCrU"
      },
      "source": [
        "#### min(): 최소값"
      ]
    },
    {
      "cell_type": "code",
      "source": [
        "print(a2)\n",
        "print(np.min(a2))\n",
        "print(np.min(a2, axis=0))\n",
        "print(np.min(a2, axis=1))"
      ],
      "metadata": {
        "colab": {
          "base_uri": "https://localhost:8080/"
        },
        "id": "fPP80nEcZm43",
        "outputId": "8e070935-2573-4ac9-f3e2-05eb5f2b86c8"
      },
      "execution_count": 17,
      "outputs": [
        {
          "output_type": "stream",
          "name": "stdout",
          "text": [
            "[[2 3 6]\n",
            " [3 1 7]\n",
            " [9 6 7]]\n",
            "1\n",
            "[2 1 6]\n",
            "[2 1 6]\n"
          ]
        }
      ]
    },
    {
      "cell_type": "markdown",
      "metadata": {
        "id": "A3n_JBnBJ2bo"
      },
      "source": [
        "#### max(): 최대값"
      ]
    },
    {
      "cell_type": "code",
      "metadata": {
        "id": "SMNCfYBQCEtf",
        "colab": {
          "base_uri": "https://localhost:8080/"
        },
        "outputId": "73e912a2-5214-4153-d269-53f322f1352a"
      },
      "source": [
        "print(a2)\n",
        "print(np.max(a2))\n",
        "print(np.max(a2, axis=0))\n",
        "print(np.max(a2, axis=1))"
      ],
      "execution_count": 18,
      "outputs": [
        {
          "output_type": "stream",
          "name": "stdout",
          "text": [
            "[[2 3 6]\n",
            " [3 1 7]\n",
            " [9 6 7]]\n",
            "9\n",
            "[9 6 7]\n",
            "[6 7 9]\n"
          ]
        }
      ]
    },
    {
      "cell_type": "code",
      "metadata": {
        "id": "FmuOFKGAJ6Pf"
      },
      "source": [],
      "execution_count": null,
      "outputs": []
    },
    {
      "cell_type": "markdown",
      "metadata": {
        "id": "PvGOKDP0J_5b"
      },
      "source": [
        "#### argmin(): 최소값 인덱스"
      ]
    },
    {
      "cell_type": "code",
      "metadata": {
        "id": "1ILP7L3yKCqA",
        "colab": {
          "base_uri": "https://localhost:8080/"
        },
        "outputId": "51fc00f6-da5c-469a-a8dd-3d224b9f42f9"
      },
      "source": [
        "a2[1,1] = 1\n",
        "print(a2)\n",
        "print(np.argmin(a2))\n",
        "print(np.argmin(a2, axis=0))\n",
        "print(np.argmin(a2, axis=1))"
      ],
      "execution_count": 24,
      "outputs": [
        {
          "output_type": "stream",
          "name": "stdout",
          "text": [
            "[[2 3 6]\n",
            " [3 1 7]\n",
            " [9 6 7]]\n",
            "4\n",
            "[0 1 0]\n",
            "[0 1 1]\n"
          ]
        }
      ]
    },
    {
      "cell_type": "markdown",
      "metadata": {
        "id": "23IcSctIKbUa"
      },
      "source": [
        "#### argmax(): 최대값 인덱스"
      ]
    },
    {
      "cell_type": "code",
      "metadata": {
        "id": "2m21cfCFKd-Q",
        "colab": {
          "base_uri": "https://localhost:8080/"
        },
        "outputId": "aa78bcc8-0f8f-4501-a7c9-06272c24cd0d"
      },
      "source": [
        "print(a2)\n",
        "print(np.argmax(a2))\n",
        "print(np.argmax(a2, axis=0))\n",
        "print(np.argmax(a2, axis=1))"
      ],
      "execution_count": 26,
      "outputs": [
        {
          "output_type": "stream",
          "name": "stdout",
          "text": [
            "[[2 3 6]\n",
            " [3 1 7]\n",
            " [9 6 7]]\n",
            "6\n",
            "[2 2 1]\n",
            "[2 2 0]\n"
          ]
        }
      ]
    },
    {
      "cell_type": "markdown",
      "metadata": {
        "id": "3TjeNFQLKuZb"
      },
      "source": [
        "#### median(): 중앙값"
      ]
    },
    {
      "cell_type": "code",
      "metadata": {
        "id": "kSLN17bpKwv6",
        "colab": {
          "base_uri": "https://localhost:8080/"
        },
        "outputId": "ccccb9c7-037e-4ba8-a1a7-29324d8be4b8"
      },
      "source": [
        "print(a2)\n",
        "print(np.median(a2))\n",
        "print(np.median(a2, axis=0))\n",
        "print(np.median(a2, axis=1))"
      ],
      "execution_count": 27,
      "outputs": [
        {
          "output_type": "stream",
          "name": "stdout",
          "text": [
            "[[2 3 6]\n",
            " [3 1 7]\n",
            " [9 6 7]]\n",
            "6.0\n",
            "[3. 3. 7.]\n",
            "[3. 3. 7.]\n"
          ]
        }
      ]
    },
    {
      "cell_type": "markdown",
      "metadata": {
        "id": "df-Id-nhLs3L"
      },
      "source": [
        "#### percentile(): 백분위 수\n",
        "\n"
      ]
    },
    {
      "cell_type": "code",
      "metadata": {
        "id": "N-TCx9hnLvhK",
        "colab": {
          "base_uri": "https://localhost:8080/"
        },
        "outputId": "abfe706c-2060-4b3d-9cd0-0bc93dfc06d0"
      },
      "source": [
        "a1 = np.array([0, 1, 2, 3])\n",
        "print(a1)\n",
        "print(np.percentile(a1, [0, 20, 40, 60, 80, 100], interpolation='linear'))\n",
        "print(np.percentile(a1, [0, 20, 40, 60, 80, 100], interpolation='higher'))\n",
        "print(np.percentile(a1, [0, 20, 40, 60, 80, 100], interpolation='lower'))\n",
        "print(np.percentile(a1, [0, 20, 40, 60, 80, 100], interpolation='nearest'))\n",
        "print(np.percentile(a1, [0, 20, 40, 60, 80, 100], interpolation='midpoint'))"
      ],
      "execution_count": 29,
      "outputs": [
        {
          "output_type": "stream",
          "name": "stdout",
          "text": [
            "[0 1 2 3]\n",
            "[0.  0.6 1.2 1.8 2.4 3. ]\n",
            "[0 1 2 2 3 3]\n",
            "[0 0 1 1 2 3]\n",
            "[0 1 1 2 2 3]\n",
            "[0.  0.5 1.5 1.5 2.5 3. ]\n"
          ]
        }
      ]
    },
    {
      "cell_type": "markdown",
      "metadata": {
        "id": "x0NnNsvvNDIs"
      },
      "source": [
        "#### any()"
      ]
    },
    {
      "cell_type": "code",
      "metadata": {
        "id": "I1XDqsFxOMvA",
        "colab": {
          "base_uri": "https://localhost:8080/"
        },
        "outputId": "9d36a22d-9226-428d-ca0b-773ff70216fb"
      },
      "source": [
        "a2 = np.array([[False, False, True],\n",
        "              [True, True, True],\n",
        "              [False, True, True]])\n",
        "print(a2)\n",
        "print(np.any(a2, axis=0))\n",
        "print(np.any(a2, axis=1))"
      ],
      "execution_count": 34,
      "outputs": [
        {
          "output_type": "stream",
          "name": "stdout",
          "text": [
            "[[False False  True]\n",
            " [ True  True  True]\n",
            " [False  True  True]]\n",
            "[ True  True  True]\n",
            "[ True  True  True]\n"
          ]
        }
      ]
    },
    {
      "cell_type": "markdown",
      "metadata": {
        "id": "Uw-wjYgyONBZ"
      },
      "source": [
        "#### all()"
      ]
    },
    {
      "cell_type": "code",
      "metadata": {
        "id": "sXi2AHOHONYq",
        "colab": {
          "base_uri": "https://localhost:8080/"
        },
        "outputId": "21fab03d-5340-443b-c997-daabe2154b4a"
      },
      "source": [
        "print(a2)\n",
        "print(np.all(a2, axis=0))\n",
        "print(np.all(a2, axis=1))"
      ],
      "execution_count": 35,
      "outputs": [
        {
          "output_type": "stream",
          "name": "stdout",
          "text": [
            "[[False False  True]\n",
            " [ True  True  True]\n",
            " [False  True  True]]\n",
            "[False False  True]\n",
            "[False  True False]\n"
          ]
        }
      ]
    },
    {
      "cell_type": "markdown",
      "metadata": {
        "id": "0n7lgzmUwqr1"
      },
      "source": [
        "### 비교 연산(Comparison Operators)\n"
      ]
    },
    {
      "cell_type": "code",
      "metadata": {
        "id": "E00V-nBTVnCu",
        "colab": {
          "base_uri": "https://localhost:8080/"
        },
        "outputId": "eb7cc728-eec6-4931-ca91-f36f000dfca5"
      },
      "source": [
        "a1 = np.arange(1, 10)\n",
        "print(a1)\n",
        "print(a1 == 5)\n",
        "print(a1 != 5)\n",
        "print(a1 < 5)\n",
        "print(a1 <= 5)\n",
        "print(a1 > 5)\n",
        "print(a1 >= 5)"
      ],
      "execution_count": 39,
      "outputs": [
        {
          "output_type": "stream",
          "name": "stdout",
          "text": [
            "[1 2 3 4 5 6 7 8 9]\n",
            "[False False False False  True False False False False]\n",
            "[ True  True  True  True False  True  True  True  True]\n",
            "[ True  True  True  True False False False False False]\n",
            "[ True  True  True  True  True False False False False]\n",
            "[False False False False False  True  True  True  True]\n",
            "[False False False False  True  True  True  True  True]\n"
          ]
        }
      ]
    },
    {
      "cell_type": "code",
      "metadata": {
        "id": "3MwV1CU1WsWS",
        "colab": {
          "base_uri": "https://localhost:8080/"
        },
        "outputId": "1ff32c20-e599-4f9b-c605-8de556c0d917"
      },
      "source": [
        "a2 = np.arange(1, 10).reshape(3,3)\n",
        "print(a2)\n",
        "print(np.sum(a2))\n",
        "print(np.count_nonzero(a2>5))\n",
        "print(np.sum(a2 > 5))\n",
        "print(np.sum(a2 >5, axis=0))\n",
        "print(np.sum(a2 >5, axis=1))\n",
        "print(np.any(a2>5))\n",
        "print(np.any(a2 >5, axis=0))\n",
        "print(np.any(a2 >5, axis=1))\n",
        "print(np.all(a2>5))\n",
        "print(np.all(a2 >5, axis=0))\n",
        "print(np.all(a2 >5, axis=1))"
      ],
      "execution_count": 47,
      "outputs": [
        {
          "output_type": "stream",
          "name": "stdout",
          "text": [
            "[[1 2 3]\n",
            " [4 5 6]\n",
            " [7 8 9]]\n",
            "45\n",
            "4\n",
            "4\n",
            "[1 1 2]\n",
            "[0 1 3]\n",
            "True\n",
            "[ True  True  True]\n",
            "[False  True  True]\n",
            "False\n",
            "[False False False]\n",
            "[False False  True]\n"
          ]
        }
      ]
    },
    {
      "cell_type": "code",
      "metadata": {
        "id": "D4cuMoyEPn8R",
        "colab": {
          "base_uri": "https://localhost:8080/"
        },
        "outputId": "5dfe1b15-c2da-46a1-fb86-ffdc7873d196"
      },
      "source": [
        "a1 = np.array([1, 2, 3, 4, 5])\n",
        "print(a1)\n",
        "b1 = np.array([1, 2, 3, 3, 4])\n",
        "print(b1)\n",
        "print(np.isclose(a1, b1))\n"
      ],
      "execution_count": 49,
      "outputs": [
        {
          "output_type": "stream",
          "name": "stdout",
          "text": [
            "[1 2 3 4 5]\n",
            "[1 2 3 3 4]\n",
            "[ True  True  True False False]\n"
          ]
        }
      ]
    },
    {
      "cell_type": "code",
      "metadata": {
        "id": "af9VSc6FyMBh",
        "colab": {
          "base_uri": "https://localhost:8080/"
        },
        "outputId": "30e3e873-a7a5-4818-8282-9e9824b25c60"
      },
      "source": [
        "a1 = np. array([np.nan, 2, np.inf, 4, np.NINF])\n",
        "print(a1)\n",
        "print(np.isnan(a1))\n",
        "print(np.isinf(a1))\n",
        "print(np.isfinite(a1))"
      ],
      "execution_count": 55,
      "outputs": [
        {
          "output_type": "stream",
          "name": "stdout",
          "text": [
            "[ nan   2.  inf   4. -inf]\n",
            "[ True False False False False]\n",
            "[False False  True False  True]\n",
            "[False  True False  True False]\n"
          ]
        }
      ]
    },
    {
      "cell_type": "markdown",
      "metadata": {
        "id": "4BHMetMlYmt-"
      },
      "source": [
        "#### 불리언 연산자(Boolean Operators)\n"
      ]
    },
    {
      "cell_type": "code",
      "metadata": {
        "id": "ZV1-8DkUHOZq",
        "colab": {
          "base_uri": "https://localhost:8080/"
        },
        "outputId": "749d922a-c40f-4410-cb11-6ec84649b827"
      },
      "source": [
        "a2 =np.arange(1, 10).reshape(3, 3)\n",
        "print(a2)\n",
        "\n",
        "print((a2 > 5) & (a2 < 8))\n",
        "print(a2[(a2 > 5) & (a2 < 8)])\n",
        "\n",
        "print((a2 > 5) | (a2 < 8))\n",
        "print(a2[(a2 > 5) | (a2 < 8)])\n",
        "\n",
        "print((a2 > 5) ^ (a2 < 8))\n",
        "print(a2[(a2 > 5) ^ (a2 < 8)])\n",
        "\n",
        "print(~(a2 > 5))\n",
        "print(a2[~(a2 > 5)])"
      ],
      "execution_count": 63,
      "outputs": [
        {
          "output_type": "stream",
          "name": "stdout",
          "text": [
            "[[1 2 3]\n",
            " [4 5 6]\n",
            " [7 8 9]]\n",
            "[[False False False]\n",
            " [False False  True]\n",
            " [ True False False]]\n",
            "[6 7]\n",
            "[[ True  True  True]\n",
            " [ True  True  True]\n",
            " [ True  True  True]]\n",
            "[1 2 3 4 5 6 7 8 9]\n",
            "[[ True  True  True]\n",
            " [ True  True False]\n",
            " [False  True  True]]\n",
            "[1 2 3 4 5 8 9]\n",
            "[[ True  True  True]\n",
            " [ True  True False]\n",
            " [False False False]]\n",
            "[1 2 3 4 5]\n"
          ]
        }
      ]
    },
    {
      "cell_type": "markdown",
      "metadata": {
        "id": "FlQJVeGBxIFw"
      },
      "source": [
        "### 배열 정렬"
      ]
    },
    {
      "cell_type": "code",
      "metadata": {
        "id": "x0sodUMqLU37",
        "colab": {
          "base_uri": "https://localhost:8080/"
        },
        "outputId": "345d87d2-61d7-480f-94f2-36b20db6859a"
      },
      "source": [
        "a1 = np.random.randint(1, 10, size=10)\n",
        "print(a1)\n",
        "print(np.sort(a1))\n",
        "print(a1)\n",
        "print(np.argsort(a1))\n",
        "print(a1)\n",
        "print(a1.sort())\n",
        "print(a1)"
      ],
      "execution_count": 68,
      "outputs": [
        {
          "output_type": "stream",
          "name": "stdout",
          "text": [
            "[6 2 1 3 9 8 3 2 2 8]\n",
            "[1 2 2 2 3 3 6 8 8 9]\n",
            "[6 2 1 3 9 8 3 2 2 8]\n",
            "[2 1 7 8 3 6 0 5 9 4]\n",
            "[6 2 1 3 9 8 3 2 2 8]\n",
            "None\n",
            "[1 2 2 2 3 3 6 8 8 9]\n"
          ]
        }
      ]
    },
    {
      "cell_type": "code",
      "metadata": {
        "id": "FO_sO5POzeMp",
        "colab": {
          "base_uri": "https://localhost:8080/"
        },
        "outputId": "5ff23223-fec7-4460-9654-14682d5f8b67"
      },
      "source": [
        "a2 = np.random.randint(1, 10, size=(3, 3))\n",
        "print(a2)\n",
        "print(np.sort(a2, axis=0))\n",
        "print(np.sort(a2, axis=1))"
      ],
      "execution_count": 70,
      "outputs": [
        {
          "output_type": "stream",
          "name": "stdout",
          "text": [
            "[[5 3 5]\n",
            " [2 7 7]\n",
            " [1 9 7]]\n",
            "[[1 3 5]\n",
            " [2 7 7]\n",
            " [5 9 7]]\n",
            "[[3 5 5]\n",
            " [2 7 7]\n",
            " [1 7 9]]\n"
          ]
        }
      ]
    },
    {
      "cell_type": "markdown",
      "metadata": {
        "id": "yYSItPz_00sZ"
      },
      "source": [
        "#### 부분 정렬\n",
        "\n",
        "* `partition()`: 배열에서 k개의 작은 값을 반환"
      ]
    },
    {
      "cell_type": "code",
      "metadata": {
        "id": "QQwov4N00YFP",
        "colab": {
          "base_uri": "https://localhost:8080/"
        },
        "outputId": "0409359d-6b29-4390-bad4-05369a47d4fe"
      },
      "source": [
        "a1 = np.random.randint(1,10, size=10)\n",
        "print(a1)\n",
        "print(np.partition(a1,3))"
      ],
      "execution_count": 72,
      "outputs": [
        {
          "output_type": "stream",
          "name": "stdout",
          "text": [
            "[1 4 1 9 5 9 9 2 7 5]\n",
            "[1 1 2 4 5 9 9 9 7 5]\n"
          ]
        }
      ]
    },
    {
      "cell_type": "code",
      "source": [
        "a2 = np.random.randint(1, 10, size=(5,5))\n",
        "print(a2)\n",
        "print(np.partition(a2, 3))\n",
        "print(np.partition(a2, 3, axis=0))\n",
        "print(np.partition(a2, 3, axis=1))"
      ],
      "metadata": {
        "colab": {
          "base_uri": "https://localhost:8080/"
        },
        "id": "KDueFB5UlGfP",
        "outputId": "a6855366-706f-4550-8173-2b894679315f"
      },
      "execution_count": 78,
      "outputs": [
        {
          "output_type": "stream",
          "name": "stdout",
          "text": [
            "[[1 1 8 5 3]\n",
            " [6 9 8 7 5]\n",
            " [9 1 7 4 1]\n",
            " [1 7 9 9 1]\n",
            " [2 4 4 6 2]]\n",
            "[[1 1 3 5 8]\n",
            " [5 6 7 8 9]\n",
            " [4 1 1 7 9]\n",
            " [1 1 7 9 9]\n",
            " [2 2 4 4 6]]\n",
            "[[1 1 4 4 1]\n",
            " [1 1 7 5 1]\n",
            " [2 4 8 6 2]\n",
            " [6 7 8 7 3]\n",
            " [9 9 9 9 5]]\n",
            "[[1 1 3 5 8]\n",
            " [5 6 7 8 9]\n",
            " [4 1 1 7 9]\n",
            " [1 1 7 9 9]\n",
            " [2 2 4 4 6]]\n"
          ]
        }
      ]
    },
    {
      "cell_type": "markdown",
      "metadata": {
        "id": "77DSA72ML5cI"
      },
      "source": [
        "## 배열 입출력\n"
      ]
    },
    {
      "cell_type": "code",
      "metadata": {
        "id": "da-Mm_gzIs7U",
        "colab": {
          "base_uri": "https://localhost:8080/"
        },
        "outputId": "3174cf0f-e9cc-4bd9-a048-e13ede6af93a"
      },
      "source": [
        "a2 = np.random.randint(1, 10, size=(5,5))\n",
        "print(a2)\n",
        "np.save(\"a\", a2)"
      ],
      "execution_count": 81,
      "outputs": [
        {
          "output_type": "stream",
          "name": "stdout",
          "text": [
            "[[9 1 9 4 5]\n",
            " [2 6 1 1 6]\n",
            " [3 5 3 8 7]\n",
            " [6 8 9 8 1]\n",
            " [6 1 9 4 8]]\n"
          ]
        }
      ]
    },
    {
      "cell_type": "code",
      "metadata": {
        "id": "pFOWyDvAsf11",
        "colab": {
          "base_uri": "https://localhost:8080/"
        },
        "outputId": "7b14b2c2-5cb4-4502-9cc3-3b6e800b5322"
      },
      "source": [
        "!ls"
      ],
      "execution_count": 83,
      "outputs": [
        {
          "output_type": "stream",
          "name": "stdout",
          "text": [
            "a.npy  sample_data\n"
          ]
        }
      ]
    },
    {
      "cell_type": "code",
      "metadata": {
        "id": "Hvb_ilyisoIV",
        "colab": {
          "base_uri": "https://localhost:8080/"
        },
        "outputId": "1622f5d7-4d50-480a-8f65-bfe5e050c10d"
      },
      "source": [
        "b2 = np.random.randint(1, 10, size=(5, 5))\n",
        "print(b2)\n",
        "np.savez(\"ab\", a2, b2)"
      ],
      "execution_count": 106,
      "outputs": [
        {
          "output_type": "stream",
          "name": "stdout",
          "text": [
            "[[7 9 7 2 5]\n",
            " [7 6 8 6 3]\n",
            " [1 5 7 4 5]\n",
            " [5 5 2 7 6]\n",
            " [9 7 4 5 5]]\n"
          ]
        }
      ]
    },
    {
      "cell_type": "code",
      "metadata": {
        "id": "ArWZfL31s1wU",
        "colab": {
          "base_uri": "https://localhost:8080/"
        },
        "outputId": "90198087-c73b-43ec-c86b-24486460ceb8"
      },
      "source": [
        "!ls"
      ],
      "execution_count": 107,
      "outputs": [
        {
          "output_type": "stream",
          "name": "stdout",
          "text": [
            "ab.npz\ta.csv  a.npy  b2.csv  sample_data\n"
          ]
        }
      ]
    },
    {
      "cell_type": "code",
      "metadata": {
        "id": "che4cEJEs2Tr",
        "colab": {
          "base_uri": "https://localhost:8080/"
        },
        "outputId": "1b532d43-3340-46da-9724-3008bdbd417d"
      },
      "source": [
        "npy = np.load(\"a.npy\")\n",
        "print(npy)"
      ],
      "execution_count": 108,
      "outputs": [
        {
          "output_type": "stream",
          "name": "stdout",
          "text": [
            "[[9 1 9 4 5]\n",
            " [2 6 1 1 6]\n",
            " [3 5 3 8 7]\n",
            " [6 8 9 8 1]\n",
            " [6 1 9 4 8]]\n"
          ]
        }
      ]
    },
    {
      "cell_type": "code",
      "metadata": {
        "id": "X2yIUsYvtMj6",
        "colab": {
          "base_uri": "https://localhost:8080/"
        },
        "outputId": "53108f9c-647d-44da-dcda-c07b90225870"
      },
      "source": [
        "npz = np.load(\"ab.npz\")\n",
        "print(npz.files)\n",
        "print(npz['arr_0'])\n",
        "print(npz['arr_1'])"
      ],
      "execution_count": 109,
      "outputs": [
        {
          "output_type": "stream",
          "name": "stdout",
          "text": [
            "['arr_0', 'arr_1']\n",
            "[[9 1 9 4 5]\n",
            " [2 6 1 1 6]\n",
            " [3 5 3 8 7]\n",
            " [6 8 9 8 1]\n",
            " [6 1 9 4 8]]\n",
            "[[7 9 7 2 5]\n",
            " [7 6 8 6 3]\n",
            " [1 5 7 4 5]\n",
            " [5 5 2 7 6]\n",
            " [9 7 4 5 5]]\n"
          ]
        }
      ]
    },
    {
      "cell_type": "code",
      "metadata": {
        "id": "Yj5ec-CYtaH1",
        "colab": {
          "base_uri": "https://localhost:8080/"
        },
        "outputId": "276c0b85-273e-4d5f-9182-b8a433274fd1"
      },
      "source": [
        "print(a2)\n",
        "np.savetxt(\"a.csv\",a2, delimiter=',')"
      ],
      "execution_count": 110,
      "outputs": [
        {
          "output_type": "stream",
          "name": "stdout",
          "text": [
            "[[9 1 9 4 5]\n",
            " [2 6 1 1 6]\n",
            " [3 5 3 8 7]\n",
            " [6 8 9 8 1]\n",
            " [6 1 9 4 8]]\n"
          ]
        }
      ]
    },
    {
      "cell_type": "code",
      "metadata": {
        "id": "_NIDrc-VuPmv",
        "colab": {
          "base_uri": "https://localhost:8080/"
        },
        "outputId": "2d62194d-7d70-4d67-8897-c67ab3291406"
      },
      "source": [
        "!ls"
      ],
      "execution_count": 111,
      "outputs": [
        {
          "output_type": "stream",
          "name": "stdout",
          "text": [
            "ab.npz\ta.csv  a.npy  b2.csv  sample_data\n"
          ]
        }
      ]
    },
    {
      "cell_type": "code",
      "metadata": {
        "id": "bPhmIoVBuQMf",
        "colab": {
          "base_uri": "https://localhost:8080/"
        },
        "outputId": "9a0a719b-f531-4fe9-a72c-5132b3145a4d"
      },
      "source": [
        "!cat a.csv"
      ],
      "execution_count": 112,
      "outputs": [
        {
          "output_type": "stream",
          "name": "stdout",
          "text": [
            "9.000000000000000000e+00,1.000000000000000000e+00,9.000000000000000000e+00,4.000000000000000000e+00,5.000000000000000000e+00\n",
            "2.000000000000000000e+00,6.000000000000000000e+00,1.000000000000000000e+00,1.000000000000000000e+00,6.000000000000000000e+00\n",
            "3.000000000000000000e+00,5.000000000000000000e+00,3.000000000000000000e+00,8.000000000000000000e+00,7.000000000000000000e+00\n",
            "6.000000000000000000e+00,8.000000000000000000e+00,9.000000000000000000e+00,8.000000000000000000e+00,1.000000000000000000e+00\n",
            "6.000000000000000000e+00,1.000000000000000000e+00,9.000000000000000000e+00,4.000000000000000000e+00,8.000000000000000000e+00\n"
          ]
        }
      ]
    },
    {
      "cell_type": "code",
      "metadata": {
        "id": "FeB2p4azuTDv",
        "colab": {
          "base_uri": "https://localhost:8080/"
        },
        "outputId": "7268abff-9c37-49ae-fb7a-b3d7d78ea9b0"
      },
      "source": [
        "csv = np.loadtxt(\"a.csv\", delimiter=',')\n",
        "print(csv)"
      ],
      "execution_count": 114,
      "outputs": [
        {
          "output_type": "stream",
          "name": "stdout",
          "text": [
            "[[9. 1. 9. 4. 5.]\n",
            " [2. 6. 1. 1. 6.]\n",
            " [3. 5. 3. 8. 7.]\n",
            " [6. 8. 9. 8. 1.]\n",
            " [6. 1. 9. 4. 8.]]\n"
          ]
        }
      ]
    },
    {
      "cell_type": "code",
      "metadata": {
        "id": "IUg8Vg4fuxR5",
        "colab": {
          "base_uri": "https://localhost:8080/"
        },
        "outputId": "0ac1d22d-90f8-4018-818b-f3aafa1b08a7"
      },
      "source": [
        "print(b2)\n",
        "np.savetxt(\"b2.csv\", b2, delimiter=',', fmt='%.2e', header='c1 c2 c3 c4 c5')"
      ],
      "execution_count": 115,
      "outputs": [
        {
          "output_type": "stream",
          "name": "stdout",
          "text": [
            "[[7 9 7 2 5]\n",
            " [7 6 8 6 3]\n",
            " [1 5 7 4 5]\n",
            " [5 5 2 7 6]\n",
            " [9 7 4 5 5]]\n"
          ]
        }
      ]
    },
    {
      "cell_type": "code",
      "metadata": {
        "id": "lIK5dSv6vtm2",
        "colab": {
          "base_uri": "https://localhost:8080/"
        },
        "outputId": "864f6c80-fa85-42e6-9f2c-03ddb2a71c5b"
      },
      "source": [
        "!cat b2.csv"
      ],
      "execution_count": 117,
      "outputs": [
        {
          "output_type": "stream",
          "name": "stdout",
          "text": [
            "# c1 c2 c3 c4 c5\n",
            "7.00e+00,9.00e+00,7.00e+00,2.00e+00,5.00e+00\n",
            "7.00e+00,6.00e+00,8.00e+00,6.00e+00,3.00e+00\n",
            "1.00e+00,5.00e+00,7.00e+00,4.00e+00,5.00e+00\n",
            "5.00e+00,5.00e+00,2.00e+00,7.00e+00,6.00e+00\n",
            "9.00e+00,7.00e+00,4.00e+00,5.00e+00,5.00e+00\n"
          ]
        }
      ]
    },
    {
      "cell_type": "code",
      "metadata": {
        "id": "l4O-gVxdv8-d",
        "colab": {
          "base_uri": "https://localhost:8080/"
        },
        "outputId": "65cee8ae-e363-42cf-a33c-d30368142865"
      },
      "source": [
        "csv = np.loadtxt(\"b2.csv\", delimiter=',')\n",
        "print(csv)"
      ],
      "execution_count": 118,
      "outputs": [
        {
          "output_type": "stream",
          "name": "stdout",
          "text": [
            "[[7. 9. 7. 2. 5.]\n",
            " [7. 6. 8. 6. 3.]\n",
            " [1. 5. 7. 4. 5.]\n",
            " [5. 5. 2. 7. 6.]\n",
            " [9. 7. 4. 5. 5.]]\n"
          ]
        }
      ]
    },
    {
      "cell_type": "markdown",
      "metadata": {
        "id": "JM2Ghx2NGloN"
      },
      "source": [
        "\n",
        "\n",
        "---\n",
        "\n"
      ]
    }
  ]
}