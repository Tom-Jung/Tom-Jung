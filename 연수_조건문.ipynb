{
  "cells": [
    {
      "cell_type": "markdown",
      "metadata": {
        "id": "view-in-github",
        "colab_type": "text"
      },
      "source": [
        "<a href=\"https://colab.research.google.com/github/Tom-Jung/Tom-Jung/blob/main/%EC%97%B0%EC%88%98_%EC%A1%B0%EA%B1%B4%EB%AC%B8.ipynb\" target=\"_parent\"><img src=\"https://colab.research.google.com/assets/colab-badge.svg\" alt=\"Open In Colab\"/></a>"
      ]
    },
    {
      "cell_type": "code",
      "execution_count": null,
      "metadata": {
        "id": "lIYdn1woOS1n",
        "outputId": "80dd09c3-f059-4f35-a59a-a410b1f58ff7",
        "colab": {
          "base_uri": "https://localhost:8080/"
        }
      },
      "outputs": [
        {
          "output_type": "stream",
          "name": "stdout",
          "text": [
            "불합격입니다. 다음에 응시하시기 바랍니다.\n"
          ]
        }
      ],
      "source": [
        "score =40\n",
        "\n",
        "if score >= 60:\n",
        "  print(\"축하드립니다. 합격입니다\")\n",
        "else:\n",
        "    print(\"불합격입니다. 다음에 응시하시기 바랍니다.\")\n"
      ]
    },
    {
      "cell_type": "code",
      "source": [
        "age = int(input(\"나이를 입력하세요 : \"))\n",
        "\n",
        "if age>=19:\n",
        "  print(\"주류구입가능\")\n",
        "else:\n",
        "  print(\"주류구입불가능\")"
      ],
      "metadata": {
        "id": "LwNy2H7NUqYz",
        "outputId": "a5c17fe0-f877-41a2-e081-8e3c479e9007",
        "colab": {
          "base_uri": "https://localhost:8080/"
        }
      },
      "execution_count": null,
      "outputs": [
        {
          "output_type": "stream",
          "name": "stdout",
          "text": [
            "나이를 입력하세요 : 16\n",
            "주류구입불가능\n"
          ]
        }
      ]
    },
    {
      "cell_type": "code",
      "source": [
        "# 조건문 if 구문만 사용"
      ],
      "metadata": {
        "id": "oqyIve-4VwkY"
      },
      "execution_count": null,
      "outputs": []
    },
    {
      "cell_type": "code",
      "source": [
        "score = 99\n",
        "\n",
        "if score >= 90:\n",
        "  print(\"점수가 90점 이상입니다. 학점은 A등급입니다.\")\n",
        "\n",
        "if score >= 80:\n",
        "  print(\"점수가 80점 이상입니다. 학점은 B등급입니다.\")\n",
        "\n",
        "if score >= 70:\n",
        "  print(\"점수가 70점 이상입니다. 학점은 C등급입니다.\")\n",
        "\n",
        "if score >= 60:\n",
        "  print(\"점수가 60점 이상입니다. 학점은 D등급입니다.\")"
      ],
      "metadata": {
        "id": "5Gq25aWJWKdP",
        "outputId": "a120d3a2-1acf-4df2-f6bb-cd2c4f1e7119",
        "colab": {
          "base_uri": "https://localhost:8080/"
        }
      },
      "execution_count": null,
      "outputs": [
        {
          "output_type": "stream",
          "name": "stdout",
          "text": [
            "점수가 90점 이상입니다. 학점은 A등급입니다.\n",
            "점수가 80점 이상입니다. 학점은 B등급입니다.\n",
            "점수가 70점 이상입니다. 학점은 C등급입니다.\n",
            "점수가 60점 이상입니다. 학점은 D등급입니다.\n"
          ]
        }
      ]
    },
    {
      "cell_type": "code",
      "source": [
        "# 사용자로부터 성별을 이력받아서 해당하는 성별을 출력하는 프로그램 만들기"
      ],
      "metadata": {
        "id": "BJ5qyvpJWK7y"
      },
      "execution_count": null,
      "outputs": []
    },
    {
      "cell_type": "code",
      "source": [
        "gender = input(\"성별을 입력하세요 : \")\n",
        "\n",
        "if gender == \"남자\":\n",
        "  print(\"남자입니다.\")\n",
        "else:\n",
        "  print(\"여자입니다.\")"
      ],
      "metadata": {
        "id": "Rd0pf4kxWK-4",
        "outputId": "16bf4b30-f392-4b6b-9c94-d6900c91f76b",
        "colab": {
          "base_uri": "https://localhost:8080/"
        }
      },
      "execution_count": null,
      "outputs": [
        {
          "output_type": "stream",
          "name": "stdout",
          "text": [
            "성별을 입력하세요 : 여자\n",
            "여자입니다.\n"
          ]
        }
      ]
    },
    {
      "cell_type": "code",
      "source": [
        "# Bool 변수 알아보기\n",
        "# 부울변수의 용도는 플래그 변수 형태로 사용을 많이 한다\n",
        "# 타 프로그래밍 언어에서는 부울변수의 값은 소문자로 시작하는 true, false를 사용하지만 파이썬은 대문자로 시작하는 True, False를 사용"
      ],
      "metadata": {
        "id": "GTGCq-9vWLBK"
      },
      "execution_count": null,
      "outputs": []
    },
    {
      "cell_type": "code",
      "source": [
        "flag = True\n",
        "print(type(flag))\n",
        "print(flag)"
      ],
      "metadata": {
        "id": "_TW4VsDeYb28",
        "outputId": "70cd575e-8f01-4679-ae1c-b1a95a30df03",
        "colab": {
          "base_uri": "https://localhost:8080/"
        }
      },
      "execution_count": null,
      "outputs": [
        {
          "output_type": "stream",
          "name": "stdout",
          "text": [
            "<class 'bool'>\n",
            "True\n"
          ]
        }
      ]
    },
    {
      "cell_type": "markdown",
      "source": [
        "## 파이썬에서 부울 변수의 값을 바꾸기 위해서는 not 연산자를 사용하면 된다"
      ],
      "metadata": {
        "id": "EU0BAGzPZSHB"
      }
    },
    {
      "cell_type": "code",
      "source": [
        "if flag:\n",
        "  print(\"실행됩니다\")\n",
        "\n",
        "if flag:\n",
        "  print(\"실행됩니다\")\n",
        "else:\n",
        "  print(\"거짓이라서 실행안됩니다\")"
      ],
      "metadata": {
        "id": "1oJ9wafrYb5M",
        "outputId": "0c2f5075-96f6-409c-e532-9338d91160c3",
        "colab": {
          "base_uri": "https://localhost:8080/"
        }
      },
      "execution_count": null,
      "outputs": [
        {
          "output_type": "stream",
          "name": "stdout",
          "text": [
            "실행됩니다\n",
            "실행됩니다\n"
          ]
        }
      ]
    },
    {
      "cell_type": "code",
      "source": [
        "flag = True\n",
        "\n",
        "if not flag:\n",
        "  print(\"실행됩니다\")\n",
        "else:\n",
        "  print(\"거짓이라서 실행안됩니다\")"
      ],
      "metadata": {
        "id": "aA7A4O1HYb-o",
        "outputId": "9093d199-ae47-4c1f-dd6d-babe78c821dc",
        "colab": {
          "base_uri": "https://localhost:8080/"
        }
      },
      "execution_count": 14,
      "outputs": [
        {
          "output_type": "stream",
          "name": "stdout",
          "text": [
            "거짓이라서 실행안됩니다\n"
          ]
        }
      ]
    },
    {
      "cell_type": "code",
      "source": [],
      "metadata": {
        "id": "yT2jIW7NYcBs"
      },
      "execution_count": null,
      "outputs": []
    },
    {
      "cell_type": "code",
      "source": [],
      "metadata": {
        "id": "d7Ib81dgYcDt"
      },
      "execution_count": null,
      "outputs": []
    },
    {
      "cell_type": "code",
      "source": [],
      "metadata": {
        "id": "LMNGXBpJYcGI"
      },
      "execution_count": null,
      "outputs": []
    },
    {
      "cell_type": "code",
      "source": [],
      "metadata": {
        "id": "MHWeifi2WLDx"
      },
      "execution_count": null,
      "outputs": []
    },
    {
      "cell_type": "code",
      "source": [],
      "metadata": {
        "id": "j_cwnnqJWLFm"
      },
      "execution_count": null,
      "outputs": []
    },
    {
      "cell_type": "code",
      "source": [],
      "metadata": {
        "id": "_gaE71KMWLI_"
      },
      "execution_count": null,
      "outputs": []
    }
  ],
  "metadata": {
    "colab": {
      "name": "scratchpad",
      "provenance": [],
      "include_colab_link": true
    },
    "kernelspec": {
      "display_name": "Python 3",
      "name": "python3"
    }
  },
  "nbformat": 4,
  "nbformat_minor": 0
}