{
  "cells": [
    {
      "cell_type": "markdown",
      "metadata": {
        "id": "view-in-github",
        "colab_type": "text"
      },
      "source": [
        "<a href=\"https://colab.research.google.com/github/Tom-Jung/Tom-Jung/blob/main/Stocks_me.ipynb\" target=\"_parent\"><img src=\"https://colab.research.google.com/assets/colab-badge.svg\" alt=\"Open In Colab\"/></a>"
      ]
    },
    {
      "cell_type": "code",
      "source": [
        "pip install requests beautifulsoup4 pandas"
      ],
      "metadata": {
        "id": "BFqp3tEZ72GN",
        "outputId": "e05c70ff-1eca-40f1-ffa8-695ca2af1d72",
        "colab": {
          "base_uri": "https://localhost:8080/"
        }
      },
      "execution_count": 3,
      "outputs": [
        {
          "output_type": "stream",
          "name": "stdout",
          "text": [
            "Requirement already satisfied: requests in /usr/local/lib/python3.11/dist-packages (2.32.3)\n",
            "Requirement already satisfied: beautifulsoup4 in /usr/local/lib/python3.11/dist-packages (4.13.3)\n",
            "Requirement already satisfied: pandas in /usr/local/lib/python3.11/dist-packages (2.2.2)\n",
            "Requirement already satisfied: charset-normalizer<4,>=2 in /usr/local/lib/python3.11/dist-packages (from requests) (3.4.1)\n",
            "Requirement already satisfied: idna<4,>=2.5 in /usr/local/lib/python3.11/dist-packages (from requests) (3.10)\n",
            "Requirement already satisfied: urllib3<3,>=1.21.1 in /usr/local/lib/python3.11/dist-packages (from requests) (2.3.0)\n",
            "Requirement already satisfied: certifi>=2017.4.17 in /usr/local/lib/python3.11/dist-packages (from requests) (2025.1.31)\n",
            "Requirement already satisfied: soupsieve>1.2 in /usr/local/lib/python3.11/dist-packages (from beautifulsoup4) (2.6)\n",
            "Requirement already satisfied: typing-extensions>=4.0.0 in /usr/local/lib/python3.11/dist-packages (from beautifulsoup4) (4.12.2)\n",
            "Requirement already satisfied: numpy>=1.23.2 in /usr/local/lib/python3.11/dist-packages (from pandas) (1.26.4)\n",
            "Requirement already satisfied: python-dateutil>=2.8.2 in /usr/local/lib/python3.11/dist-packages (from pandas) (2.8.2)\n",
            "Requirement already satisfied: pytz>=2020.1 in /usr/local/lib/python3.11/dist-packages (from pandas) (2025.1)\n",
            "Requirement already satisfied: tzdata>=2022.7 in /usr/local/lib/python3.11/dist-packages (from pandas) (2025.1)\n",
            "Requirement already satisfied: six>=1.5 in /usr/local/lib/python3.11/dist-packages (from python-dateutil>=2.8.2->pandas) (1.17.0)\n"
          ]
        }
      ]
    },
    {
      "cell_type": "code",
      "source": [
        "import requests\n",
        "from bs4 import BeautifulSoup\n",
        "import time\n",
        "from datetime import datetime\n",
        "import pytz\n",
        "from IPython.display import display, clear_output, HTML  # Jupyter Notebook 출력 관리\n",
        "\n",
        "# 🔹 한국 시간대 설정\n",
        "kst = pytz.timezone(\"Asia/Seoul\")\n",
        "\n",
        "# 🔹 네이버 금융에서 실시간 주가 가져오기\n",
        "def get_naver_stock_price(stock_code):\n",
        "    url = f\"https://finance.naver.com/item/main.naver?code={stock_code}\"\n",
        "    headers = {\"User-Agent\": \"Mozilla/5.0\"}\n",
        "\n",
        "    try:\n",
        "        response = requests.get(url, headers=headers)\n",
        "        response.raise_for_status()\n",
        "        soup = BeautifulSoup(response.text, \"html.parser\")\n",
        "\n",
        "        price_tag = soup.select_one(\"p.no_today span.blind\")\n",
        "        if price_tag:\n",
        "            return int(price_tag.text.replace(\",\", \"\"))\n",
        "        else:\n",
        "            return None\n",
        "    except requests.RequestException:\n",
        "        return None\n",
        "\n",
        "# 🔹 보유 주식 정보\n",
        "portfolio = [\n",
        "    {\"종목명\": \"코스모신소재\", \"종목코드\": \"005070\", \"매입가\": 138329, \"수량\": 126},\n",
        "    {\"종목명\": \"POSCO홀딩스\", \"종목코드\": \"005490\", \"매입가\": 458966, \"수량\": 145},\n",
        "    {\"종목명\": \"한화오션\", \"종목코드\": \"042660\", \"매입가\": 43090, \"수량\": 250},\n",
        "    {\"종목명\": \"에코프로비엠\", \"종목코드\": \"247540\", \"매입가\": 404714, \"수량\": 65}\n",
        "]\n",
        "\n",
        "# 🔹 실시간 모니터링 (Jupyter Notebook 최적화)\n",
        "try:\n",
        "    while True:\n",
        "        # 이전 출력 삭제 (Jupyter Notebook)\n",
        "        clear_output(wait=True)\n",
        "\n",
        "        # 현재 한국시간\n",
        "        current_time = datetime.now(kst).strftime(\"[%Y-%m-%d %H:%M:%S]\")\n",
        "\n",
        "        # HTML 테이블 시작\n",
        "        html_output = f\"<h3>{current_time}</h3>\"\n",
        "        html_output += \"\"\"\n",
        "        <table border=\"1\" style=\"border-collapse: collapse; width: 100%; text-align: center;\">\n",
        "            <tr style=\"background-color: #f2f2f2;\">\n",
        "                <th>종목명</th>\n",
        "                <th>매입가</th>\n",
        "                <th>현재가</th>\n",
        "                <th>수량</th>\n",
        "                <th>손익(원)</th>\n",
        "                <th>수익률(%)</th>\n",
        "            </tr>\n",
        "        \"\"\"\n",
        "\n",
        "        for stock in portfolio:\n",
        "            current_price = get_naver_stock_price(stock[\"종목코드\"])\n",
        "            if current_price is None:\n",
        "                continue\n",
        "\n",
        "            purchase_price = stock[\"매입가\"]\n",
        "            quantity = stock[\"수량\"]\n",
        "\n",
        "            total_purchase = purchase_price * quantity\n",
        "            total_current = current_price * quantity\n",
        "            profit_loss = total_current - total_purchase\n",
        "            profit_percent = (profit_loss / total_purchase) * 100\n",
        "\n",
        "            # 🔹 손익 및 수익률에 색상 적용 (빨간색: 플러스, 파란색: 마이너스)\n",
        "            profit_color = \"red\" if profit_loss >= 0 else \"blue\"\n",
        "            percent_color = \"red\" if profit_percent >= 0 else \"blue\"\n",
        "\n",
        "            profit_loss_html = f'<span style=\"color: {profit_color};\">{profit_loss:+,}</span>'\n",
        "            profit_percent_html = f'<span style=\"color: {percent_color};\">{profit_percent:+.2f}%</span>'\n",
        "\n",
        "            # HTML 테이블 행 추가\n",
        "            html_output += f\"\"\"\n",
        "            <tr>\n",
        "                <td>{stock['종목명']}</td>\n",
        "                <td>{purchase_price:,}</td>\n",
        "                <td>{current_price:,}</td>\n",
        "                <td>{quantity:,}</td>\n",
        "                <td>{profit_loss_html}</td>\n",
        "                <td>{profit_percent_html}</td>\n",
        "            </tr>\n",
        "            \"\"\"\n",
        "\n",
        "        # HTML 테이블 종료\n",
        "        html_output += \"</table>\"\n",
        "\n",
        "        # 최신 결과 출력 (HTML 방식)\n",
        "        display(HTML(html_output))\n",
        "\n",
        "        time.sleep(2)  # 2초마다 업데이트\n",
        "\n",
        "except KeyboardInterrupt:\n",
        "    print(\"\\n📌 프로그램 종료.\")\n"
      ],
      "metadata": {
        "id": "SovlY85zMZxi",
        "outputId": "d634d0b6-db6e-4dcc-9dcc-c968a1f933e0",
        "colab": {
          "base_uri": "https://localhost:8080/",
          "height": 160
        }
      },
      "execution_count": null,
      "outputs": [
        {
          "output_type": "display_data",
          "data": {
            "text/plain": [
              "<IPython.core.display.HTML object>"
            ],
            "text/html": [
              "<h3>[2025-02-18 17:47:01]</h3>\n",
              "        <table border=\"1\" style=\"border-collapse: collapse; width: 100%; text-align: center;\">\n",
              "            <tr style=\"background-color: #f2f2f2;\">\n",
              "                <th>종목명</th>\n",
              "                <th>매입가</th>\n",
              "                <th>현재가</th>\n",
              "                <th>수량</th>\n",
              "                <th>손익(원)</th>\n",
              "                <th>수익률(%)</th>\n",
              "            </tr>\n",
              "        \n",
              "            <tr>\n",
              "                <td>코스모신소재</td>\n",
              "                <td>138,329</td>\n",
              "                <td>49,600</td>\n",
              "                <td>126</td>\n",
              "                <td><span style=\"color: blue;\">-11,179,854</span></td>\n",
              "                <td><span style=\"color: blue;\">-64.14%</span></td>\n",
              "            </tr>\n",
              "            \n",
              "            <tr>\n",
              "                <td>POSCO홀딩스</td>\n",
              "                <td>458,966</td>\n",
              "                <td>248,500</td>\n",
              "                <td>145</td>\n",
              "                <td><span style=\"color: blue;\">-30,517,570</span></td>\n",
              "                <td><span style=\"color: blue;\">-45.86%</span></td>\n",
              "            </tr>\n",
              "            \n",
              "            <tr>\n",
              "                <td>한화오션</td>\n",
              "                <td>43,090</td>\n",
              "                <td>77,600</td>\n",
              "                <td>250</td>\n",
              "                <td><span style=\"color: red;\">+8,627,500</span></td>\n",
              "                <td><span style=\"color: red;\">+80.09%</span></td>\n",
              "            </tr>\n",
              "            \n",
              "            <tr>\n",
              "                <td>에코프로비엠</td>\n",
              "                <td>404,714</td>\n",
              "                <td>128,400</td>\n",
              "                <td>65</td>\n",
              "                <td><span style=\"color: blue;\">-17,960,410</span></td>\n",
              "                <td><span style=\"color: blue;\">-68.27%</span></td>\n",
              "            </tr>\n",
              "            </table>"
            ]
          },
          "metadata": {}
        }
      ]
    }
  ],
  "metadata": {
    "colab": {
      "name": "scratchpad",
      "provenance": [],
      "include_colab_link": true
    },
    "kernelspec": {
      "display_name": "Python 3",
      "name": "python3"
    }
  },
  "nbformat": 4,
  "nbformat_minor": 0
}