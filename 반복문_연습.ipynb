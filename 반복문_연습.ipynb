{
  "cells": [
    {
      "cell_type": "markdown",
      "metadata": {
        "id": "view-in-github",
        "colab_type": "text"
      },
      "source": [
        "<a href=\"https://colab.research.google.com/github/Tom-Jung/Tom-Jung/blob/main/%EB%B0%98%EB%B3%B5%EB%AC%B8_%EC%97%B0%EC%8A%B5.ipynb\" target=\"_parent\"><img src=\"https://colab.research.google.com/assets/colab-badge.svg\" alt=\"Open In Colab\"/></a>"
      ]
    },
    {
      "cell_type": "code",
      "execution_count": 2,
      "metadata": {
        "id": "lIYdn1woOS1n",
        "colab": {
          "base_uri": "https://localhost:8080/"
        },
        "outputId": "a667784e-05e0-4f42-d36f-65b7b2c4d44c"
      },
      "outputs": [
        {
          "output_type": "stream",
          "name": "stdout",
          "text": [
            "안녕\n",
            "안녕\n",
            "안녕\n",
            "안녕\n",
            "안녕\n"
          ]
        }
      ],
      "source": [
        "for x in range(0,5):\n",
        "  print(\"안녕\")"
      ]
    },
    {
      "cell_type": "markdown",
      "source": [
        "#시퀀스에 올수 있는 것은 리스트, 문자열"
      ],
      "metadata": {
        "id": "0Kw8kLzfI98r"
      }
    },
    {
      "cell_type": "markdown",
      "source": [],
      "metadata": {
        "id": "oq6SpqSgIzoX"
      }
    },
    {
      "cell_type": "code",
      "source": [
        "for x in range(5):\n",
        "  print(\"안녕\")"
      ],
      "metadata": {
        "colab": {
          "base_uri": "https://localhost:8080/"
        },
        "id": "RbhlpDA_IqOi",
        "outputId": "888cf924-c4f8-437d-800c-8e062ffa9ec4"
      },
      "execution_count": 5,
      "outputs": [
        {
          "output_type": "stream",
          "name": "stdout",
          "text": [
            "안녕\n",
            "안녕\n",
            "안녕\n",
            "안녕\n",
            "안녕\n"
          ]
        }
      ]
    },
    {
      "cell_type": "code",
      "source": [],
      "metadata": {
        "id": "UHHEJdS8IqRq"
      },
      "execution_count": null,
      "outputs": []
    },
    {
      "cell_type": "markdown",
      "source": [
        "# 문자열 리스트를 시퀀스로 가질 때 for 문"
      ],
      "metadata": {
        "id": "BuJzFZ_YJtuo"
      }
    },
    {
      "cell_type": "code",
      "source": [
        "s = [\"신은혁\", \"김남길\", \"김연아\"]"
      ],
      "metadata": {
        "id": "7wuu2fsgIqV3"
      },
      "execution_count": 6,
      "outputs": []
    },
    {
      "cell_type": "code",
      "source": [
        "for name in s:\n",
        "  print('반갑습니다.' + name + \"님!\")"
      ],
      "metadata": {
        "colab": {
          "base_uri": "https://localhost:8080/"
        },
        "id": "cYhs2_ojINTx",
        "outputId": "68ab0446-fd7a-4a6a-af10-857686088057"
      },
      "execution_count": 7,
      "outputs": [
        {
          "output_type": "stream",
          "name": "stdout",
          "text": [
            "반갑습니다.신은혁님!\n",
            "반갑습니다.김남길님!\n",
            "반갑습니다.김연아님!\n"
          ]
        }
      ]
    },
    {
      "cell_type": "markdown",
      "source": [
        "# 줄 바꿈을 하지 않계하는 end 인자값을 확인해 보기"
      ],
      "metadata": {
        "id": "YabdXywdKK4u"
      }
    },
    {
      "cell_type": "code",
      "source": [
        "for x in [1,2,3,4,5]:\n",
        "  print(x, end=\" \")"
      ],
      "metadata": {
        "colab": {
          "base_uri": "https://localhost:8080/"
        },
        "id": "Nqhg8NL1INa-",
        "outputId": "185f1db3-020a-4fbf-96db-fa61a0aa20fd"
      },
      "execution_count": 8,
      "outputs": [
        {
          "output_type": "stream",
          "name": "stdout",
          "text": [
            "1 2 3 4 5 "
          ]
        }
      ]
    },
    {
      "cell_type": "code",
      "source": [
        "for x in [1,2,3,4,5]:\n",
        "  print(x, end=\"\\t\")"
      ],
      "metadata": {
        "colab": {
          "base_uri": "https://localhost:8080/"
        },
        "id": "ynFXICf1INff",
        "outputId": "ebde2f1b-6952-42e5-ce74-d9463c0c9647"
      },
      "execution_count": 10,
      "outputs": [
        {
          "output_type": "stream",
          "name": "stdout",
          "text": [
            "1\t2\t3\t4\t5\t"
          ]
        }
      ]
    },
    {
      "cell_type": "markdown",
      "source": [
        "# range() 함수 실습하기\n"
      ],
      "metadata": {
        "id": "1Jfcu6eJLBXo"
      }
    },
    {
      "cell_type": "code",
      "source": [
        "hap = 0\n",
        "\n",
        "for x in range(10):\n",
        "  hap = hap + x\n",
        "print(\"0에서9까지의 누계합 :\", hap)"
      ],
      "metadata": {
        "colab": {
          "base_uri": "https://localhost:8080/"
        },
        "id": "8R-vKlw3INpk",
        "outputId": "4fd43f50-cf67-4c77-86f5-690bc5c650ae"
      },
      "execution_count": 12,
      "outputs": [
        {
          "output_type": "stream",
          "name": "stdout",
          "text": [
            "0에서9까지의 누계합 : 45\n"
          ]
        }
      ]
    },
    {
      "cell_type": "code",
      "source": [
        "hap = 0\n",
        "\n",
        "for x in range(0, 10):\n",
        "  hap = hap + x\n",
        "print(\"0에서9까지의 누계합 :\", hap)"
      ],
      "metadata": {
        "colab": {
          "base_uri": "https://localhost:8080/"
        },
        "id": "mmMmw6-sINuj",
        "outputId": "2a0019c2-5dc0-4b7e-c245-cd89b7dddee4"
      },
      "execution_count": 14,
      "outputs": [
        {
          "output_type": "stream",
          "name": "stdout",
          "text": [
            "0에서9까지의 누계합 : 45\n"
          ]
        }
      ]
    },
    {
      "cell_type": "code",
      "source": [
        "hap = 0\n",
        "\n",
        "for x in range(0,10,1):\n",
        "  hap = hap + x\n",
        "print(\"0에서9까지의 누계합 :\", hap)"
      ],
      "metadata": {
        "colab": {
          "base_uri": "https://localhost:8080/"
        },
        "id": "cbtV9MR8INxx",
        "outputId": "9827f6d4-5db7-42fd-b974-3d7b043ef56e"
      },
      "execution_count": 16,
      "outputs": [
        {
          "output_type": "stream",
          "name": "stdout",
          "text": [
            "0에서9까지의 누계합 : 45\n"
          ]
        }
      ]
    },
    {
      "cell_type": "code",
      "source": [
        "hap = 0\n",
        "\n",
        "for x in range(0,10,2):\n",
        "  hap = hap + x\n",
        "print(\"0에서9까지의 누계합 :\", hap)"
      ],
      "metadata": {
        "colab": {
          "base_uri": "https://localhost:8080/"
        },
        "id": "wxcPbp_eIN0V",
        "outputId": "8951eb51-d7a4-4546-a129-3b5adca5945b"
      },
      "execution_count": 17,
      "outputs": [
        {
          "output_type": "stream",
          "name": "stdout",
          "text": [
            "0에서9까지의 누계합 : 20\n"
          ]
        }
      ]
    },
    {
      "cell_type": "code",
      "source": [
        "hap = 0\n",
        "\n",
        "for x in range(0,10,3):\n",
        "  hap = hap + x\n",
        "print(\"0에서9까지의 누계합 :\", hap)"
      ],
      "metadata": {
        "colab": {
          "base_uri": "https://localhost:8080/"
        },
        "id": "pfK9sCGrIN5Z",
        "outputId": "5d77afdd-1c82-4c4e-bca5-f886ac6d6e60"
      },
      "execution_count": 18,
      "outputs": [
        {
          "output_type": "stream",
          "name": "stdout",
          "text": [
            "0에서9까지의 누계합 : 18\n"
          ]
        }
      ]
    },
    {
      "cell_type": "code",
      "source": [
        "s = \" Shin Eun Huck \"\n",
        "\n",
        "for ch in s:\n",
        "  print(ch, end=\"  \")"
      ],
      "metadata": {
        "colab": {
          "base_uri": "https://localhost:8080/"
        },
        "id": "wE1xFQi4IN8J",
        "outputId": "fbf6aea5-a478-4cbc-a005-02553d2b04bd"
      },
      "execution_count": 22,
      "outputs": [
        {
          "output_type": "stream",
          "name": "stdout",
          "text": [
            "   S  h  i  n     E  u  n     H  u  c  k     "
          ]
        }
      ]
    },
    {
      "cell_type": "code",
      "source": [
        "s = \" Shin Eun Huck \"\n",
        "\n",
        "for ch in s:\n",
        "  print(ch)"
      ],
      "metadata": {
        "colab": {
          "base_uri": "https://localhost:8080/"
        },
        "id": "cOfw0frpIN_S",
        "outputId": "5977656b-42f2-4c4d-c5a2-20a579b00f57"
      },
      "execution_count": 23,
      "outputs": [
        {
          "output_type": "stream",
          "name": "stdout",
          "text": [
            " \n",
            "S\n",
            "h\n",
            "i\n",
            "n\n",
            " \n",
            "E\n",
            "u\n",
            "n\n",
            " \n",
            "H\n",
            "u\n",
            "c\n",
            "k\n",
            " \n"
          ]
        }
      ]
    },
    {
      "cell_type": "code",
      "source": [
        "hap = 0\n",
        "num = int(input(\"어디까지 합계를 구할까\"))\n",
        "\n",
        "for i in range(1,num+1):\n",
        "  hap += i\n",
        "\n",
        "print(\"1부터\", num, \"까지의 정수의 합계 = \", hap)"
      ],
      "metadata": {
        "colab": {
          "base_uri": "https://localhost:8080/"
        },
        "id": "vRc6VY3HIOBo",
        "outputId": "ac66a469-2c89-44f8-80aa-530b595225d1"
      },
      "execution_count": 24,
      "outputs": [
        {
          "output_type": "stream",
          "name": "stdout",
          "text": [
            "어디까지 합계를 구할까10\n",
            "1부터 10 까지의 정수의 합계 =  55\n"
          ]
        }
      ]
    },
    {
      "cell_type": "markdown",
      "source": [
        "# 누적값이 2000이상이 되면 for 문을 까지 나오시요"
      ],
      "metadata": {
        "id": "CemKqWvJOCMm"
      }
    },
    {
      "cell_type": "code",
      "source": [
        "hap = 0\n",
        "\n",
        "for i in range(101):\n",
        "  if hap >=2000:\n",
        "    print(\"마지막으로 더해지는 i의 값\", i)\n",
        "    break\n",
        "  hap += i\n",
        "\n",
        "print(\"합\", hap)\n"
      ],
      "metadata": {
        "colab": {
          "base_uri": "https://localhost:8080/"
        },
        "id": "PetnPW5IIOD5",
        "outputId": "c649e4c7-f4db-4750-dcb5-cb4cf88cc2bb"
      },
      "execution_count": 28,
      "outputs": [
        {
          "output_type": "stream",
          "name": "stdout",
          "text": [
            "마지막으로 더해지는 i의 값 64\n",
            "합 2016\n"
          ]
        }
      ]
    },
    {
      "cell_type": "code",
      "source": [
        "hap = 0\n",
        "\n",
        "for i in range(101):\n",
        "  if hap >=2000:\n",
        "    print(\"마지막으로 더해지는 i의 값\", i-1)\n",
        "    break\n",
        "  else:\n",
        "    hap += i\n",
        "\n",
        "print(\"합\", hap-i)\n"
      ],
      "metadata": {
        "colab": {
          "base_uri": "https://localhost:8080/"
        },
        "id": "7_M3pisPIOGE",
        "outputId": "b04fdab2-0a79-4fab-a844-cdf8b9d99a91"
      },
      "execution_count": 32,
      "outputs": [
        {
          "output_type": "stream",
          "name": "stdout",
          "text": [
            "마지막으로 더해지는 i의 값 63\n",
            "합 1952\n"
          ]
        }
      ]
    },
    {
      "cell_type": "markdown",
      "source": [
        "# breakpoint는 디버깉에 효율적임(단축키는 Shift + F9)"
      ],
      "metadata": {
        "id": "rtRXRoaZQDA0"
      }
    },
    {
      "cell_type": "markdown",
      "source": [
        "#팩토리얼 구하기"
      ],
      "metadata": {
        "id": "bdPBhhuATfiQ"
      }
    },
    {
      "cell_type": "code",
      "source": [
        "fact = 1.0\n",
        "n = int(input(\"팩토리얼 값을 구할 값을 넣으시요\"))\n",
        "\n",
        "for i in range(1,n+1):\n",
        "  fact *= i  # fact = fact * i을 복합대입연산자를 사용한 코드\n",
        "\n",
        "print( n, \"!은\", fact,\"입니다\")"
      ],
      "metadata": {
        "colab": {
          "base_uri": "https://localhost:8080/"
        },
        "id": "DUsAGjWgN-xU",
        "outputId": "f3803f82-62ba-4495-bdff-110d1d8063a5"
      },
      "execution_count": 39,
      "outputs": [
        {
          "output_type": "stream",
          "name": "stdout",
          "text": [
            "팩토리얼 값을 구할 값을 넣으시요5\n",
            "5 !은 120.0 입니다\n"
          ]
        }
      ]
    },
    {
      "cell_type": "code",
      "source": [],
      "metadata": {
        "id": "zbJACqDaN-zx"
      },
      "execution_count": null,
      "outputs": []
    },
    {
      "cell_type": "code",
      "source": [
        "n1=1\n",
        "n2=1\n",
        "n3=1"
      ],
      "metadata": {
        "id": "PrpjMNtXN-24"
      },
      "execution_count": 40,
      "outputs": []
    },
    {
      "cell_type": "code",
      "source": [
        "fi=int(input(\"피보나치 수열을 만들 정수를 입력하세요\"))\n",
        "\n",
        "for i in range(1,fi):\n",
        "  if i<3:\n",
        "    n3 = 1\n",
        "  else:\n",
        "    n3 = n1 + n2\n",
        "    n1 = n2  \n",
        "    n2 = n3\n",
        "\n",
        "  if n3 < fi:\n",
        "    print(n3, end=\" \")  "
      ],
      "metadata": {
        "colab": {
          "base_uri": "https://localhost:8080/"
        },
        "id": "5wpqt6vMN-50",
        "outputId": "732cbf3d-7add-4829-b28c-a4cd6d68c534"
      },
      "execution_count": 42,
      "outputs": [
        {
          "output_type": "stream",
          "name": "stdout",
          "text": [
            "피보나치 수열을 만들 정수를 입력하세요13\n",
            "1 1 2 3 5 8 "
          ]
        }
      ]
    },
    {
      "cell_type": "markdown",
      "source": [
        "# 화씨온도를 섭씨온도로 변환 테이블을 출력하는 프로그램\n",
        "for 문을 이용하며, 실수로 나타내도록 한다. 화씨 0도부터 100도\n",
        "10도 단위로 증가시키면서 대응되는 섭씨 온도를 추력해라\n",
        "공식 C = (F -32)*5/9"
      ],
      "metadata": {
        "id": "jyeUZl7bWrBA"
      }
    },
    {
      "cell_type": "code",
      "source": [
        "for F in range(0,101,10):\n",
        "  C = (F-32)*5/9\n",
        "  print(F, \"\\t\", round(C,2))"
      ],
      "metadata": {
        "colab": {
          "base_uri": "https://localhost:8080/"
        },
        "id": "QdWg1qyLN-_T",
        "outputId": "574330d3-0638-443e-ec9d-81113166e123"
      },
      "execution_count": 46,
      "outputs": [
        {
          "output_type": "stream",
          "name": "stdout",
          "text": [
            "0 \t -17.78\n",
            "10 \t -12.22\n",
            "20 \t -6.67\n",
            "30 \t -1.11\n",
            "40 \t 4.44\n",
            "50 \t 10.0\n",
            "60 \t 15.56\n",
            "70 \t 21.11\n",
            "80 \t 26.67\n",
            "90 \t 32.22\n",
            "100 \t 37.78\n"
          ]
        }
      ]
    },
    {
      "cell_type": "code",
      "source": [],
      "metadata": {
        "id": "uh9kX_9VN_D5"
      },
      "execution_count": null,
      "outputs": []
    },
    {
      "cell_type": "code",
      "source": [],
      "metadata": {
        "id": "-oDJuiV4N_F5"
      },
      "execution_count": null,
      "outputs": []
    },
    {
      "cell_type": "code",
      "source": [],
      "metadata": {
        "id": "RLze-7YhN_Hs"
      },
      "execution_count": null,
      "outputs": []
    },
    {
      "cell_type": "code",
      "source": [],
      "metadata": {
        "id": "YpaZTEB3N_Jz"
      },
      "execution_count": null,
      "outputs": []
    },
    {
      "cell_type": "code",
      "source": [],
      "metadata": {
        "id": "Fs1oPvyxN_L8"
      },
      "execution_count": null,
      "outputs": []
    },
    {
      "cell_type": "code",
      "source": [],
      "metadata": {
        "id": "iAuME5XuN_Ob"
      },
      "execution_count": null,
      "outputs": []
    },
    {
      "cell_type": "code",
      "source": [],
      "metadata": {
        "id": "lmHumXNdN_R3"
      },
      "execution_count": null,
      "outputs": []
    },
    {
      "cell_type": "code",
      "source": [],
      "metadata": {
        "id": "rHjAAIBnN_Uc"
      },
      "execution_count": 32,
      "outputs": []
    }
  ],
  "metadata": {
    "colab": {
      "name": "scratchpad",
      "provenance": [],
      "include_colab_link": true
    },
    "kernelspec": {
      "display_name": "Python 3",
      "name": "python3"
    }
  },
  "nbformat": 4,
  "nbformat_minor": 0
}