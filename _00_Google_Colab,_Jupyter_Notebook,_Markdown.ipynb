{
  "nbformat": 4,
  "nbformat_minor": 0,
  "metadata": {
    "colab": {
      "provenance": [],
      "collapsed_sections": [],
      "include_colab_link": true
    },
    "kernelspec": {
      "name": "python3",
      "display_name": "Python 3"
    }
  },
  "cells": [
    {
      "cell_type": "markdown",
      "metadata": {
        "id": "view-in-github",
        "colab_type": "text"
      },
      "source": [
        "<a href=\"https://colab.research.google.com/github/Tom-Jung/Tom-Jung/blob/main/_00_Google_Colab%2C_Jupyter_Notebook%2C_Markdown.ipynb\" target=\"_parent\"><img src=\"https://colab.research.google.com/assets/colab-badge.svg\" alt=\"Open In Colab\"/></a>"
      ]
    },
    {
      "cell_type": "markdown",
      "metadata": {
        "id": "bg5ZXMV2sn1M"
      },
      "source": [
        "# Google Colaboratory\n"
      ]
    },
    {
      "cell_type": "markdown",
      "metadata": {
        "id": "Lj_iZPKnCRP0"
      },
      "source": [
        "\n",
        "\n",
        "---\n",
        "\n"
      ]
    },
    {
      "cell_type": "markdown",
      "metadata": {
        "id": "i3r5VFtU5O4U"
      },
      "source": [
        "## Google Colab 사양\n"
      ]
    },
    {
      "cell_type": "markdown",
      "metadata": {
        "id": "gV5e99TT-08Z"
      },
      "source": [
        "* 플랫폼"
      ]
    },
    {
      "cell_type": "code",
      "metadata": {
        "id": "5VeuLl0B-cy4",
        "colab": {
          "base_uri": "https://localhost:8080/",
          "height": 35
        },
        "outputId": "18ee8af6-73fd-4361-96e7-7f2ea71c5f8f"
      },
      "source": [
        "import platform\n",
        "platform.platform()"
      ],
      "execution_count": 2,
      "outputs": [
        {
          "output_type": "execute_result",
          "data": {
            "text/plain": [
              "'Linux-5.10.133+-x86_64-with-Ubuntu-18.04-bionic'"
            ],
            "application/vnd.google.colaboratory.intrinsic+json": {
              "type": "string"
            }
          },
          "metadata": {},
          "execution_count": 2
        }
      ]
    },
    {
      "cell_type": "markdown",
      "metadata": {
        "id": "Q9f6YpG-5ZCx"
      },
      "source": [
        "* 운영체제"
      ]
    },
    {
      "cell_type": "code",
      "metadata": {
        "id": "IC0e82Ft5Rxt",
        "colab": {
          "base_uri": "https://localhost:8080/"
        },
        "outputId": "98944828-19d0-4b3d-c962-d699069d190d"
      },
      "source": [
        "!cat /etc/issue.net"
      ],
      "execution_count": 3,
      "outputs": [
        {
          "output_type": "stream",
          "name": "stdout",
          "text": [
            "Ubuntu 18.04.6 LTS\n"
          ]
        }
      ]
    },
    {
      "cell_type": "markdown",
      "metadata": {
        "id": "mrQDwTmI5bzQ"
      },
      "source": [
        "* CPU 사양"
      ]
    },
    {
      "cell_type": "code",
      "metadata": {
        "id": "MX782lUX5ju0",
        "colab": {
          "base_uri": "https://localhost:8080/"
        },
        "outputId": "479254b5-aeb6-4aa1-f674-25467be58e14"
      },
      "source": [
        "!cat /proc/cpuinfo"
      ],
      "execution_count": 4,
      "outputs": [
        {
          "output_type": "stream",
          "name": "stdout",
          "text": [
            "processor\t: 0\n",
            "vendor_id\t: GenuineIntel\n",
            "cpu family\t: 6\n",
            "model\t\t: 79\n",
            "model name\t: Intel(R) Xeon(R) CPU @ 2.20GHz\n",
            "stepping\t: 0\n",
            "microcode\t: 0x1\n",
            "cpu MHz\t\t: 2199.998\n",
            "cache size\t: 56320 KB\n",
            "physical id\t: 0\n",
            "siblings\t: 2\n",
            "core id\t\t: 0\n",
            "cpu cores\t: 1\n",
            "apicid\t\t: 0\n",
            "initial apicid\t: 0\n",
            "fpu\t\t: yes\n",
            "fpu_exception\t: yes\n",
            "cpuid level\t: 13\n",
            "wp\t\t: yes\n",
            "flags\t\t: fpu vme de pse tsc msr pae mce cx8 apic sep mtrr pge mca cmov pat pse36 clflush mmx fxsr sse sse2 ss ht syscall nx pdpe1gb rdtscp lm constant_tsc rep_good nopl xtopology nonstop_tsc cpuid tsc_known_freq pni pclmulqdq ssse3 fma cx16 pcid sse4_1 sse4_2 x2apic movbe popcnt aes xsave avx f16c rdrand hypervisor lahf_lm abm 3dnowprefetch invpcid_single ssbd ibrs ibpb stibp fsgsbase tsc_adjust bmi1 hle avx2 smep bmi2 erms invpcid rtm rdseed adx smap xsaveopt arat md_clear arch_capabilities\n",
            "bugs\t\t: cpu_meltdown spectre_v1 spectre_v2 spec_store_bypass l1tf mds swapgs taa mmio_stale_data retbleed\n",
            "bogomips\t: 4399.99\n",
            "clflush size\t: 64\n",
            "cache_alignment\t: 64\n",
            "address sizes\t: 46 bits physical, 48 bits virtual\n",
            "power management:\n",
            "\n",
            "processor\t: 1\n",
            "vendor_id\t: GenuineIntel\n",
            "cpu family\t: 6\n",
            "model\t\t: 79\n",
            "model name\t: Intel(R) Xeon(R) CPU @ 2.20GHz\n",
            "stepping\t: 0\n",
            "microcode\t: 0x1\n",
            "cpu MHz\t\t: 2199.998\n",
            "cache size\t: 56320 KB\n",
            "physical id\t: 0\n",
            "siblings\t: 2\n",
            "core id\t\t: 0\n",
            "cpu cores\t: 1\n",
            "apicid\t\t: 1\n",
            "initial apicid\t: 1\n",
            "fpu\t\t: yes\n",
            "fpu_exception\t: yes\n",
            "cpuid level\t: 13\n",
            "wp\t\t: yes\n",
            "flags\t\t: fpu vme de pse tsc msr pae mce cx8 apic sep mtrr pge mca cmov pat pse36 clflush mmx fxsr sse sse2 ss ht syscall nx pdpe1gb rdtscp lm constant_tsc rep_good nopl xtopology nonstop_tsc cpuid tsc_known_freq pni pclmulqdq ssse3 fma cx16 pcid sse4_1 sse4_2 x2apic movbe popcnt aes xsave avx f16c rdrand hypervisor lahf_lm abm 3dnowprefetch invpcid_single ssbd ibrs ibpb stibp fsgsbase tsc_adjust bmi1 hle avx2 smep bmi2 erms invpcid rtm rdseed adx smap xsaveopt arat md_clear arch_capabilities\n",
            "bugs\t\t: cpu_meltdown spectre_v1 spectre_v2 spec_store_bypass l1tf mds swapgs taa mmio_stale_data retbleed\n",
            "bogomips\t: 4399.99\n",
            "clflush size\t: 64\n",
            "cache_alignment\t: 64\n",
            "address sizes\t: 46 bits physical, 48 bits virtual\n",
            "power management:\n",
            "\n"
          ]
        }
      ]
    },
    {
      "cell_type": "markdown",
      "metadata": {
        "id": "XQbXXmZ75ffA"
      },
      "source": [
        "* 메모리 사양"
      ]
    },
    {
      "cell_type": "code",
      "metadata": {
        "id": "vJ0_EPba5sP1",
        "colab": {
          "base_uri": "https://localhost:8080/"
        },
        "outputId": "41e8f6fb-d902-4cdd-bd4c-b5dbac956572"
      },
      "source": [
        "!cat /proc/meminfo"
      ],
      "execution_count": 5,
      "outputs": [
        {
          "output_type": "stream",
          "name": "stdout",
          "text": [
            "MemTotal:       13297228 kB\n",
            "MemFree:        10857944 kB\n",
            "MemAvailable:   12447212 kB\n",
            "Buffers:           64924 kB\n",
            "Cached:          1666288 kB\n",
            "SwapCached:            0 kB\n",
            "Active:           511096 kB\n",
            "Inactive:        1753008 kB\n",
            "Active(anon):        956 kB\n",
            "Inactive(anon):   473972 kB\n",
            "Active(file):     510140 kB\n",
            "Inactive(file):  1279036 kB\n",
            "Unevictable:           0 kB\n",
            "Mlocked:               0 kB\n",
            "SwapTotal:             0 kB\n",
            "SwapFree:              0 kB\n",
            "Dirty:               920 kB\n",
            "Writeback:             0 kB\n",
            "AnonPages:        533032 kB\n",
            "Mapped:           227492 kB\n",
            "Shmem:              1260 kB\n",
            "KReclaimable:      83084 kB\n",
            "Slab:             112436 kB\n",
            "SReclaimable:      83084 kB\n",
            "SUnreclaim:        29352 kB\n",
            "KernelStack:        4416 kB\n",
            "PageTables:        10764 kB\n",
            "NFS_Unstable:          0 kB\n",
            "Bounce:                0 kB\n",
            "WritebackTmp:          0 kB\n",
            "CommitLimit:     6648612 kB\n",
            "Committed_AS:    2902136 kB\n",
            "VmallocTotal:   34359738367 kB\n",
            "VmallocUsed:        9268 kB\n",
            "VmallocChunk:          0 kB\n",
            "Percpu:             1416 kB\n",
            "HardwareCorrupted:     0 kB\n",
            "AnonHugePages:         0 kB\n",
            "ShmemHugePages:        0 kB\n",
            "ShmemPmdMapped:        0 kB\n",
            "FileHugePages:         0 kB\n",
            "FilePmdMapped:         0 kB\n",
            "CmaTotal:              0 kB\n",
            "CmaFree:               0 kB\n",
            "HugePages_Total:       0\n",
            "HugePages_Free:        0\n",
            "HugePages_Rsvd:        0\n",
            "HugePages_Surp:        0\n",
            "Hugepagesize:       2048 kB\n",
            "Hugetlb:               0 kB\n",
            "DirectMap4k:       90944 kB\n",
            "DirectMap2M:     5148672 kB\n",
            "DirectMap1G:    10485760 kB\n"
          ]
        }
      ]
    },
    {
      "cell_type": "markdown",
      "metadata": {
        "id": "EaOIRYVP5w30"
      },
      "source": [
        "* 디스크 사양"
      ]
    },
    {
      "cell_type": "code",
      "metadata": {
        "id": "FKWOPJNv5y2y",
        "colab": {
          "base_uri": "https://localhost:8080/"
        },
        "outputId": "9acbca4d-5f03-4d82-e0e4-88b8b62a6dfd"
      },
      "source": [
        "!df -h"
      ],
      "execution_count": 6,
      "outputs": [
        {
          "output_type": "stream",
          "name": "stdout",
          "text": [
            "Filesystem      Size  Used Avail Use% Mounted on\n",
            "overlay         108G   39G   70G  36% /\n",
            "tmpfs            64M     0   64M   0% /dev\n",
            "shm             5.8G     0  5.8G   0% /dev/shm\n",
            "/dev/root       2.0G  1.1G  910M  54% /sbin/docker-init\n",
            "tmpfs           6.4G   32K  6.4G   1% /var/colab\n",
            "/dev/sda1        55G   40G   16G  72% /etc/hosts\n",
            "tmpfs           6.4G     0  6.4G   0% /proc/acpi\n",
            "tmpfs           6.4G     0  6.4G   0% /proc/scsi\n",
            "tmpfs           6.4G     0  6.4G   0% /sys/firmware\n"
          ]
        }
      ]
    },
    {
      "cell_type": "markdown",
      "metadata": {
        "id": "i2LgCHNv541D"
      },
      "source": [
        "* 파이썬 버전"
      ]
    },
    {
      "cell_type": "code",
      "metadata": {
        "id": "AZNd_Cpi57SD",
        "colab": {
          "base_uri": "https://localhost:8080/"
        },
        "outputId": "ae5f73ed-060b-4e08-a799-cb55cf8bba40"
      },
      "source": [
        "!python --version"
      ],
      "execution_count": 7,
      "outputs": [
        {
          "output_type": "stream",
          "name": "stdout",
          "text": [
            "Python 3.7.14\n"
          ]
        }
      ]
    },
    {
      "cell_type": "markdown",
      "metadata": {
        "id": "ZLrgX-u15_wI"
      },
      "source": [
        "## Google Colab 런타임\n",
        "* Colab에서 고성능 하드웨어로 GPU나 TPU 사용 가능\n",
        "* 런타임 유형 변경(Change runtime type) 필요\n",
        "  + None: CPU만 사용\n",
        "  + GPU: 하드웨어 가속으로 GPU 사용\n",
        "  + TPU: 하드웨어 가속으로 TPU 사용"
      ]
    },
    {
      "cell_type": "code",
      "metadata": {
        "id": "Oa3X6JLZ6BE1",
        "colab": {
          "base_uri": "https://localhost:8080/"
        },
        "outputId": "3d229580-74e8-4913-ecc4-1e6a2b1ab5a6"
      },
      "source": [
        "!nvidia-smi"
      ],
      "execution_count": 10,
      "outputs": [
        {
          "output_type": "stream",
          "name": "stdout",
          "text": [
            "NVIDIA-SMI has failed because it couldn't communicate with the NVIDIA driver. Make sure that the latest NVIDIA driver is installed and running.\n",
            "\n"
          ]
        }
      ]
    },
    {
      "cell_type": "markdown",
      "metadata": {
        "id": "VxNA7zfv-6wx"
      },
      "source": [
        "## 파일 저장 및 다운로드/업로드\n",
        "\n",
        "* Jupyter Notebook 환경에서 파일 저장 및 다운로드"
      ]
    },
    {
      "cell_type": "code",
      "metadata": {
        "id": "oTiMWM70_E42",
        "colab": {
          "base_uri": "https://localhost:8080/"
        },
        "outputId": "65eb9765-5a47-4467-87ad-21cedc835a91"
      },
      "source": [
        "%%writefile test.txt\n",
        "text"
      ],
      "execution_count": 12,
      "outputs": [
        {
          "output_type": "stream",
          "name": "stdout",
          "text": [
            "Writing test.txt\n"
          ]
        }
      ]
    },
    {
      "cell_type": "code",
      "metadata": {
        "id": "ptEgaG3v_QSR",
        "colab": {
          "base_uri": "https://localhost:8080/"
        },
        "outputId": "10912ea0-9559-40fb-a641-ce1ac9c4a736"
      },
      "source": [
        "!cat test.txt"
      ],
      "execution_count": 13,
      "outputs": [
        {
          "output_type": "stream",
          "name": "stdout",
          "text": [
            "text\n"
          ]
        }
      ]
    },
    {
      "cell_type": "code",
      "metadata": {
        "id": "-HGNOyHk_Yxg",
        "colab": {
          "base_uri": "https://localhost:8080/",
          "height": 17
        },
        "outputId": "0e69ff45-c6c1-4cff-f78f-d3614e56ca03"
      },
      "source": [
        "from google.colab import files\n",
        "files.download('test.txt')"
      ],
      "execution_count": 14,
      "outputs": [
        {
          "output_type": "display_data",
          "data": {
            "text/plain": [
              "<IPython.core.display.Javascript object>"
            ],
            "application/javascript": [
              "\n",
              "    async function download(id, filename, size) {\n",
              "      if (!google.colab.kernel.accessAllowed) {\n",
              "        return;\n",
              "      }\n",
              "      const div = document.createElement('div');\n",
              "      const label = document.createElement('label');\n",
              "      label.textContent = `Downloading \"${filename}\": `;\n",
              "      div.appendChild(label);\n",
              "      const progress = document.createElement('progress');\n",
              "      progress.max = size;\n",
              "      div.appendChild(progress);\n",
              "      document.body.appendChild(div);\n",
              "\n",
              "      const buffers = [];\n",
              "      let downloaded = 0;\n",
              "\n",
              "      const channel = await google.colab.kernel.comms.open(id);\n",
              "      // Send a message to notify the kernel that we're ready.\n",
              "      channel.send({})\n",
              "\n",
              "      for await (const message of channel.messages) {\n",
              "        // Send a message to notify the kernel that we're ready.\n",
              "        channel.send({})\n",
              "        if (message.buffers) {\n",
              "          for (const buffer of message.buffers) {\n",
              "            buffers.push(buffer);\n",
              "            downloaded += buffer.byteLength;\n",
              "            progress.value = downloaded;\n",
              "          }\n",
              "        }\n",
              "      }\n",
              "      const blob = new Blob(buffers, {type: 'application/binary'});\n",
              "      const a = document.createElement('a');\n",
              "      a.href = window.URL.createObjectURL(blob);\n",
              "      a.download = filename;\n",
              "      div.appendChild(a);\n",
              "      a.click();\n",
              "      div.remove();\n",
              "    }\n",
              "  "
            ]
          },
          "metadata": {}
        },
        {
          "output_type": "display_data",
          "data": {
            "text/plain": [
              "<IPython.core.display.Javascript object>"
            ],
            "application/javascript": [
              "download(\"download_87980f15-d9a7-4713-8b20-7ddadee218c4\", \"test.txt\", 5)"
            ]
          },
          "metadata": {}
        }
      ]
    },
    {
      "cell_type": "code",
      "metadata": {
        "id": "6MLJ6R60AIQJ",
        "colab": {
          "base_uri": "https://localhost:8080/",
          "height": 90
        },
        "outputId": "cf00567f-482e-45cf-f9aa-409604530bb5"
      },
      "source": [
        "upload=files.upload()"
      ],
      "execution_count": 15,
      "outputs": [
        {
          "output_type": "display_data",
          "data": {
            "text/plain": [
              "<IPython.core.display.HTML object>"
            ],
            "text/html": [
              "\n",
              "     <input type=\"file\" id=\"files-8006f5f3-e26f-4934-b6d4-b593f785fbb2\" name=\"files[]\" multiple disabled\n",
              "        style=\"border:none\" />\n",
              "     <output id=\"result-8006f5f3-e26f-4934-b6d4-b593f785fbb2\">\n",
              "      Upload widget is only available when the cell has been executed in the\n",
              "      current browser session. Please rerun this cell to enable.\n",
              "      </output>\n",
              "      <script>// Copyright 2017 Google LLC\n",
              "//\n",
              "// Licensed under the Apache License, Version 2.0 (the \"License\");\n",
              "// you may not use this file except in compliance with the License.\n",
              "// You may obtain a copy of the License at\n",
              "//\n",
              "//      http://www.apache.org/licenses/LICENSE-2.0\n",
              "//\n",
              "// Unless required by applicable law or agreed to in writing, software\n",
              "// distributed under the License is distributed on an \"AS IS\" BASIS,\n",
              "// WITHOUT WARRANTIES OR CONDITIONS OF ANY KIND, either express or implied.\n",
              "// See the License for the specific language governing permissions and\n",
              "// limitations under the License.\n",
              "\n",
              "/**\n",
              " * @fileoverview Helpers for google.colab Python module.\n",
              " */\n",
              "(function(scope) {\n",
              "function span(text, styleAttributes = {}) {\n",
              "  const element = document.createElement('span');\n",
              "  element.textContent = text;\n",
              "  for (const key of Object.keys(styleAttributes)) {\n",
              "    element.style[key] = styleAttributes[key];\n",
              "  }\n",
              "  return element;\n",
              "}\n",
              "\n",
              "// Max number of bytes which will be uploaded at a time.\n",
              "const MAX_PAYLOAD_SIZE = 100 * 1024;\n",
              "\n",
              "function _uploadFiles(inputId, outputId) {\n",
              "  const steps = uploadFilesStep(inputId, outputId);\n",
              "  const outputElement = document.getElementById(outputId);\n",
              "  // Cache steps on the outputElement to make it available for the next call\n",
              "  // to uploadFilesContinue from Python.\n",
              "  outputElement.steps = steps;\n",
              "\n",
              "  return _uploadFilesContinue(outputId);\n",
              "}\n",
              "\n",
              "// This is roughly an async generator (not supported in the browser yet),\n",
              "// where there are multiple asynchronous steps and the Python side is going\n",
              "// to poll for completion of each step.\n",
              "// This uses a Promise to block the python side on completion of each step,\n",
              "// then passes the result of the previous step as the input to the next step.\n",
              "function _uploadFilesContinue(outputId) {\n",
              "  const outputElement = document.getElementById(outputId);\n",
              "  const steps = outputElement.steps;\n",
              "\n",
              "  const next = steps.next(outputElement.lastPromiseValue);\n",
              "  return Promise.resolve(next.value.promise).then((value) => {\n",
              "    // Cache the last promise value to make it available to the next\n",
              "    // step of the generator.\n",
              "    outputElement.lastPromiseValue = value;\n",
              "    return next.value.response;\n",
              "  });\n",
              "}\n",
              "\n",
              "/**\n",
              " * Generator function which is called between each async step of the upload\n",
              " * process.\n",
              " * @param {string} inputId Element ID of the input file picker element.\n",
              " * @param {string} outputId Element ID of the output display.\n",
              " * @return {!Iterable<!Object>} Iterable of next steps.\n",
              " */\n",
              "function* uploadFilesStep(inputId, outputId) {\n",
              "  const inputElement = document.getElementById(inputId);\n",
              "  inputElement.disabled = false;\n",
              "\n",
              "  const outputElement = document.getElementById(outputId);\n",
              "  outputElement.innerHTML = '';\n",
              "\n",
              "  const pickedPromise = new Promise((resolve) => {\n",
              "    inputElement.addEventListener('change', (e) => {\n",
              "      resolve(e.target.files);\n",
              "    });\n",
              "  });\n",
              "\n",
              "  const cancel = document.createElement('button');\n",
              "  inputElement.parentElement.appendChild(cancel);\n",
              "  cancel.textContent = 'Cancel upload';\n",
              "  const cancelPromise = new Promise((resolve) => {\n",
              "    cancel.onclick = () => {\n",
              "      resolve(null);\n",
              "    };\n",
              "  });\n",
              "\n",
              "  // Wait for the user to pick the files.\n",
              "  const files = yield {\n",
              "    promise: Promise.race([pickedPromise, cancelPromise]),\n",
              "    response: {\n",
              "      action: 'starting',\n",
              "    }\n",
              "  };\n",
              "\n",
              "  cancel.remove();\n",
              "\n",
              "  // Disable the input element since further picks are not allowed.\n",
              "  inputElement.disabled = true;\n",
              "\n",
              "  if (!files) {\n",
              "    return {\n",
              "      response: {\n",
              "        action: 'complete',\n",
              "      }\n",
              "    };\n",
              "  }\n",
              "\n",
              "  for (const file of files) {\n",
              "    const li = document.createElement('li');\n",
              "    li.append(span(file.name, {fontWeight: 'bold'}));\n",
              "    li.append(span(\n",
              "        `(${file.type || 'n/a'}) - ${file.size} bytes, ` +\n",
              "        `last modified: ${\n",
              "            file.lastModifiedDate ? file.lastModifiedDate.toLocaleDateString() :\n",
              "                                    'n/a'} - `));\n",
              "    const percent = span('0% done');\n",
              "    li.appendChild(percent);\n",
              "\n",
              "    outputElement.appendChild(li);\n",
              "\n",
              "    const fileDataPromise = new Promise((resolve) => {\n",
              "      const reader = new FileReader();\n",
              "      reader.onload = (e) => {\n",
              "        resolve(e.target.result);\n",
              "      };\n",
              "      reader.readAsArrayBuffer(file);\n",
              "    });\n",
              "    // Wait for the data to be ready.\n",
              "    let fileData = yield {\n",
              "      promise: fileDataPromise,\n",
              "      response: {\n",
              "        action: 'continue',\n",
              "      }\n",
              "    };\n",
              "\n",
              "    // Use a chunked sending to avoid message size limits. See b/62115660.\n",
              "    let position = 0;\n",
              "    do {\n",
              "      const length = Math.min(fileData.byteLength - position, MAX_PAYLOAD_SIZE);\n",
              "      const chunk = new Uint8Array(fileData, position, length);\n",
              "      position += length;\n",
              "\n",
              "      const base64 = btoa(String.fromCharCode.apply(null, chunk));\n",
              "      yield {\n",
              "        response: {\n",
              "          action: 'append',\n",
              "          file: file.name,\n",
              "          data: base64,\n",
              "        },\n",
              "      };\n",
              "\n",
              "      let percentDone = fileData.byteLength === 0 ?\n",
              "          100 :\n",
              "          Math.round((position / fileData.byteLength) * 100);\n",
              "      percent.textContent = `${percentDone}% done`;\n",
              "\n",
              "    } while (position < fileData.byteLength);\n",
              "  }\n",
              "\n",
              "  // All done.\n",
              "  yield {\n",
              "    response: {\n",
              "      action: 'complete',\n",
              "    }\n",
              "  };\n",
              "}\n",
              "\n",
              "scope.google = scope.google || {};\n",
              "scope.google.colab = scope.google.colab || {};\n",
              "scope.google.colab._files = {\n",
              "  _uploadFiles,\n",
              "  _uploadFilesContinue,\n",
              "};\n",
              "})(self);\n",
              "</script> "
            ]
          },
          "metadata": {}
        },
        {
          "output_type": "stream",
          "name": "stdout",
          "text": [
            "Saving 00126380_annual (2).xlsx to 00126380_annual (2).xlsx\n"
          ]
        }
      ]
    },
    {
      "cell_type": "code",
      "metadata": {
        "id": "8m2sm45lAriv",
        "colab": {
          "base_uri": "https://localhost:8080/"
        },
        "outputId": "e50a2033-e123-45b0-8a10-f472b4411d9a"
      },
      "source": [
        "!ls"
      ],
      "execution_count": 16,
      "outputs": [
        {
          "output_type": "stream",
          "name": "stdout",
          "text": [
            "'00126380_annual (2).xlsx'   sample_data   test.txt\n"
          ]
        }
      ]
    },
    {
      "cell_type": "markdown",
      "metadata": {
        "id": "cfKtU4-x7UnX"
      },
      "source": [
        "## Google Drive 연동\n",
        "\n",
        "* Google Colab은 Google Drive와 `mount`를 통해 쉽게 연동 가능\n",
        "* Google Drive에 소스 코드 저장 뿐만 아니라 파일을 열거나 저장 가능"
      ]
    },
    {
      "cell_type": "code",
      "metadata": {
        "id": "q0ryTyk77UOs",
        "colab": {
          "base_uri": "https://localhost:8080/"
        },
        "outputId": "111d73d4-97ed-41ca-d446-b68ed4950dbd"
      },
      "source": [
        "from google.colab import drive\n",
        "drive.mount('/content/drive')"
      ],
      "execution_count": 17,
      "outputs": [
        {
          "output_type": "stream",
          "name": "stdout",
          "text": [
            "Mounted at /content/drive\n"
          ]
        }
      ]
    },
    {
      "cell_type": "code",
      "metadata": {
        "id": "KI96G3Fq7wg1",
        "colab": {
          "base_uri": "https://localhost:8080/"
        },
        "outputId": "8971006b-3f1e-432b-c7c7-42947b317eb7"
      },
      "source": [
        "!ls /content/drive"
      ],
      "execution_count": 18,
      "outputs": [
        {
          "output_type": "stream",
          "name": "stdout",
          "text": [
            "MyDrive\n"
          ]
        }
      ]
    },
    {
      "cell_type": "markdown",
      "metadata": {
        "id": "8OoBiBv4UBWm"
      },
      "source": [
        "\n",
        "\n",
        "---\n",
        "\n"
      ]
    },
    {
      "cell_type": "markdown",
      "metadata": {
        "id": "ID57POzYUYyl"
      },
      "source": [
        "# Jupyter Notebook\n"
      ]
    },
    {
      "cell_type": "markdown",
      "metadata": {
        "id": "ZTkr0NKRXEiq"
      },
      "source": [
        "## help()\n",
        "\n",
        "* 파이썬 객체에 대한 요약 정보와 사용법 보기"
      ]
    },
    {
      "cell_type": "code",
      "metadata": {
        "id": "S_aXiV9VW_1u",
        "colab": {
          "base_uri": "https://localhost:8080/"
        },
        "outputId": "cba3b365-d58c-4bd8-d30b-81d1b38e4e83"
      },
      "source": [
        "help(min)"
      ],
      "execution_count": 19,
      "outputs": [
        {
          "output_type": "stream",
          "name": "stdout",
          "text": [
            "Help on built-in function min in module builtins:\n",
            "\n",
            "min(...)\n",
            "    min(iterable, *[, default=obj, key=func]) -> value\n",
            "    min(arg1, arg2, *args, *[, key=func]) -> value\n",
            "    \n",
            "    With a single iterable argument, return its smallest item. The\n",
            "    default keyword-only argument specifies an object to return if\n",
            "    the provided iterable is empty.\n",
            "    With two or more arguments, return the smallest argument.\n",
            "\n"
          ]
        }
      ]
    },
    {
      "cell_type": "markdown",
      "metadata": {
        "id": "X6F7JOv0Xv2a"
      },
      "source": [
        "## ?로 설명 보기\n",
        "\n",
        "* 객체 요약 정보 및 사용법이 있는 docstring 보기"
      ]
    },
    {
      "cell_type": "code",
      "metadata": {
        "id": "KzrQ0xy0Xk42"
      },
      "source": [
        "max?"
      ],
      "execution_count": 20,
      "outputs": []
    },
    {
      "cell_type": "code",
      "metadata": {
        "id": "qDEczcmvYHmm"
      },
      "source": [
        "li = ['One', 'Two', 'Three']\n",
        "li?"
      ],
      "execution_count": 21,
      "outputs": []
    },
    {
      "cell_type": "code",
      "metadata": {
        "id": "Ep2oX_Ollb_C"
      },
      "source": [
        "li.count?"
      ],
      "execution_count": 22,
      "outputs": []
    },
    {
      "cell_type": "code",
      "metadata": {
        "id": "lpM-ijxnltUG"
      },
      "source": [
        "def power(b,n):\n",
        "  \"\"\"b의 n승을 반환\"\"\"\n",
        "  return pow(b,n)"
      ],
      "execution_count": 26,
      "outputs": []
    },
    {
      "cell_type": "code",
      "metadata": {
        "id": "l7p0YMtDmEFS"
      },
      "source": [
        "power?"
      ],
      "execution_count": 27,
      "outputs": []
    },
    {
      "cell_type": "code",
      "metadata": {
        "id": "9BS1dLnimUOb"
      },
      "source": [
        "power??"
      ],
      "execution_count": 28,
      "outputs": []
    },
    {
      "cell_type": "markdown",
      "metadata": {
        "id": "gtRsneYd-slf"
      },
      "source": [
        "## 탭(tab) 자동완성\n",
        "\n",
        "* 객체와 모듈, 인터페이스의 내용을 자동 완성"
      ]
    },
    {
      "cell_type": "code",
      "metadata": {
        "id": "PK4fJOk6-we7"
      },
      "source": [
        "li =['One', 'Two', 'Three']\n",
        "li.append\n",
        "li.clear"
      ],
      "execution_count": null,
      "outputs": []
    },
    {
      "cell_type": "markdown",
      "metadata": {
        "id": "xP7n3Oqp_N0K"
      },
      "source": [
        "##와일드카드(wildcard) 매칭\n",
        "\n",
        "* 단어의 중간이나 마지막 글자로 매칭하여 객체나 속성 찾기"
      ]
    },
    {
      "cell_type": "code",
      "metadata": {
        "id": "W7ceOXpi_JNk"
      },
      "source": [
        "*Error?"
      ],
      "execution_count": 29,
      "outputs": []
    },
    {
      "cell_type": "code",
      "metadata": {
        "id": "IMjy2bc0_TwQ"
      },
      "source": [
        "str.*index*?"
      ],
      "execution_count": 30,
      "outputs": []
    },
    {
      "cell_type": "markdown",
      "metadata": {
        "id": "yCRnab5c_mBh"
      },
      "source": [
        "## 매직 명령어(magic commands)\n",
        "\n",
        "* Jupyter Notebook 환경에서 파이썬 파일 저장 및 실행"
      ]
    },
    {
      "cell_type": "code",
      "metadata": {
        "id": "t6ufEi9q_qS4",
        "colab": {
          "base_uri": "https://localhost:8080/"
        },
        "outputId": "09f386fa-7c82-433e-8b94-4bc058f340b4"
      },
      "source": [
        "%%writefile test.py\n",
        "print('hello colab')"
      ],
      "execution_count": 32,
      "outputs": [
        {
          "output_type": "stream",
          "name": "stdout",
          "text": [
            "Overwriting test.py\n"
          ]
        }
      ]
    },
    {
      "cell_type": "code",
      "metadata": {
        "id": "GVRuezjk_wLD",
        "colab": {
          "base_uri": "https://localhost:8080/"
        },
        "outputId": "c8656672-7f78-47a6-cc0c-9cd8c27019eb"
      },
      "source": [
        "%run test.py"
      ],
      "execution_count": 33,
      "outputs": [
        {
          "output_type": "stream",
          "name": "stdout",
          "text": [
            "hello colab\n"
          ]
        }
      ]
    },
    {
      "cell_type": "markdown",
      "metadata": {
        "id": "MzKD0owDXs7r"
      },
      "source": [
        "* 코드 실행 시간 측정"
      ]
    },
    {
      "cell_type": "code",
      "metadata": {
        "id": "YfO_C9-2bQRn"
      },
      "source": [
        "%%timeit?"
      ],
      "execution_count": 34,
      "outputs": []
    },
    {
      "cell_type": "code",
      "metadata": {
        "id": "Yj-cfvBVWuf-",
        "colab": {
          "base_uri": "https://localhost:8080/"
        },
        "outputId": "3415fc17-1bf4-4807-fe62-1e867acb1ebd"
      },
      "source": [
        "%timeit li =[n**n for n in range(1000)]"
      ],
      "execution_count": 38,
      "outputs": [
        {
          "output_type": "stream",
          "name": "stdout",
          "text": [
            "9.69 ms ± 58.7 µs per loop (mean ± std. dev. of 7 runs, 100 loops each)\n"
          ]
        }
      ]
    },
    {
      "cell_type": "code",
      "metadata": {
        "id": "RbEaBBjaYHDM",
        "colab": {
          "base_uri": "https://localhost:8080/"
        },
        "outputId": "b50e56fa-68d3-4e6c-a803-fa65f212e1d8"
      },
      "source": [
        "%%timeit\n",
        "li=[]\n",
        "for n in range(10000):\n",
        "  li.append(n**n)"
      ],
      "execution_count": 51,
      "outputs": [
        {
          "output_type": "stream",
          "name": "stdout",
          "text": [
            "6.79 s ± 607 ms per loop (mean ± std. dev. of 7 runs, 1 loop each)\n"
          ]
        }
      ]
    },
    {
      "cell_type": "markdown",
      "metadata": {
        "id": "SROwYmP9rEQd"
      },
      "source": [
        "## 입력과 출력 이력\n",
        "\n",
        "* In과 Out 객체를 통해 이전 명령어와 명령어의 출력 결과 보기"
      ]
    },
    {
      "cell_type": "code",
      "metadata": {
        "id": "SjxoRZdbpttu",
        "colab": {
          "base_uri": "https://localhost:8080/"
        },
        "outputId": "5309edb5-d81a-40ee-a014-c9daae06eb6a"
      },
      "source": [
        "In"
      ],
      "execution_count": 52,
      "outputs": [
        {
          "output_type": "execute_result",
          "data": {
            "text/plain": [
              "['',\n",
              " 'import plaform\\nplatform.platform()',\n",
              " 'import platform\\nplatform.platform()',\n",
              " \"get_ipython().system('cat /etc/issue.net')\",\n",
              " \"get_ipython().system('cat /proc/cpuinfo')\",\n",
              " \"get_ipython().system('cat /proc/meminfo')\",\n",
              " \"get_ipython().system('df -h')\",\n",
              " \"get_ipython().system('python --version')\",\n",
              " \"get_ipython().system('nvidia-smi')\",\n",
              " \"get_ipython().system('nvidia-smi')\",\n",
              " \"get_ipython().system('nvidia-smi')\",\n",
              " \"get_ipython().run_cell_magic('writefile', 'test.txt', '')\",\n",
              " \"get_ipython().run_cell_magic('writefile', 'test.txt', 'text\\\\n')\",\n",
              " \"get_ipython().system('cat test.txt')\",\n",
              " \"from google.colab import files\\nfiles.download('test.txt')\",\n",
              " 'upload=files.upload()',\n",
              " \"get_ipython().system('ls')\",\n",
              " \"from google.colab import drive\\ndrive.mount('/content/drive')\",\n",
              " \"get_ipython().system('ls /content/drive')\",\n",
              " 'help(min)',\n",
              " \"get_ipython().run_line_magic('pinfo', 'max')\",\n",
              " \"li = ['One', 'Two', 'Three']\\nget_ipython().run_line_magic('pinfo', 'li')\",\n",
              " \"get_ipython().run_line_magic('pinfo', 'li.count')\",\n",
              " \"get_ipython().run_line_magic('pinfo', 'power')\",\n",
              " 'def power(b,n):\\n\"\"\"b의 n승을 반환\"\"\"\\n return pow(b,n)',\n",
              " 'def power(b,n):\\n  \"\"\"b의 n승을 반환\"\"\"\\n  return pow(b,n)',\n",
              " 'def power(b,n):\\n  \"\"\"b의 n승을 반환\"\"\"\\n  return pow(b,n)',\n",
              " \"get_ipython().run_line_magic('pinfo', 'power')\",\n",
              " \"get_ipython().run_line_magic('pinfo2', 'power')\",\n",
              " \"get_ipython().run_line_magic('psearch', '*Error')\",\n",
              " \"get_ipython().run_line_magic('psearch', 'str.*index*')\",\n",
              " \"get_ipython().run_cell_magic('writefile', 'test.py', 'print\\\\n')\",\n",
              " 'get_ipython().run_cell_magic(\\'writefile\\', \\'test.py\\', \"print(\\'hello colab\\')\\\\n\")',\n",
              " \"get_ipython().run_line_magic('run', 'test.py')\",\n",
              " \"get_ipython().run_line_magic('pinfo', '%%timeit')\",\n",
              " \"get_ipython().run_line_magic('timeit', 'li =[n**n doe n in range(1000)]')\",\n",
              " \"get_ipython().run_line_magic('timeit', 'li =[n**n for n in range(1000)]')\",\n",
              " \"get_ipython().run_line_magic('timeit', 'li =[n**n for n in range(1000)]')\\nprint(n)\",\n",
              " \"get_ipython().run_line_magic('timeit', 'li =[n**n for n in range(1000)]')\",\n",
              " \"get_ipython().run_cell_magic('timeit', '', 'li=[]\\\\nfor n in range(10000):\\\\n  li.append(n**n)\\\\n')\",\n",
              " \"get_ipython().run_cell_magic('timeit', '', 'li=[]\\\\nfor n in range(10000):\\\\n  li.append(n**n)\\\\n\\\\nprint(li)\\\\n')\",\n",
              " \"get_ipython().run_cell_magic('timeit', '', 'li=[]\\\\nfor n in range(10000):\\\\n  li.append(n**n)\\\\n\\\\nprint(li)\\\\n')\",\n",
              " 'In',\n",
              " 'In(26)',\n",
              " 'In[26]',\n",
              " 'Out',\n",
              " 'Out[31]',\n",
              " 'Out[44]',\n",
              " 'print(\"In[31]: \" + In[31] + \"\\\\nOut[31]: \" + Out[31])',\n",
              " 'print(\"In[31]: \" + In[31] + \"nOut[31]: \" + Out[31])',\n",
              " 'print(\"In[31]: \" + In[31] + \"\\\\nOut[31]: \" + Out[31])',\n",
              " \"get_ipython().run_cell_magic('timeit', '', 'li=[]\\\\nfor n in range(10000):\\\\n  li.append(n**n)\\\\n')\",\n",
              " 'In']"
            ]
          },
          "metadata": {},
          "execution_count": 52
        }
      ]
    },
    {
      "cell_type": "code",
      "metadata": {
        "id": "Bbcl7xxSr33V",
        "colab": {
          "base_uri": "https://localhost:8080/",
          "height": 35
        },
        "outputId": "a56df65a-fa2f-4604-ce42-5da4e3494ab0"
      },
      "source": [
        "In[26]"
      ],
      "execution_count": 53,
      "outputs": [
        {
          "output_type": "execute_result",
          "data": {
            "text/plain": [
              "'def power(b,n):\\n  \"\"\"b의 n승을 반환\"\"\"\\n  return pow(b,n)'"
            ],
            "application/vnd.google.colaboratory.intrinsic+json": {
              "type": "string"
            }
          },
          "metadata": {},
          "execution_count": 53
        }
      ]
    },
    {
      "cell_type": "code",
      "metadata": {
        "id": "5lJahT8crj6K",
        "colab": {
          "base_uri": "https://localhost:8080/"
        },
        "outputId": "76dd45a9-e7fc-454b-e58f-03ac466468d6"
      },
      "source": [
        "Out"
      ],
      "execution_count": 97,
      "outputs": [
        {
          "output_type": "execute_result",
          "data": {
            "text/plain": [
              "{2: 'Linux-5.10.133+-x86_64-with-Ubuntu-18.04-bionic',\n",
              " 42: ['',\n",
              "  'import plaform\\nplatform.platform()',\n",
              "  'import platform\\nplatform.platform()',\n",
              "  \"get_ipython().system('cat /etc/issue.net')\",\n",
              "  \"get_ipython().system('cat /proc/cpuinfo')\",\n",
              "  \"get_ipython().system('cat /proc/meminfo')\",\n",
              "  \"get_ipython().system('df -h')\",\n",
              "  \"get_ipython().system('python --version')\",\n",
              "  \"get_ipython().system('nvidia-smi')\",\n",
              "  \"get_ipython().system('nvidia-smi')\",\n",
              "  \"get_ipython().system('nvidia-smi')\",\n",
              "  \"get_ipython().run_cell_magic('writefile', 'test.txt', '')\",\n",
              "  \"get_ipython().run_cell_magic('writefile', 'test.txt', 'text\\\\n')\",\n",
              "  \"get_ipython().system('cat test.txt')\",\n",
              "  \"from google.colab import files\\nfiles.download('test.txt')\",\n",
              "  'upload=files.upload()',\n",
              "  \"get_ipython().system('ls')\",\n",
              "  \"from google.colab import drive\\ndrive.mount('/content/drive')\",\n",
              "  \"get_ipython().system('ls /content/drive')\",\n",
              "  'help(min)',\n",
              "  \"get_ipython().run_line_magic('pinfo', 'max')\",\n",
              "  \"li = ['One', 'Two', 'Three']\\nget_ipython().run_line_magic('pinfo', 'li')\",\n",
              "  \"get_ipython().run_line_magic('pinfo', 'li.count')\",\n",
              "  \"get_ipython().run_line_magic('pinfo', 'power')\",\n",
              "  'def power(b,n):\\n\"\"\"b의 n승을 반환\"\"\"\\n return pow(b,n)',\n",
              "  'def power(b,n):\\n  \"\"\"b의 n승을 반환\"\"\"\\n  return pow(b,n)',\n",
              "  'def power(b,n):\\n  \"\"\"b의 n승을 반환\"\"\"\\n  return pow(b,n)',\n",
              "  \"get_ipython().run_line_magic('pinfo', 'power')\",\n",
              "  \"get_ipython().run_line_magic('pinfo2', 'power')\",\n",
              "  \"get_ipython().run_line_magic('psearch', '*Error')\",\n",
              "  \"get_ipython().run_line_magic('psearch', 'str.*index*')\",\n",
              "  \"get_ipython().run_cell_magic('writefile', 'test.py', 'print\\\\n')\",\n",
              "  'get_ipython().run_cell_magic(\\'writefile\\', \\'test.py\\', \"print(\\'hello colab\\')\\\\n\")',\n",
              "  \"get_ipython().run_line_magic('run', 'test.py')\",\n",
              "  \"get_ipython().run_line_magic('pinfo', '%%timeit')\",\n",
              "  \"get_ipython().run_line_magic('timeit', 'li =[n**n doe n in range(1000)]')\",\n",
              "  \"get_ipython().run_line_magic('timeit', 'li =[n**n for n in range(1000)]')\",\n",
              "  \"get_ipython().run_line_magic('timeit', 'li =[n**n for n in range(1000)]')\\nprint(n)\",\n",
              "  \"get_ipython().run_line_magic('timeit', 'li =[n**n for n in range(1000)]')\",\n",
              "  \"get_ipython().run_cell_magic('timeit', '', 'li=[]\\\\nfor n in range(10000):\\\\n  li.append(n**n)\\\\n')\",\n",
              "  \"get_ipython().run_cell_magic('timeit', '', 'li=[]\\\\nfor n in range(10000):\\\\n  li.append(n**n)\\\\n\\\\nprint(li)\\\\n')\",\n",
              "  \"get_ipython().run_cell_magic('timeit', '', 'li=[]\\\\nfor n in range(10000):\\\\n  li.append(n**n)\\\\n\\\\nprint(li)\\\\n')\",\n",
              "  'In',\n",
              "  'In(26)',\n",
              "  'In[26]',\n",
              "  'Out',\n",
              "  'Out[31]',\n",
              "  'Out[44]',\n",
              "  'print(\"In[31]: \" + In[31] + \"\\\\nOut[31]: \" + Out[31])',\n",
              "  'print(\"In[31]: \" + In[31] + \"nOut[31]: \" + Out[31])',\n",
              "  'print(\"In[31]: \" + In[31] + \"\\\\nOut[31]: \" + Out[31])',\n",
              "  \"get_ipython().run_cell_magic('timeit', '', 'li=[]\\\\nfor n in range(10000):\\\\n  li.append(n**n)\\\\n')\",\n",
              "  'In',\n",
              "  'In[26]',\n",
              "  'Out',\n",
              "  'Out[44]',\n",
              "  'print(\"In[26]: \" + In[26] + \"\\\\nOut[44]: \" + Out[44])',\n",
              "  'print(_)',\n",
              "  'print(__)',\n",
              "  'print(___)',\n",
              "  '_30',\n",
              "  '_44',\n",
              "  \"get_ipython().run_line_magic('history', '-n 1-7')\",\n",
              "  \"get_ipython().run_line_magic('rerun', '')\",\n",
              "  \"get_ipython().run_line_magic('rerun', '')\",\n",
              "  \"get_ipython().run_line_magic('rerun', '')\",\n",
              "  'print(___)',\n",
              "  '_44',\n",
              "  \"get_ipython().run_line_magic('history', '-n 1-7')\",\n",
              "  \"get_ipython().run_line_magic('rerun', '')\",\n",
              "  \"get_ipython().system('ls')\",\n",
              "  \"get_ipython().system('pwd')\",\n",
              "  \"get_ipython().system('cd sample_data/')\",\n",
              "  \"get_ipython().system('cd sample_data/ &&')\",\n",
              "  \"get_ipython().system('cd sample_data/ && ls')\",\n",
              "  \"get_ipython().system('cd sample_data/ && ls')\",\n",
              "  \"get_ipython().system('cd sample_data/')\",\n",
              "  \"get_ipython().system('cd sample_data/')\",\n",
              "  \"get_ipython().run_line_magic('cd', 'sample_data/')\",\n",
              "  \"get_ipython().system('pwd')\",\n",
              "  'get_ipython().system(\\'echo \"Shell\"\\')',\n",
              "  \"get_ipython().system('mdir tmp')\",\n",
              "  \"get_ipython().system('ls')\",\n",
              "  \"get_ipython().system('mkdir tmp')\",\n",
              "  \"get_ipython().system('ls')\",\n",
              "  \"get_ipython().system('cat README.md')\",\n",
              "  \"get_ipython().system('cp REDA.md tmp/')\",\n",
              "  \"get_ipython().system('ls tmp')\",\n",
              "  \"get_ipython().system('cp REDAME.md tmp/')\",\n",
              "  \"get_ipython().system('ls tmp')\",\n",
              "  \"get_ipython().system('cp REDAME.md tmp/')\",\n",
              "  \"get_ipython().system('cat README.md')\",\n",
              "  \"get_ipython().system('cp REDAME.md tmp/')\",\n",
              "  \"get_ipython().system('ls tmp')\",\n",
              "  \"get_ipython().system('ls tmp/')\",\n",
              "  \"get_ipython().system('rm -r- tmp')\",\n",
              "  \"get_ipython().system('ls')\",\n",
              "  'Out'],\n",
              " 44: 'def power(b,n):\\n  \"\"\"b의 n승을 반환\"\"\"\\n  return pow(b,n)',\n",
              " 47: 'def power(b,n):\\n  \"\"\"b의 n승을 반환\"\"\"\\n  return pow(b,n)',\n",
              " 52: ['',\n",
              "  'import plaform\\nplatform.platform()',\n",
              "  'import platform\\nplatform.platform()',\n",
              "  \"get_ipython().system('cat /etc/issue.net')\",\n",
              "  \"get_ipython().system('cat /proc/cpuinfo')\",\n",
              "  \"get_ipython().system('cat /proc/meminfo')\",\n",
              "  \"get_ipython().system('df -h')\",\n",
              "  \"get_ipython().system('python --version')\",\n",
              "  \"get_ipython().system('nvidia-smi')\",\n",
              "  \"get_ipython().system('nvidia-smi')\",\n",
              "  \"get_ipython().system('nvidia-smi')\",\n",
              "  \"get_ipython().run_cell_magic('writefile', 'test.txt', '')\",\n",
              "  \"get_ipython().run_cell_magic('writefile', 'test.txt', 'text\\\\n')\",\n",
              "  \"get_ipython().system('cat test.txt')\",\n",
              "  \"from google.colab import files\\nfiles.download('test.txt')\",\n",
              "  'upload=files.upload()',\n",
              "  \"get_ipython().system('ls')\",\n",
              "  \"from google.colab import drive\\ndrive.mount('/content/drive')\",\n",
              "  \"get_ipython().system('ls /content/drive')\",\n",
              "  'help(min)',\n",
              "  \"get_ipython().run_line_magic('pinfo', 'max')\",\n",
              "  \"li = ['One', 'Two', 'Three']\\nget_ipython().run_line_magic('pinfo', 'li')\",\n",
              "  \"get_ipython().run_line_magic('pinfo', 'li.count')\",\n",
              "  \"get_ipython().run_line_magic('pinfo', 'power')\",\n",
              "  'def power(b,n):\\n\"\"\"b의 n승을 반환\"\"\"\\n return pow(b,n)',\n",
              "  'def power(b,n):\\n  \"\"\"b의 n승을 반환\"\"\"\\n  return pow(b,n)',\n",
              "  'def power(b,n):\\n  \"\"\"b의 n승을 반환\"\"\"\\n  return pow(b,n)',\n",
              "  \"get_ipython().run_line_magic('pinfo', 'power')\",\n",
              "  \"get_ipython().run_line_magic('pinfo2', 'power')\",\n",
              "  \"get_ipython().run_line_magic('psearch', '*Error')\",\n",
              "  \"get_ipython().run_line_magic('psearch', 'str.*index*')\",\n",
              "  \"get_ipython().run_cell_magic('writefile', 'test.py', 'print\\\\n')\",\n",
              "  'get_ipython().run_cell_magic(\\'writefile\\', \\'test.py\\', \"print(\\'hello colab\\')\\\\n\")',\n",
              "  \"get_ipython().run_line_magic('run', 'test.py')\",\n",
              "  \"get_ipython().run_line_magic('pinfo', '%%timeit')\",\n",
              "  \"get_ipython().run_line_magic('timeit', 'li =[n**n doe n in range(1000)]')\",\n",
              "  \"get_ipython().run_line_magic('timeit', 'li =[n**n for n in range(1000)]')\",\n",
              "  \"get_ipython().run_line_magic('timeit', 'li =[n**n for n in range(1000)]')\\nprint(n)\",\n",
              "  \"get_ipython().run_line_magic('timeit', 'li =[n**n for n in range(1000)]')\",\n",
              "  \"get_ipython().run_cell_magic('timeit', '', 'li=[]\\\\nfor n in range(10000):\\\\n  li.append(n**n)\\\\n')\",\n",
              "  \"get_ipython().run_cell_magic('timeit', '', 'li=[]\\\\nfor n in range(10000):\\\\n  li.append(n**n)\\\\n\\\\nprint(li)\\\\n')\",\n",
              "  \"get_ipython().run_cell_magic('timeit', '', 'li=[]\\\\nfor n in range(10000):\\\\n  li.append(n**n)\\\\n\\\\nprint(li)\\\\n')\",\n",
              "  'In',\n",
              "  'In(26)',\n",
              "  'In[26]',\n",
              "  'Out',\n",
              "  'Out[31]',\n",
              "  'Out[44]',\n",
              "  'print(\"In[31]: \" + In[31] + \"\\\\nOut[31]: \" + Out[31])',\n",
              "  'print(\"In[31]: \" + In[31] + \"nOut[31]: \" + Out[31])',\n",
              "  'print(\"In[31]: \" + In[31] + \"\\\\nOut[31]: \" + Out[31])',\n",
              "  \"get_ipython().run_cell_magic('timeit', '', 'li=[]\\\\nfor n in range(10000):\\\\n  li.append(n**n)\\\\n')\",\n",
              "  'In',\n",
              "  'In[26]',\n",
              "  'Out',\n",
              "  'Out[44]',\n",
              "  'print(\"In[26]: \" + In[26] + \"\\\\nOut[44]: \" + Out[44])',\n",
              "  'print(_)',\n",
              "  'print(__)',\n",
              "  'print(___)',\n",
              "  '_30',\n",
              "  '_44',\n",
              "  \"get_ipython().run_line_magic('history', '-n 1-7')\",\n",
              "  \"get_ipython().run_line_magic('rerun', '')\",\n",
              "  \"get_ipython().run_line_magic('rerun', '')\",\n",
              "  \"get_ipython().run_line_magic('rerun', '')\",\n",
              "  'print(___)',\n",
              "  '_44',\n",
              "  \"get_ipython().run_line_magic('history', '-n 1-7')\",\n",
              "  \"get_ipython().run_line_magic('rerun', '')\",\n",
              "  \"get_ipython().system('ls')\",\n",
              "  \"get_ipython().system('pwd')\",\n",
              "  \"get_ipython().system('cd sample_data/')\",\n",
              "  \"get_ipython().system('cd sample_data/ &&')\",\n",
              "  \"get_ipython().system('cd sample_data/ && ls')\",\n",
              "  \"get_ipython().system('cd sample_data/ && ls')\",\n",
              "  \"get_ipython().system('cd sample_data/')\",\n",
              "  \"get_ipython().system('cd sample_data/')\",\n",
              "  \"get_ipython().run_line_magic('cd', 'sample_data/')\",\n",
              "  \"get_ipython().system('pwd')\",\n",
              "  'get_ipython().system(\\'echo \"Shell\"\\')',\n",
              "  \"get_ipython().system('mdir tmp')\",\n",
              "  \"get_ipython().system('ls')\",\n",
              "  \"get_ipython().system('mkdir tmp')\",\n",
              "  \"get_ipython().system('ls')\",\n",
              "  \"get_ipython().system('cat README.md')\",\n",
              "  \"get_ipython().system('cp REDA.md tmp/')\",\n",
              "  \"get_ipython().system('ls tmp')\",\n",
              "  \"get_ipython().system('cp REDAME.md tmp/')\",\n",
              "  \"get_ipython().system('ls tmp')\",\n",
              "  \"get_ipython().system('cp REDAME.md tmp/')\",\n",
              "  \"get_ipython().system('cat README.md')\",\n",
              "  \"get_ipython().system('cp REDAME.md tmp/')\",\n",
              "  \"get_ipython().system('ls tmp')\",\n",
              "  \"get_ipython().system('ls tmp/')\",\n",
              "  \"get_ipython().system('rm -r- tmp')\",\n",
              "  \"get_ipython().system('ls')\",\n",
              "  'Out'],\n",
              " 53: 'def power(b,n):\\n  \"\"\"b의 n승을 반환\"\"\"\\n  return pow(b,n)',\n",
              " 55: 'def power(b,n):\\n  \"\"\"b의 n승을 반환\"\"\"\\n  return pow(b,n)',\n",
              " 61: 'def power(b,n):\\n  \"\"\"b의 n승을 반환\"\"\"\\n  return pow(b,n)',\n",
              " 67: 'def power(b,n):\\n  \"\"\"b의 n승을 반환\"\"\"\\n  return pow(b,n)'}"
            ]
          },
          "metadata": {},
          "execution_count": 97
        }
      ]
    },
    {
      "cell_type": "code",
      "metadata": {
        "id": "SMtBrmvHsNlP",
        "colab": {
          "base_uri": "https://localhost:8080/",
          "height": 35
        },
        "outputId": "595e5a14-2daa-44f0-d4ed-2e2d612f2d3a"
      },
      "source": [
        "Out[44]"
      ],
      "execution_count": 98,
      "outputs": [
        {
          "output_type": "execute_result",
          "data": {
            "text/plain": [
              "'def power(b,n):\\n  \"\"\"b의 n승을 반환\"\"\"\\n  return pow(b,n)'"
            ],
            "application/vnd.google.colaboratory.intrinsic+json": {
              "type": "string"
            }
          },
          "metadata": {},
          "execution_count": 98
        }
      ]
    },
    {
      "cell_type": "code",
      "metadata": {
        "id": "QbjVTJS4sTAG",
        "colab": {
          "base_uri": "https://localhost:8080/"
        },
        "outputId": "37566ee8-f417-4d51-8138-951c56abec11"
      },
      "source": [
        "print(\"In[26]: \" + In[26] + \"\\nOut[44]: \" + Out[44])"
      ],
      "execution_count": 99,
      "outputs": [
        {
          "output_type": "stream",
          "name": "stdout",
          "text": [
            "In[26]: def power(b,n):\n",
            "  \"\"\"b의 n승을 반환\"\"\"\n",
            "  return pow(b,n)\n",
            "Out[44]: def power(b,n):\n",
            "  \"\"\"b의 n승을 반환\"\"\"\n",
            "  return pow(b,n)\n"
          ]
        }
      ]
    },
    {
      "cell_type": "markdown",
      "metadata": {
        "id": "H4YgwfJAtNUH"
      },
      "source": [
        "* `_`를 이용해 이전 출력값 출력하기"
      ]
    },
    {
      "cell_type": "code",
      "metadata": {
        "id": "cT2w3ITLtKQF",
        "colab": {
          "base_uri": "https://localhost:8080/"
        },
        "outputId": "b30a9539-0a52-4268-8420-2cf0c891be5f"
      },
      "source": [
        "print(_)"
      ],
      "execution_count": 57,
      "outputs": [
        {
          "output_type": "stream",
          "name": "stdout",
          "text": [
            "def power(b,n):\n",
            "  \"\"\"b의 n승을 반환\"\"\"\n",
            "  return pow(b,n)\n"
          ]
        }
      ]
    },
    {
      "cell_type": "code",
      "metadata": {
        "id": "QFxB16JptUNd",
        "colab": {
          "base_uri": "https://localhost:8080/"
        },
        "outputId": "97313307-b42b-4dad-e8a8-6fd2fb4f994b"
      },
      "source": [
        "print(__)"
      ],
      "execution_count": 58,
      "outputs": [
        {
          "output_type": "stream",
          "name": "stdout",
          "text": [
            "def power(b,n):\n",
            "  \"\"\"b의 n승을 반환\"\"\"\n",
            "  return pow(b,n)\n"
          ]
        }
      ]
    },
    {
      "cell_type": "code",
      "metadata": {
        "id": "7Jfpuu6ZtWjP",
        "colab": {
          "base_uri": "https://localhost:8080/"
        },
        "outputId": "537cb220-67e6-47d0-8755-1e1d63d5092c"
      },
      "source": [
        "print(___)"
      ],
      "execution_count": 66,
      "outputs": [
        {
          "output_type": "stream",
          "name": "stdout",
          "text": [
            "def power(b,n):\n",
            "  \"\"\"b의 n승을 반환\"\"\"\n",
            "  return pow(b,n)\n"
          ]
        }
      ]
    },
    {
      "cell_type": "code",
      "metadata": {
        "id": "4j71-ohhti9u",
        "colab": {
          "base_uri": "https://localhost:8080/",
          "height": 35
        },
        "outputId": "f7cdcd94-58b8-4282-8b10-18f93de3abfb"
      },
      "source": [
        "_44"
      ],
      "execution_count": 67,
      "outputs": [
        {
          "output_type": "execute_result",
          "data": {
            "text/plain": [
              "'def power(b,n):\\n  \"\"\"b의 n승을 반환\"\"\"\\n  return pow(b,n)'"
            ],
            "application/vnd.google.colaboratory.intrinsic+json": {
              "type": "string"
            }
          },
          "metadata": {},
          "execution_count": 67
        }
      ]
    },
    {
      "cell_type": "markdown",
      "metadata": {
        "id": "Nf8CVZiTt4r-"
      },
      "source": [
        "* `%history`를 이용한 입력 이력 살펴보기"
      ]
    },
    {
      "cell_type": "code",
      "metadata": {
        "id": "GiVkb35YuQTL",
        "colab": {
          "base_uri": "https://localhost:8080/"
        },
        "outputId": "135f5cb0-3f6c-4146-d821-614e9c02b3b6"
      },
      "source": [
        "%history -n 1-7"
      ],
      "execution_count": 68,
      "outputs": [
        {
          "output_type": "stream",
          "name": "stdout",
          "text": [
            "   1:\n",
            "import plaform\n",
            "platform.platform()\n",
            "   2:\n",
            "import platform\n",
            "platform.platform()\n",
            "   3: !cat /etc/issue.net\n",
            "   4: !cat /proc/cpuinfo\n",
            "   5: !cat /proc/meminfo\n",
            "   6: !df -h\n",
            "   7: !python --version\n"
          ]
        }
      ]
    },
    {
      "cell_type": "markdown",
      "metadata": {
        "id": "1oOEYT9Zu8Yo"
      },
      "source": [
        "* `%rerun`을 이용해 이전 입력 이력 다시 실행"
      ]
    },
    {
      "cell_type": "code",
      "metadata": {
        "id": "ZWLXBxdtvCOV",
        "colab": {
          "base_uri": "https://localhost:8080/"
        },
        "outputId": "109e7bc9-6e9a-4c2c-b6a7-b69652617544"
      },
      "source": [
        "%rerun"
      ],
      "execution_count": 69,
      "outputs": [
        {
          "output_type": "stream",
          "name": "stdout",
          "text": [
            "=== Executing: ===\n",
            "%history -n 1-7\n",
            "=== Output: ===\n",
            "   1:\n",
            "import plaform\n",
            "platform.platform()\n",
            "   2:\n",
            "import platform\n",
            "platform.platform()\n",
            "   3: !cat /etc/issue.net\n",
            "   4: !cat /proc/cpuinfo\n",
            "   5: !cat /proc/meminfo\n",
            "   6: !df -h\n",
            "   7: !python --version\n"
          ]
        }
      ]
    },
    {
      "cell_type": "markdown",
      "metadata": {
        "id": "LzKq5kwvds25"
      },
      "source": [
        "## 셸 명령어\n",
        "\n",
        "* 텍스트 기반의 셸 명령어 처리\n",
        "* `!` 문자를 명령어 앞에 붙여서 셸 명령어 사용 가능"
      ]
    },
    {
      "cell_type": "markdown",
      "metadata": {
        "id": "oFThpCCPhm45"
      },
      "source": [
        "* `ls`: 디렉토리 리스트 보기"
      ]
    },
    {
      "cell_type": "code",
      "metadata": {
        "id": "7iAgViCpdvh9",
        "colab": {
          "base_uri": "https://localhost:8080/"
        },
        "outputId": "76ab8fc4-b03a-4ca0-a1c4-c883e45fdf65"
      },
      "source": [
        "!ls"
      ],
      "execution_count": 70,
      "outputs": [
        {
          "output_type": "stream",
          "name": "stdout",
          "text": [
            "'00126380_annual (2).xlsx'   drive   sample_data   test.py   test.txt\n"
          ]
        }
      ]
    },
    {
      "cell_type": "markdown",
      "metadata": {
        "id": "RuKN3MuvhvTB"
      },
      "source": [
        "* `pwd`: 현재 경로 보기"
      ]
    },
    {
      "cell_type": "code",
      "metadata": {
        "id": "aOwJCr3GekKJ",
        "colab": {
          "base_uri": "https://localhost:8080/"
        },
        "outputId": "54e002ad-1742-40c2-9482-252e261ed296"
      },
      "source": [
        "!pwd"
      ],
      "execution_count": 71,
      "outputs": [
        {
          "output_type": "stream",
          "name": "stdout",
          "text": [
            "/content\n"
          ]
        }
      ]
    },
    {
      "cell_type": "markdown",
      "metadata": {
        "id": "1dCCjWyphyOP"
      },
      "source": [
        "* `cd`: 디렉토리 변경\n",
        "* IPython에서는 임시 셸에서 실행"
      ]
    },
    {
      "cell_type": "code",
      "metadata": {
        "id": "KXtuuGvXfAU-",
        "colab": {
          "base_uri": "https://localhost:8080/"
        },
        "outputId": "2fa03511-8d06-46a6-ce5a-1dc7a75b6da3"
      },
      "source": [
        "!cd sample_data/ && ls"
      ],
      "execution_count": 101,
      "outputs": [
        {
          "output_type": "stream",
          "name": "stdout",
          "text": [
            "/bin/bash: line 0: cd: sample_data/: No such file or directory\n"
          ]
        }
      ]
    },
    {
      "cell_type": "markdown",
      "metadata": {
        "id": "yjrAafNlh65Q"
      },
      "source": [
        "* `%cd`: 지속적인 디렉토리 변경"
      ]
    },
    {
      "cell_type": "code",
      "metadata": {
        "id": "Q1MBKD4YfpyB",
        "colab": {
          "base_uri": "https://localhost:8080/"
        },
        "outputId": "08a7e7c7-858d-41c3-9b2e-7fa9eb2b9794"
      },
      "source": [
        "%cd sample_data/"
      ],
      "execution_count": 102,
      "outputs": [
        {
          "output_type": "stream",
          "name": "stdout",
          "text": [
            "[Errno 2] No such file or directory: 'sample_data/'\n",
            "/content/sample_data\n"
          ]
        }
      ]
    },
    {
      "cell_type": "code",
      "source": [
        "!pwd"
      ],
      "metadata": {
        "id": "b3xZSsdy2N_8",
        "outputId": "4e75a654-c48f-41a9-8349-4f111c47775f",
        "colab": {
          "base_uri": "https://localhost:8080/"
        }
      },
      "execution_count": 103,
      "outputs": [
        {
          "output_type": "stream",
          "name": "stdout",
          "text": [
            "/content/sample_data\n"
          ]
        }
      ]
    },
    {
      "cell_type": "markdown",
      "metadata": {
        "id": "b8xPHOjsiQCL"
      },
      "source": [
        "* `echo`: 화면 출력"
      ]
    },
    {
      "cell_type": "code",
      "metadata": {
        "id": "-9FYy8rzeljZ",
        "colab": {
          "base_uri": "https://localhost:8080/"
        },
        "outputId": "a6a840fe-95ef-4b41-8812-0cce9a78c75d"
      },
      "source": [
        "!echo \"Shell\""
      ],
      "execution_count": 104,
      "outputs": [
        {
          "output_type": "stream",
          "name": "stdout",
          "text": [
            "Shell\n"
          ]
        }
      ]
    },
    {
      "cell_type": "markdown",
      "metadata": {
        "id": "3oRMLDh_mswk"
      },
      "source": [
        "* `mkdir`: 디렉토리 생성"
      ]
    },
    {
      "cell_type": "code",
      "metadata": {
        "id": "Eofit8K-fcjG"
      },
      "source": [
        "!mkdir tmp"
      ],
      "execution_count": 83,
      "outputs": []
    },
    {
      "cell_type": "code",
      "metadata": {
        "id": "9djMxCwYiXrc",
        "colab": {
          "base_uri": "https://localhost:8080/"
        },
        "outputId": "5906fbf5-61d5-422f-8654-76d4e547098c"
      },
      "source": [
        "!ls"
      ],
      "execution_count": 84,
      "outputs": [
        {
          "output_type": "stream",
          "name": "stdout",
          "text": [
            "anscombe.json\t\t      mnist_test.csv\t     tmp\n",
            "california_housing_test.csv   mnist_train_small.csv\n",
            "california_housing_train.csv  README.md\n"
          ]
        }
      ]
    },
    {
      "cell_type": "markdown",
      "metadata": {
        "id": "Ji6oMNFQmysC"
      },
      "source": [
        "* `cat`: 파일 보기"
      ]
    },
    {
      "cell_type": "code",
      "metadata": {
        "id": "GICda8P6mg1r",
        "colab": {
          "base_uri": "https://localhost:8080/"
        },
        "outputId": "c1b8e702-7eb5-40dc-e70b-dadc21a3ca65"
      },
      "source": [
        "!cat README.md"
      ],
      "execution_count": 107,
      "outputs": [
        {
          "output_type": "stream",
          "name": "stdout",
          "text": [
            "This directory includes a few sample datasets to get you started.\n",
            "\n",
            "*   `california_housing_data*.csv` is California housing data from the 1990 US\n",
            "    Census; more information is available at:\n",
            "    https://developers.google.com/machine-learning/crash-course/california-housing-data-description\n",
            "\n",
            "*   `mnist_*.csv` is a small sample of the\n",
            "    [MNIST database](https://en.wikipedia.org/wiki/MNIST_database), which is\n",
            "    described at: http://yann.lecun.com/exdb/mnist/\n",
            "\n",
            "*   `anscombe.json` contains a copy of\n",
            "    [Anscombe's quartet](https://en.wikipedia.org/wiki/Anscombe%27s_quartet); it\n",
            "    was originally described in\n",
            "\n",
            "    Anscombe, F. J. (1973). 'Graphs in Statistical Analysis'. American\n",
            "    Statistician. 27 (1): 17-21. JSTOR 2682899.\n",
            "\n",
            "    and our copy was prepared by the\n",
            "    [vega_datasets library](https://github.com/altair-viz/vega_datasets/blob/4f67bdaad10f45e3549984e17e1b3088c731503d/vega_datasets/_data/anscombe.json).\n"
          ]
        }
      ]
    },
    {
      "cell_type": "markdown",
      "metadata": {
        "id": "3Ns4pYQJm1nR"
      },
      "source": [
        "* `cp`: 디렉토리/파일 복사"
      ]
    },
    {
      "cell_type": "code",
      "metadata": {
        "id": "-XIDsmsum7Sb",
        "colab": {
          "base_uri": "https://localhost:8080/"
        },
        "outputId": "e7a9ddfc-021e-4666-d956-be393b7b33c3"
      },
      "source": [
        "!cp REDAME.md tmp/"
      ],
      "execution_count": 108,
      "outputs": [
        {
          "output_type": "stream",
          "name": "stdout",
          "text": [
            "cp: cannot stat 'REDAME.md': No such file or directory\n"
          ]
        }
      ]
    },
    {
      "cell_type": "code",
      "metadata": {
        "id": "T_3VG78OnDb9"
      },
      "source": [
        "!ls tmp/"
      ],
      "execution_count": 94,
      "outputs": []
    },
    {
      "cell_type": "markdown",
      "metadata": {
        "id": "ZR53WLOfnGH7"
      },
      "source": [
        "* `rm`: 디렉토리/파일 삭제"
      ]
    },
    {
      "cell_type": "code",
      "metadata": {
        "id": "WI1dpUV6nJyd",
        "colab": {
          "base_uri": "https://localhost:8080/"
        },
        "outputId": "5e08dec1-e05f-40ad-e35e-810858cf0335"
      },
      "source": [
        "!rm -r- tmp"
      ],
      "execution_count": 95,
      "outputs": [
        {
          "output_type": "stream",
          "name": "stdout",
          "text": [
            "rm: invalid option -- '-'\n",
            "Try 'rm --help' for more information.\n"
          ]
        }
      ]
    },
    {
      "cell_type": "code",
      "metadata": {
        "id": "78Fr9nEhnMsg",
        "colab": {
          "base_uri": "https://localhost:8080/"
        },
        "outputId": "ba92a94c-d95e-4272-c0fc-173ea74d4220"
      },
      "source": [
        "!ls"
      ],
      "execution_count": 96,
      "outputs": [
        {
          "output_type": "stream",
          "name": "stdout",
          "text": [
            "anscombe.json\t\t      mnist_test.csv\t     tmp\n",
            "california_housing_test.csv   mnist_train_small.csv\n",
            "california_housing_train.csv  README.md\n"
          ]
        }
      ]
    },
    {
      "cell_type": "markdown",
      "metadata": {
        "id": "OrcSIf_T8gii"
      },
      "source": [
        "\n",
        "\n",
        "---\n",
        "\n"
      ]
    },
    {
      "cell_type": "markdown",
      "metadata": {
        "id": "7hDXZYpnA_DO"
      },
      "source": [
        "# 마크다운(Markdown)\n",
        "\n",
        "* 문법이 간단하고, 사용이 쉬움\n"
      ]
    },
    {
      "cell_type": "markdown",
      "metadata": {
        "id": "c0Sjw59GC_Kn"
      },
      "source": [
        "\n",
        "## 제목(Heading) 표시"
      ]
    },
    {
      "cell_type": "markdown",
      "metadata": {
        "id": "WXfs_Cu1Co-H"
      },
      "source": []
    },
    {
      "cell_type": "markdown",
      "metadata": {
        "id": "oTWz1WgDBtqM"
      },
      "source": [
        "## 목록(List) 구성\n",
        "\n"
      ]
    },
    {
      "cell_type": "markdown",
      "metadata": {
        "id": "fSJ0j0Y8CsKW"
      },
      "source": []
    },
    {
      "cell_type": "markdown",
      "metadata": {
        "id": "TsaBsQUsCTE0"
      },
      "source": [
        "## 폰트 스타일(Font Style)\n",
        "\n"
      ]
    },
    {
      "cell_type": "markdown",
      "metadata": {
        "id": "Fu4Lk62RCivG"
      },
      "source": []
    },
    {
      "cell_type": "markdown",
      "metadata": {
        "id": "P8PLWLSODwrS"
      },
      "source": [
        "## 인용구\n",
        "\n"
      ]
    },
    {
      "cell_type": "markdown",
      "metadata": {
        "id": "gchOf72GD5lt"
      },
      "source": []
    },
    {
      "cell_type": "markdown",
      "metadata": {
        "id": "Jw5EeYO9D8AI"
      },
      "source": [
        "## 링크\n",
        "\n"
      ]
    },
    {
      "cell_type": "markdown",
      "metadata": {
        "id": "2NVoA14BEMqB"
      },
      "source": []
    },
    {
      "cell_type": "markdown",
      "metadata": {
        "id": "XclscvygEVcp"
      },
      "source": [
        "## 이미지\n"
      ]
    },
    {
      "cell_type": "markdown",
      "metadata": {
        "id": "puOkShcgEnuq"
      },
      "source": []
    },
    {
      "cell_type": "markdown",
      "metadata": {
        "id": "mVy5Qmd4Erlp"
      },
      "source": [
        "## 수평선\n",
        "\n",
        "\n"
      ]
    },
    {
      "cell_type": "markdown",
      "metadata": {
        "id": "VhNkI-8VEviE"
      },
      "source": []
    },
    {
      "cell_type": "markdown",
      "metadata": {
        "id": "hBVgu-TnEyFt"
      },
      "source": [
        "## 표\n",
        "\n",
        "\n"
      ]
    },
    {
      "cell_type": "markdown",
      "metadata": {
        "id": "5X87z4qYFFF-"
      },
      "source": [
        "| C1 | C2 | C3  |\n",
        "|:---|---:|:---:|\n",
        "| D1 | D2 | D3 |"
      ]
    },
    {
      "cell_type": "markdown",
      "metadata": {
        "id": "hqpFpco_FMfT"
      },
      "source": [
        "## 코드\n",
        "\n",
        "\n",
        "\n",
        "\n"
      ]
    },
    {
      "cell_type": "markdown",
      "metadata": {
        "id": "32V1r2KeG1He"
      },
      "source": []
    }
  ]
}