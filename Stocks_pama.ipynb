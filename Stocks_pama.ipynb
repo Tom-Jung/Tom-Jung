{
  "cells": [
    {
      "cell_type": "markdown",
      "metadata": {
        "id": "view-in-github",
        "colab_type": "text"
      },
      "source": [
        "<a href=\"https://colab.research.google.com/github/Tom-Jung/Tom-Jung/blob/main/Stocks_pama.ipynb\" target=\"_parent\"><img src=\"https://colab.research.google.com/assets/colab-badge.svg\" alt=\"Open In Colab\"/></a>"
      ]
    },
    {
      "cell_type": "code",
      "source": [
        "pip install requests beautifulsoup4 pandas\n"
      ],
      "metadata": {
        "id": "BFqp3tEZ72GN",
        "outputId": "c391c03a-5772-4f8c-fafd-e3ee8fcfefcf",
        "colab": {
          "base_uri": "https://localhost:8080/"
        }
      },
      "execution_count": 10,
      "outputs": [
        {
          "output_type": "stream",
          "name": "stdout",
          "text": [
            "Requirement already satisfied: requests in /usr/local/lib/python3.11/dist-packages (2.32.3)\n",
            "Requirement already satisfied: beautifulsoup4 in /usr/local/lib/python3.11/dist-packages (4.13.3)\n",
            "Requirement already satisfied: pandas in /usr/local/lib/python3.11/dist-packages (2.2.2)\n",
            "Requirement already satisfied: charset-normalizer<4,>=2 in /usr/local/lib/python3.11/dist-packages (from requests) (3.4.1)\n",
            "Requirement already satisfied: idna<4,>=2.5 in /usr/local/lib/python3.11/dist-packages (from requests) (3.10)\n",
            "Requirement already satisfied: urllib3<3,>=1.21.1 in /usr/local/lib/python3.11/dist-packages (from requests) (2.3.0)\n",
            "Requirement already satisfied: certifi>=2017.4.17 in /usr/local/lib/python3.11/dist-packages (from requests) (2025.1.31)\n",
            "Requirement already satisfied: soupsieve>1.2 in /usr/local/lib/python3.11/dist-packages (from beautifulsoup4) (2.6)\n",
            "Requirement already satisfied: typing-extensions>=4.0.0 in /usr/local/lib/python3.11/dist-packages (from beautifulsoup4) (4.12.2)\n",
            "Requirement already satisfied: numpy>=1.23.2 in /usr/local/lib/python3.11/dist-packages (from pandas) (1.26.4)\n",
            "Requirement already satisfied: python-dateutil>=2.8.2 in /usr/local/lib/python3.11/dist-packages (from pandas) (2.8.2)\n",
            "Requirement already satisfied: pytz>=2020.1 in /usr/local/lib/python3.11/dist-packages (from pandas) (2025.1)\n",
            "Requirement already satisfied: tzdata>=2022.7 in /usr/local/lib/python3.11/dist-packages (from pandas) (2025.1)\n",
            "Requirement already satisfied: six>=1.5 in /usr/local/lib/python3.11/dist-packages (from python-dateutil>=2.8.2->pandas) (1.17.0)\n"
          ]
        }
      ]
    },
    {
      "cell_type": "code",
      "source": [
        "import requests\n",
        "from bs4 import BeautifulSoup\n",
        "import time\n",
        "from datetime import datetime\n",
        "import pytz\n",
        "from IPython.display import display, clear_output, HTML  # Jupyter Notebook 출력 관리\n",
        "\n",
        "# 🔹 한국 시간대 설정\n",
        "kst = pytz.timezone(\"Asia/Seoul\")\n",
        "\n",
        "# 🔹 네이버 금융에서 실시간 주가 가져오기\n",
        "def get_naver_stock_price(stock_code):\n",
        "    url = f\"https://finance.naver.com/item/main.naver?code={stock_code}\"\n",
        "    headers = {\"User-Agent\": \"Mozilla/5.0\"}\n",
        "\n",
        "    try:\n",
        "        response = requests.get(url, headers=headers)\n",
        "        response.raise_for_status()\n",
        "        soup = BeautifulSoup(response.text, \"html.parser\")\n",
        "\n",
        "        price_tag = soup.select_one(\"p.no_today span.blind\")\n",
        "        if price_tag:\n",
        "            return int(price_tag.text.replace(\",\", \"\"))\n",
        "        else:\n",
        "            return None\n",
        "    except requests.RequestException:\n",
        "        return None\n",
        "\n",
        "# 🔹 보유 주식 정보\n",
        "portfolio = [\n",
        "    {\"종목명\": \"코스모신소재\", \"종목코드\": \"005070\", \"매입가\": 164598, \"수량\": 318},\n",
        "    {\"종목명\": \"POSCO홀딩스\", \"종목코드\": \"005490\", \"매입가\": 522538, \"수량\": 130},\n",
        "    {\"종목명\": \"한화오션\", \"종목코드\": \"042660\", \"매입가\": 44000, \"수량\": 300},\n",
        "    {\"종목명\": \"에코프로비엠\", \"종목코드\": \"247540\", \"매입가\": 499538, \"수량\": 70}\n",
        "]\n",
        "\n",
        "# 🔹 실시간 모니터링 (Jupyter Notebook 최적화)\n",
        "try:\n",
        "    while True:\n",
        "        # 이전 출력 삭제 (Jupyter Notebook)\n",
        "        clear_output(wait=True)\n",
        "\n",
        "        # 현재 한국시간\n",
        "        current_time = datetime.now(kst).strftime(\"[%Y-%m-%d %H:%M:%S]\")\n",
        "\n",
        "        # HTML 테이블 시작\n",
        "        html_output = f\"<h3>{current_time}</h3>\"\n",
        "        html_output += \"\"\"\n",
        "        <table border=\"1\" style=\"border-collapse: collapse; width: 100%; text-align: center;\">\n",
        "            <tr style=\"background-color: #f2f2f2;\">\n",
        "                <th>종목명</th>\n",
        "                <th>매입가</th>\n",
        "                <th>현재가</th>\n",
        "                <th>수량</th>\n",
        "                <th>손익(원)</th>\n",
        "                <th>수익률(%)</th>\n",
        "            </tr>\n",
        "        \"\"\"\n",
        "\n",
        "        for stock in portfolio:\n",
        "            current_price = get_naver_stock_price(stock[\"종목코드\"])\n",
        "            if current_price is None:\n",
        "                continue\n",
        "\n",
        "            purchase_price = stock[\"매입가\"]\n",
        "            quantity = stock[\"수량\"]\n",
        "\n",
        "            total_purchase = purchase_price * quantity\n",
        "            total_current = current_price * quantity\n",
        "            profit_loss = total_current - total_purchase\n",
        "            profit_percent = (profit_loss / total_purchase) * 100\n",
        "\n",
        "            # 🔹 손익 및 수익률에 색상 적용 (빨간색: 플러스, 파란색: 마이너스)\n",
        "            profit_color = \"red\" if profit_loss >= 0 else \"blue\"\n",
        "            percent_color = \"red\" if profit_percent >= 0 else \"blue\"\n",
        "\n",
        "            profit_loss_html = f'<span style=\"color: {profit_color};\">{profit_loss:+,}</span>'\n",
        "            profit_percent_html = f'<span style=\"color: {percent_color};\">{profit_percent:+.2f}%</span>'\n",
        "\n",
        "            # HTML 테이블 행 추가\n",
        "            html_output += f\"\"\"\n",
        "            <tr>\n",
        "                <td>{stock['종목명']}</td>\n",
        "                <td>{purchase_price:,}</td>\n",
        "                <td>{current_price:,}</td>\n",
        "                <td>{quantity:,}</td>\n",
        "                <td>{profit_loss_html}</td>\n",
        "                <td>{profit_percent_html}</td>\n",
        "            </tr>\n",
        "            \"\"\"\n",
        "\n",
        "        # HTML 테이블 종료\n",
        "        html_output += \"</table>\"\n",
        "\n",
        "        # 최신 결과 출력 (HTML 방식)\n",
        "        display(HTML(html_output))\n",
        "\n",
        "        time.sleep(2)  # 2초마다 업데이트\n",
        "\n",
        "except KeyboardInterrupt:\n",
        "    print(\"\\n📌 프로그램 종료.\")\n"
      ],
      "metadata": {
        "id": "SovlY85zMZxi",
        "outputId": "d4d41d17-681d-43ee-aa87-fd8712a999ad",
        "colab": {
          "base_uri": "https://localhost:8080/",
          "height": 160
        }
      },
      "execution_count": null,
      "outputs": [
        {
          "output_type": "display_data",
          "data": {
            "text/plain": [
              "<IPython.core.display.HTML object>"
            ],
            "text/html": [
              "<h3>[2025-02-18 17:40:15]</h3>\n",
              "        <table border=\"1\" style=\"border-collapse: collapse; width: 100%; text-align: center;\">\n",
              "            <tr style=\"background-color: #f2f2f2;\">\n",
              "                <th>종목명</th>\n",
              "                <th>매입가</th>\n",
              "                <th>현재가</th>\n",
              "                <th>수량</th>\n",
              "                <th>손익(원)</th>\n",
              "                <th>수익률(%)</th>\n",
              "            </tr>\n",
              "        \n",
              "            <tr>\n",
              "                <td>코스모신소재</td>\n",
              "                <td>164,598</td>\n",
              "                <td>49,600</td>\n",
              "                <td>318</td>\n",
              "                <td><span style=\"color: blue;\">-36,569,364</span></td>\n",
              "                <td><span style=\"color: blue;\">-69.87%</span></td>\n",
              "            </tr>\n",
              "            \n",
              "            <tr>\n",
              "                <td>POSCO홀딩스</td>\n",
              "                <td>522,538</td>\n",
              "                <td>248,500</td>\n",
              "                <td>130</td>\n",
              "                <td><span style=\"color: blue;\">-35,624,940</span></td>\n",
              "                <td><span style=\"color: blue;\">-52.44%</span></td>\n",
              "            </tr>\n",
              "            \n",
              "            <tr>\n",
              "                <td>한화오션</td>\n",
              "                <td>44,000</td>\n",
              "                <td>77,600</td>\n",
              "                <td>300</td>\n",
              "                <td><span style=\"color: red;\">+10,080,000</span></td>\n",
              "                <td><span style=\"color: red;\">+76.36%</span></td>\n",
              "            </tr>\n",
              "            \n",
              "            <tr>\n",
              "                <td>에코프로비엠</td>\n",
              "                <td>499,538</td>\n",
              "                <td>128,400</td>\n",
              "                <td>70</td>\n",
              "                <td><span style=\"color: blue;\">-25,979,660</span></td>\n",
              "                <td><span style=\"color: blue;\">-74.30%</span></td>\n",
              "            </tr>\n",
              "            </table>"
            ]
          },
          "metadata": {}
        }
      ]
    },
    {
      "cell_type": "code",
      "source": [
        "import sys\n",
        "import time\n",
        "\n",
        "for i in range(10):\n",
        "    sys.stdout.write(\"\\033[H\\033[J\")  # 화면 전체 삭제\n",
        "    sys.stdout.flush()\n",
        "    print(f\"최신 데이터: {i}\")  # 새로운 결과 출력\n",
        "    time.sleep(1)  # 1초 대기\n"
      ],
      "metadata": {
        "id": "VKFLxu_RM8UK",
        "outputId": "2cff75d6-a414-41fa-a4b6-b5ee0c7d5474",
        "colab": {
          "base_uri": "https://localhost:8080/"
        }
      },
      "execution_count": 37,
      "outputs": [
        {
          "output_type": "stream",
          "name": "stdout",
          "text": [
            "\u001b[H\u001b[J최신 데이터: 0\n",
            "\u001b[H\u001b[J최신 데이터: 1\n",
            "\u001b[H\u001b[J최신 데이터: 2\n",
            "\u001b[H\u001b[J최신 데이터: 3\n",
            "\u001b[H\u001b[J최신 데이터: 4\n",
            "\u001b[H\u001b[J최신 데이터: 5\n",
            "\u001b[H\u001b[J최신 데이터: 6\n",
            "\u001b[H\u001b[J최신 데이터: 7\n",
            "\u001b[H\u001b[J최신 데이터: 8\n",
            "\u001b[H\u001b[J최신 데이터: 9\n"
          ]
        }
      ]
    },
    {
      "cell_type": "code",
      "source": [
        "import gspread\n",
        "from oauth2client.service_account import ServiceAccountCredentials\n",
        "\n",
        "# Google Sheets API 인증 설정\n",
        "scope = [\"https://spreadsheets.google.com/feeds\", \"https://www.googleapis.com/auth/spreadsheets\", \"https://www.googleapis.com/auth/drive\"]\n",
        "creds = ServiceAccountCredentials.from_json_keyfile_name(\"your-credentials-file.json\", scope)\n",
        "client = gspread.authorize(creds)\n",
        "\n",
        "# 스프레드시트 열기 (파일명 또는 ID 입력)\n",
        "spreadsheet = client.open(\"RealTime_Stock\")  # Google Sheets 파일명\n",
        "sheet = spreadsheet.sheet1  # 첫 번째 시트 선택\n",
        "\n",
        "# 데이터 업데이트 (A1 셀에 \"Hello, Colab!\" 입력)\n",
        "sheet.update(\"A1\", \"Hello, Colab!\")\n",
        "\n",
        "print(\"Google Sheets 업데이트 완료!\")\n"
      ],
      "metadata": {
        "id": "25ANPzzgAI13",
        "outputId": "c403234f-b7b1-4b75-ff22-9c76f1789c3e",
        "colab": {
          "base_uri": "https://localhost:8080/",
          "height": 347
        }
      },
      "execution_count": 7,
      "outputs": [
        {
          "output_type": "error",
          "ename": "FileNotFoundError",
          "evalue": "[Errno 2] No such file or directory: 'your-credentials-file.json'",
          "traceback": [
            "\u001b[0;31m---------------------------------------------------------------------------\u001b[0m",
            "\u001b[0;31mFileNotFoundError\u001b[0m                         Traceback (most recent call last)",
            "\u001b[0;32m<ipython-input-7-edcf03bfea6a>\u001b[0m in \u001b[0;36m<cell line: 0>\u001b[0;34m()\u001b[0m\n\u001b[1;32m      4\u001b[0m \u001b[0;31m# Google Sheets API 인증 설정\u001b[0m\u001b[0;34m\u001b[0m\u001b[0;34m\u001b[0m\u001b[0m\n\u001b[1;32m      5\u001b[0m \u001b[0mscope\u001b[0m \u001b[0;34m=\u001b[0m \u001b[0;34m[\u001b[0m\u001b[0;34m\"https://spreadsheets.google.com/feeds\"\u001b[0m\u001b[0;34m,\u001b[0m \u001b[0;34m\"https://www.googleapis.com/auth/spreadsheets\"\u001b[0m\u001b[0;34m,\u001b[0m \u001b[0;34m\"https://www.googleapis.com/auth/drive\"\u001b[0m\u001b[0;34m]\u001b[0m\u001b[0;34m\u001b[0m\u001b[0;34m\u001b[0m\u001b[0m\n\u001b[0;32m----> 6\u001b[0;31m \u001b[0mcreds\u001b[0m \u001b[0;34m=\u001b[0m \u001b[0mServiceAccountCredentials\u001b[0m\u001b[0;34m.\u001b[0m\u001b[0mfrom_json_keyfile_name\u001b[0m\u001b[0;34m(\u001b[0m\u001b[0;34m\"your-credentials-file.json\"\u001b[0m\u001b[0;34m,\u001b[0m \u001b[0mscope\u001b[0m\u001b[0;34m)\u001b[0m\u001b[0;34m\u001b[0m\u001b[0;34m\u001b[0m\u001b[0m\n\u001b[0m\u001b[1;32m      7\u001b[0m \u001b[0mclient\u001b[0m \u001b[0;34m=\u001b[0m \u001b[0mgspread\u001b[0m\u001b[0;34m.\u001b[0m\u001b[0mauthorize\u001b[0m\u001b[0;34m(\u001b[0m\u001b[0mcreds\u001b[0m\u001b[0;34m)\u001b[0m\u001b[0;34m\u001b[0m\u001b[0;34m\u001b[0m\u001b[0m\n\u001b[1;32m      8\u001b[0m \u001b[0;34m\u001b[0m\u001b[0m\n",
            "\u001b[0;32m/usr/local/lib/python3.11/dist-packages/oauth2client/service_account.py\u001b[0m in \u001b[0;36mfrom_json_keyfile_name\u001b[0;34m(cls, filename, scopes, token_uri, revoke_uri)\u001b[0m\n\u001b[1;32m    217\u001b[0m                 \u001b[0mthe\u001b[0m \u001b[0mkeyfile\u001b[0m\u001b[0;34m.\u001b[0m\u001b[0;34m\u001b[0m\u001b[0;34m\u001b[0m\u001b[0m\n\u001b[1;32m    218\u001b[0m         \"\"\"\n\u001b[0;32m--> 219\u001b[0;31m         \u001b[0;32mwith\u001b[0m \u001b[0mopen\u001b[0m\u001b[0;34m(\u001b[0m\u001b[0mfilename\u001b[0m\u001b[0;34m,\u001b[0m \u001b[0;34m'r'\u001b[0m\u001b[0;34m)\u001b[0m \u001b[0;32mas\u001b[0m \u001b[0mfile_obj\u001b[0m\u001b[0;34m:\u001b[0m\u001b[0;34m\u001b[0m\u001b[0;34m\u001b[0m\u001b[0m\n\u001b[0m\u001b[1;32m    220\u001b[0m             \u001b[0mclient_credentials\u001b[0m \u001b[0;34m=\u001b[0m \u001b[0mjson\u001b[0m\u001b[0;34m.\u001b[0m\u001b[0mload\u001b[0m\u001b[0;34m(\u001b[0m\u001b[0mfile_obj\u001b[0m\u001b[0;34m)\u001b[0m\u001b[0;34m\u001b[0m\u001b[0;34m\u001b[0m\u001b[0m\n\u001b[1;32m    221\u001b[0m         return cls._from_parsed_json_keyfile(client_credentials, scopes,\n",
            "\u001b[0;31mFileNotFoundError\u001b[0m: [Errno 2] No such file or directory: 'your-credentials-file.json'"
          ]
        }
      ]
    }
  ],
  "metadata": {
    "colab": {
      "name": "scratchpad",
      "provenance": [],
      "include_colab_link": true
    },
    "kernelspec": {
      "display_name": "Python 3",
      "name": "python3"
    }
  },
  "nbformat": 4,
  "nbformat_minor": 0
}